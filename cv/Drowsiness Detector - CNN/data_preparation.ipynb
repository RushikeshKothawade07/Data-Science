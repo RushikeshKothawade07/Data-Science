{
 "cells": [
  {
   "cell_type": "code",
   "execution_count": 1,
   "id": "c590e147",
   "metadata": {},
   "outputs": [],
   "source": [
    "import os  # Importing the os module for interacting with the operating system\n",
    "import shutil  # Importing the shutil module for high-level file operations\n",
    "import glob  # Importing the glob module for file and directory pattern matching\n",
    "from tqdm import tqdm  # Importing the tqdm module for creating progress bars\n"
   ]
  },
  {
   "cell_type": "code",
   "execution_count": 9,
   "id": "ae70a314",
   "metadata": {},
   "outputs": [
    {
     "name": "stderr",
     "output_type": "stream",
     "text": [
      "100%|██████████████████████████████████████████████████████████████████████████████████| 37/37 [01:02<00:00,  1.70s/it]\n"
     ]
    }
   ],
   "source": [
    "import os\n",
    "import shutil\n",
    "import random\n",
    "from tqdm import tqdm\n",
    "\n",
    "# Define the paths\n",
    "raw_data = r'C:\\Users\\RUSHIKESH\\Desktop\\Drowsiness project\\mrlEyes_2018_01\\data'\n",
    "train_data = r'C:\\Users\\RUSHIKESH\\Desktop\\Drowsiness project\\prepared_data\\train'\n",
    "test_data = r'C:\\Users\\RUSHIKESH\\Desktop\\Drowsiness project\\prepared_data\\test'\n",
    "\n",
    "# Define the subfolder names\n",
    "open_eyes_folder = 'open_eyes'\n",
    "closed_eyes_folder = 'closed_eyes'\n",
    "\n",
    "# Create the train and test folders\n",
    "os.makedirs(train_data, exist_ok=True)\n",
    "os.makedirs(test_data, exist_ok=True)\n",
    "\n",
    "# Create the subfolders in train and test folders\n",
    "os.makedirs(os.path.join(train_data, open_eyes_folder), exist_ok=True)\n",
    "os.makedirs(os.path.join(train_data, closed_eyes_folder), exist_ok=True)\n",
    "os.makedirs(os.path.join(test_data, open_eyes_folder), exist_ok=True)\n",
    "os.makedirs(os.path.join(test_data, closed_eyes_folder), exist_ok=True)\n",
    "\n",
    "# List all directories in the raw data directory\n",
    "directories = [d for d in os.listdir(raw_data) if os.path.isdir(os.path.join(raw_data, d))]\n",
    "\n",
    "# Iterate over the directories and files\n",
    "for directory in tqdm(directories):\n",
    "    directory_path = os.path.join(raw_data, directory)\n",
    "    files = [f for f in os.listdir(directory_path) if f.endswith('.png')]\n",
    "    random.shuffle(files)\n",
    "    \n",
    "    # Calculate the split index\n",
    "    split_index = int(0.9 * len(files))\n",
    "    \n",
    "    # Iterate over the files and copy them to train or test folders\n",
    "    for i, file in enumerate(files):\n",
    "        source_path = os.path.join(directory_path, file)\n",
    "        \n",
    "        if i < split_index:\n",
    "            # Copy to train folder\n",
    "            if file.split('_')[4] == '0':\n",
    "                destination_path = os.path.join(train_data, closed_eyes_folder, file)\n",
    "            else:\n",
    "                destination_path = os.path.join(train_data, open_eyes_folder, file)\n",
    "        else:\n",
    "            # Copy to test folder\n",
    "            if file.split('_')[4] == '0':\n",
    "                destination_path = os.path.join(test_data, closed_eyes_folder, file)\n",
    "            else:\n",
    "                destination_path = os.path.join(test_data, open_eyes_folder, file)\n",
    "        \n",
    "        shutil.copy(source_path, destination_path)\n"
   ]
  },
  {
   "cell_type": "code",
   "execution_count": null,
   "id": "fef5fa38",
   "metadata": {},
   "outputs": [],
   "source": []
  }
 ],
 "metadata": {
  "kernelspec": {
   "display_name": "Python 3 (ipykernel)",
   "language": "python",
   "name": "python3"
  },
  "language_info": {
   "codemirror_mode": {
    "name": "ipython",
    "version": 3
   },
   "file_extension": ".py",
   "mimetype": "text/x-python",
   "name": "python",
   "nbconvert_exporter": "python",
   "pygments_lexer": "ipython3",
   "version": "3.10.9"
  }
 },
 "nbformat": 4,
 "nbformat_minor": 5
}
