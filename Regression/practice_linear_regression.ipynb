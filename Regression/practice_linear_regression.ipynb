{
 "cells": [
  {
   "cell_type": "code",
   "execution_count": 9,
   "id": "cb6dc677",
   "metadata": {},
   "outputs": [],
   "source": [
    "import matplotlib.pyplot as plt\n",
    "import numpy as np\n",
    "from sklearn import linear_model\n",
    "from sklearn.metrics import mean_squared_error"
   ]
  },
  {
   "cell_type": "code",
   "execution_count": 10,
   "id": "04d734d1",
   "metadata": {},
   "outputs": [],
   "source": [
    "df_X = np.array([[1],[2],[3]])"
   ]
  },
  {
   "cell_type": "code",
   "execution_count": 31,
   "id": "7eca7080",
   "metadata": {},
   "outputs": [],
   "source": [
    "df_X_train = df_X\n",
    "df_X_test = df_X\n",
    "\n",
    "df_Y_train = np.array([3,2,4])\n",
    "df_Y_test = np.array([3,2,4])"
   ]
  },
  {
   "cell_type": "code",
   "execution_count": 32,
   "id": "9a9d1af3",
   "metadata": {},
   "outputs": [],
   "source": [
    "model = linear_model.LinearRegression() \n",
    "model.fit(df_X_train,df_Y_train)\n",
    "df_Y_predicted  = model.predict(df_X_test)"
   ]
  },
  {
   "cell_type": "code",
   "execution_count": 33,
   "id": "ded5fdf6",
   "metadata": {},
   "outputs": [
    {
     "name": "stdout",
     "output_type": "stream",
     "text": [
      "Mean squared error is:  0.5000000000000001\n",
      "Weights:  [0.5]\n",
      "Intercept:  2.0\n"
     ]
    }
   ],
   "source": [
    "print(\"Mean squared error is: \", mean_squared_error(df_Y_test, df_Y_predicted))\n",
    "\n",
    "print(\"Weights: \", model.coef_)\n",
    "print(\"Intercept: \", model.intercept_)"
   ]
  },
  {
   "cell_type": "code",
   "execution_count": 34,
   "id": "bb3edcdd",
   "metadata": {},
   "outputs": [
    {
     "data": {
      "text/plain": [
       "[<matplotlib.lines.Line2D at 0x2cf281fcf10>]"
      ]
     },
     "execution_count": 34,
     "metadata": {},
     "output_type": "execute_result"
    },
    {
     "data": {
      "image/png": "[encoded data removed]",
      "text/plain": [
       "<Figure size 432x288 with 1 Axes>"
      ]
     },
     "metadata": {
      "needs_background": "light"
     },
     "output_type": "display_data"
    }
   ],
   "source": [
    "plt.scatter(df_X_test,df_Y_test)\n",
    "plt.plot(df_X_test,df_Y_predicted)"
   ]
  },
  {
   "cell_type": "code",
   "execution_count": null,
   "id": "03edabb4",
   "metadata": {},
   "outputs": [],
   "source": []
  }
 ],
 "metadata": {
  "kernelspec": {
   "display_name": "Python 3 (ipykernel)",
   "language": "python",
   "name": "python3"
  },
  "language_info": {
   "codemirror_mode": {
    "name": "ipython",
    "version": 3
   },
   "file_extension": ".py",
   "mimetype": "text/x-python",
   "name": "python",
   "nbconvert_exporter": "python",
   "pygments_lexer": "ipython3",
   "version": "3.9.12"
  }
 },
 "nbformat": 4,
 "nbformat_minor": 5
}
