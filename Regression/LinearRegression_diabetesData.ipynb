{
 "cells": [
  {
   "cell_type": "code",
   "execution_count": 59,
   "id": "d7f3e68d",
   "metadata": {},
   "outputs": [],
   "source": [
    "import matplotlib.pyplot as plt\n",
    "import numpy as np\n",
    "from sklearn import datasets,linear_model\n",
    "from sklearn.metrics import mean_squared_error"
   ]
  },
  {
   "cell_type": "code",
   "execution_count": 60,
   "id": "3cc2571b",
   "metadata": {},
   "outputs": [],
   "source": [
    "diabetes = datasets.load_diabetes()"
   ]
  },
  {
   "cell_type": "code",
   "execution_count": 61,
   "id": "9da6fc91",
   "metadata": {},
   "outputs": [
    {
     "data": {
      "text/plain": [
       "dict_keys(['data', 'target', 'frame', 'DESCR', 'feature_names', 'data_filename', 'target_filename', 'data_module'])"
      ]
     },
     "execution_count": 61,
     "metadata": {},
     "output_type": "execute_result"
    }
   ],
   "source": [
    "diabetes.keys()"
   ]
  },
  {
   "cell_type": "code",
   "execution_count": 75,
   "id": "2902af72",
   "metadata": {},
   "outputs": [],
   "source": [
    "diabetes_X  = diabetes.data[:,np.newaxis,2] \n",
    "# diabetes_X  = diabetes.data => to take all the features"
   ]
  },
  {
   "cell_type": "code",
   "execution_count": 76,
   "id": "9a69ea30",
   "metadata": {},
   "outputs": [],
   "source": [
    "diabetes_X_train = diabetes_X[:-30]\n",
    "diabetes_X_test = diabetes_X[-30:]\n",
    "\n",
    "diabetes_y_train = diabetes.target[:-30]\n",
    "diabetes_y_test = diabetes.target[-30:]"
   ]
  },
  {
   "cell_type": "code",
   "execution_count": 77,
   "id": "a69293dd",
   "metadata": {},
   "outputs": [],
   "source": [
    "model = linear_model.LinearRegression()\n",
    "\n",
    "model.fit(diabetes_X_train, diabetes_y_train)\n",
    "\n",
    "diabetes_y_predicted = model.predict(diabetes_X_test)"
   ]
  },
  {
   "cell_type": "code",
   "execution_count": 78,
   "id": "d0a1a516",
   "metadata": {},
   "outputs": [
    {
     "name": "stdout",
     "output_type": "stream",
     "text": [
      "Mean squared error is:  3035.0601152912686\n",
      "Weights:  [941.43097333]\n",
      "Intercept:  153.39713623331698\n"
     ]
    }
   ],
   "source": [
    "print(\"Mean squared error is: \", mean_squared_error(diabetes_y_test, diabetes_y_predicted))\n",
    "\n",
    "print(\"Weights: \", model.coef_)\n",
    "print(\"Intercept: \", model.intercept_)"
   ]
  },
  {
   "cell_type": "code",
   "execution_count": 79,
   "id": "cff0b912",
   "metadata": {},
   "outputs": [
    {
     "data": {
      "image/png": "[encoded data removed]",
      "text/plain": [
       "<Figure size 432x288 with 1 Axes>"
      ]
     },
     "metadata": {
      "needs_background": "light"
     },
     "output_type": "display_data"
    }
   ],
   "source": [
    "plt.scatter(diabetes_X_test,diabetes_y_test)\n",
    "plt.plot(diabetes_X_test,diabetes_y_predicted)\n",
    "plt.show()"
   ]
  },
  {
   "cell_type": "code",
   "execution_count": null,
   "id": "ef648b6f",
   "metadata": {},
   "outputs": [],
   "source": []
  },
  {
   "cell_type": "code",
   "execution_count": null,
   "id": "7d41712f",
   "metadata": {},
   "outputs": [],
   "source": []
  },
  {
   "cell_type": "code",
   "execution_count": null,
   "id": "ef1f0ec5",
   "metadata": {},
   "outputs": [],
   "source": []
  }
 ],
 "metadata": {
  "kernelspec": {
   "display_name": "Python 3 (ipykernel)",
   "language": "python",
   "name": "python3"
  },
  "language_info": {
   "codemirror_mode": {
    "name": "ipython",
    "version": 3
   },
   "file_extension": ".py",
   "mimetype": "text/x-python",
   "name": "python",
   "nbconvert_exporter": "python",
   "pygments_lexer": "ipython3",
   "version": "3.9.12"
  }
 },
 "nbformat": 4,
 "nbformat_minor": 5
}
