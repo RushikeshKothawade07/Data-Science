{
 "cells": [
  {
   "cell_type": "markdown",
   "id": "0650b798",
   "metadata": {},
   "source": [
    "Python Libraries"
   ]
  },
  {
   "cell_type": "markdown",
   "id": "8bbd7cdd",
   "metadata": {},
   "source": [
    "Allows Mathematical Operations<br>\n",
    "Faster operations"
   ]
  },
  {
   "cell_type": "code",
   "execution_count": null,
   "id": "cfc84e54",
   "metadata": {},
   "outputs": [],
   "source": [
    "import numpy as np"
   ]
  },
  {
   "cell_type": "markdown",
   "id": "7b9b98e6",
   "metadata": {},
   "source": [
    " List VS Numpy - time taken"
   ]
  },
  {
   "cell_type": "code",
   "execution_count": null,
   "id": "11cda7af",
   "metadata": {},
   "outputs": [],
   "source": [
    "from time import process_time"
   ]
  },
  {
   "cell_type": "code",
   "execution_count": 21,
   "id": "6021a73c",
   "metadata": {},
   "outputs": [],
   "source": [
    "# python_list = [i for i in range(10000000)]\n",
    "# start_time=process_time()\n",
    "# python_list=[i+1 for i in python_list]\n",
    "# end_time = process_time()\n",
    "# print(end_time-start_time)"
   ]
  },
  {
   "cell_type": "code",
   "execution_count": 22,
   "id": "1e7941e3",
   "metadata": {},
   "outputs": [],
   "source": [
    "# np_array = np.array([i for i in range(1000000)])\n",
    "# start_time=process_time()\n",
    "# np_array+=5\n",
    "# end_time = process_time()\n",
    "# # print(end_time-start_time)"
   ]
  },
  {
   "cell_type": "markdown",
   "id": "b23e7e66",
   "metadata": {},
   "source": [
    "Numpy Arrays"
   ]
  },
  {
   "cell_type": "code",
   "execution_count": 23,
   "id": "76d7ab80",
   "metadata": {},
   "outputs": [
    {
     "name": "stdout",
     "output_type": "stream",
     "text": [
      "[1, 2, 3, 4, 5]\n"
     ]
    },
    {
     "data": {
      "text/plain": [
       "list"
      ]
     },
     "execution_count": 23,
     "metadata": {},
     "output_type": "execute_result"
    }
   ],
   "source": [
    "list1=[1,2,3,4,5]\n",
    "print(list1)\n",
    "type(list1)"
   ]
  },
  {
   "cell_type": "code",
   "execution_count": 25,
   "id": "c82ffffa",
   "metadata": {},
   "outputs": [
    {
     "name": "stdout",
     "output_type": "stream",
     "text": [
      "helllo\n"
     ]
    }
   ],
   "source": [
    "print('helllo')"
   ]
  },
  {
   "cell_type": "code",
   "execution_count": 26,
   "id": "c67fe4e2",
   "metadata": {},
   "outputs": [],
   "source": [
    "b=np.array([(1,2,3,4,5,6),(7,8,9,10,11,12)])"
   ]
  },
  {
   "cell_type": "code",
   "execution_count": 28,
   "id": "f662e81b",
   "metadata": {},
   "outputs": [
    {
     "name": "stdout",
     "output_type": "stream",
     "text": [
      "[[ 1  2  3  4  5  6]\n",
      " [ 7  8  9 10 11 12]]\n"
     ]
    }
   ],
   "source": [
    "\n",
    "print(b)"
   ]
  },
  {
   "cell_type": "code",
   "execution_count": 29,
   "id": "d25591a4",
   "metadata": {},
   "outputs": [],
   "source": [
    "c=np.array([(1,2,3,4),(5,6,7,8)],dtype=float)"
   ]
  },
  {
   "cell_type": "code",
   "execution_count": 30,
   "id": "8d2d8673",
   "metadata": {},
   "outputs": [
    {
     "name": "stdout",
     "output_type": "stream",
     "text": [
      "[[1. 2. 3. 4.]\n",
      " [5. 6. 7. 8.]]\n"
     ]
    }
   ],
   "source": [
    "print(c)"
   ]
  },
  {
   "cell_type": "markdown",
   "id": "380e8a65",
   "metadata": {},
   "source": [
    "Initial Placeholders in numpy arrays"
   ]
  },
  {
   "cell_type": "code",
   "execution_count": 31,
   "id": "0e3b31f8",
   "metadata": {},
   "outputs": [],
   "source": [
    "#create numpy array of 0s\n",
    "x=np.zeros((4,5))"
   ]
  },
  {
   "cell_type": "code",
   "execution_count": 32,
   "id": "6a95d9aa",
   "metadata": {},
   "outputs": [
    {
     "name": "stdout",
     "output_type": "stream",
     "text": [
      "[[0. 0. 0. 0. 0.]\n",
      " [0. 0. 0. 0. 0.]\n",
      " [0. 0. 0. 0. 0.]\n",
      " [0. 0. 0. 0. 0.]]\n"
     ]
    }
   ],
   "source": [
    "print(x)"
   ]
  },
  {
   "cell_type": "code",
   "execution_count": 33,
   "id": "191aa782",
   "metadata": {},
   "outputs": [],
   "source": [
    "#create numpy array of 1s\n",
    "x=np.ones((4,5))"
   ]
  },
  {
   "cell_type": "code",
   "execution_count": 34,
   "id": "373733e0",
   "metadata": {},
   "outputs": [
    {
     "name": "stdout",
     "output_type": "stream",
     "text": [
      "[[1. 1. 1. 1. 1.]\n",
      " [1. 1. 1. 1. 1.]\n",
      " [1. 1. 1. 1. 1.]\n",
      " [1. 1. 1. 1. 1.]]\n"
     ]
    }
   ],
   "source": [
    "print(x)"
   ]
  },
  {
   "cell_type": "code",
   "execution_count": 35,
   "id": "9e28aa03",
   "metadata": {},
   "outputs": [
    {
     "name": "stdout",
     "output_type": "stream",
     "text": [
      "[[5 5 5 5]\n",
      " [5 5 5 5]\n",
      " [5 5 5 5]\n",
      " [5 5 5 5]\n",
      " [5 5 5 5]]\n"
     ]
    }
   ],
   "source": [
    "#array of particular value\n",
    "z=np.full((5,4),5)\n",
    "print(z)"
   ]
  },
  {
   "cell_type": "code",
   "execution_count": 36,
   "id": "3413cbc5",
   "metadata": {},
   "outputs": [],
   "source": [
    "#create identity matrix\n",
    "a=np.eye(4)"
   ]
  },
  {
   "cell_type": "code",
   "execution_count": 37,
   "id": "d76f9e6f",
   "metadata": {},
   "outputs": [
    {
     "data": {
      "text/plain": [
       "array([[1., 0., 0., 0.],\n",
       "       [0., 1., 0., 0.],\n",
       "       [0., 0., 1., 0.],\n",
       "       [0., 0., 0., 1.]])"
      ]
     },
     "execution_count": 37,
     "metadata": {},
     "output_type": "execute_result"
    }
   ],
   "source": [
    "a"
   ]
  },
  {
   "cell_type": "code",
   "execution_count": 40,
   "id": "cf37396e",
   "metadata": {},
   "outputs": [],
   "source": [
    "#create numpy array with random values\n",
    "b=np.random.random((3,4))"
   ]
  },
  {
   "cell_type": "code",
   "execution_count": 41,
   "id": "ef52bd3a",
   "metadata": {},
   "outputs": [
    {
     "data": {
      "text/plain": [
       "array([[0.5097337 , 0.03535099, 0.54838477, 0.83235246],\n",
       "       [0.61957953, 0.63799266, 0.4287767 , 0.08572496],\n",
       "       [0.68222513, 0.04394548, 0.07904897, 0.17830068]])"
      ]
     },
     "execution_count": 41,
     "metadata": {},
     "output_type": "execute_result"
    }
   ],
   "source": [
    "b"
   ]
  },
  {
   "cell_type": "code",
   "execution_count": 42,
   "id": "527eca1f",
   "metadata": {},
   "outputs": [],
   "source": [
    "#create numpy array with random values integers in  range\n",
    "c=np.random.randint(10,100,(3,5))"
   ]
  },
  {
   "cell_type": "code",
   "execution_count": 43,
   "id": "b5d34aaa",
   "metadata": {},
   "outputs": [
    {
     "data": {
      "text/plain": [
       "array([[76, 24, 51, 75, 40],\n",
       "       [87, 83, 48, 13, 11],\n",
       "       [41, 18, 34, 19, 77]])"
      ]
     },
     "execution_count": 43,
     "metadata": {},
     "output_type": "execute_result"
    }
   ],
   "source": [
    "c"
   ]
  },
  {
   "cell_type": "code",
   "execution_count": 48,
   "id": "12c89ff3",
   "metadata": {},
   "outputs": [
    {
     "name": "stdout",
     "output_type": "stream",
     "text": [
      "[10. 14. 18. 22. 26. 30.]\n"
     ]
    }
   ],
   "source": [
    "#array of evenly spaced values\n",
    "d=np.linspace(10,30,6)\n",
    "print(d)"
   ]
  },
  {
   "cell_type": "code",
   "execution_count": 49,
   "id": "da30b813",
   "metadata": {},
   "outputs": [
    {
     "name": "stdout",
     "output_type": "stream",
     "text": [
      "[10 15 20 25]\n"
     ]
    }
   ],
   "source": [
    "#array of evenly spaced vaues => speicifying the step\n",
    "e=np.arange(10,30,5)\n",
    "print(e)"
   ]
  },
  {
   "cell_type": "code",
   "execution_count": 50,
   "id": "64b98854",
   "metadata": {},
   "outputs": [
    {
     "name": "stdout",
     "output_type": "stream",
     "text": [
      "[10 20 30 40 50]\n"
     ]
    },
    {
     "data": {
      "text/plain": [
       "numpy.ndarray"
      ]
     },
     "execution_count": 50,
     "metadata": {},
     "output_type": "execute_result"
    }
   ],
   "source": [
    "#convert list to array\n",
    "list1 = [10,20,30,40,50]\n",
    "np_array=np.asarray(list1)\n",
    "print(np_array)\n",
    "type(np_array)"
   ]
  },
  {
   "cell_type": "markdown",
   "id": "790ce14d",
   "metadata": {},
   "source": [
    "Analyzing a numpy array\n"
   ]
  },
  {
   "cell_type": "code",
   "execution_count": 51,
   "id": "526c625f",
   "metadata": {},
   "outputs": [
    {
     "name": "stdout",
     "output_type": "stream",
     "text": [
      "(5, 5)\n"
     ]
    }
   ],
   "source": [
    "c=np.random.randint(10,90,(5,5))\n",
    "print(c.shape)"
   ]
  },
  {
   "cell_type": "code",
   "execution_count": 53,
   "id": "2f4f3a75",
   "metadata": {},
   "outputs": [
    {
     "name": "stdout",
     "output_type": "stream",
     "text": [
      "2\n"
     ]
    }
   ],
   "source": [
    "print(c.ndim)"
   ]
  },
  {
   "cell_type": "code",
   "execution_count": 56,
   "id": "9e53b7af",
   "metadata": {},
   "outputs": [
    {
     "name": "stdout",
     "output_type": "stream",
     "text": [
      "25\n"
     ]
    }
   ],
   "source": [
    "print(c.size)"
   ]
  },
  {
   "cell_type": "code",
   "execution_count": 57,
   "id": "14267066",
   "metadata": {},
   "outputs": [
    {
     "name": "stdout",
     "output_type": "stream",
     "text": [
      "int32\n"
     ]
    }
   ],
   "source": [
    "print(c.dtype)"
   ]
  },
  {
   "cell_type": "markdown",
   "id": "b15ac879",
   "metadata": {},
   "source": [
    "Mathematical operations"
   ]
  },
  {
   "cell_type": "code",
   "execution_count": 59,
   "id": "335d905a",
   "metadata": {},
   "outputs": [
    {
     "name": "stdout",
     "output_type": "stream",
     "text": [
      "[1, 2, 3, 4, 5, 6, 7, 8, 9, 10]\n"
     ]
    }
   ],
   "source": [
    "list1=[1,2,3,4,5]\n",
    "list2=[6,7,8,9,10]\n",
    "print(list1+list2)\n",
    "#concat"
   ]
  },
  {
   "cell_type": "code",
   "execution_count": 61,
   "id": "576e8077",
   "metadata": {},
   "outputs": [
    {
     "name": "stdout",
     "output_type": "stream",
     "text": [
      "[[5 3 9]\n",
      " [2 0 5]\n",
      " [5 9 8]]\n",
      "[[13 13 18]\n",
      " [11 11 13]\n",
      " [12 13 13]]\n",
      "[[18 16 27]\n",
      " [13 11 18]\n",
      " [17 22 21]]\n"
     ]
    }
   ],
   "source": [
    "a=np.random.randint(0,10,(3,3))\n",
    "b=np.random.randint(10,20,(3,3))\n",
    "print(a)\n",
    "print(b)\n",
    "print(a+b)\n",
    "#add"
   ]
  },
  {
   "cell_type": "code",
   "execution_count": 62,
   "id": "c5792903",
   "metadata": {},
   "outputs": [
    {
     "data": {
      "text/plain": [
       "array([[18, 16, 27],\n",
       "       [13, 11, 18],\n",
       "       [17, 22, 21]])"
      ]
     },
     "execution_count": 62,
     "metadata": {},
     "output_type": "execute_result"
    }
   ],
   "source": [
    "np.add(a,b)"
   ]
  },
  {
   "cell_type": "code",
   "execution_count": 63,
   "id": "1cb2bcbd",
   "metadata": {},
   "outputs": [
    {
     "data": {
      "text/plain": [
       "array([[ -8, -10,  -9],\n",
       "       [ -9, -11,  -8],\n",
       "       [ -7,  -4,  -5]])"
      ]
     },
     "execution_count": 63,
     "metadata": {},
     "output_type": "execute_result"
    }
   ],
   "source": [
    "np.subtract(a,b)"
   ]
  },
  {
   "cell_type": "code",
   "execution_count": 64,
   "id": "b7dc615e",
   "metadata": {},
   "outputs": [
    {
     "data": {
      "text/plain": [
       "array([[ 65,  39, 162],\n",
       "       [ 22,   0,  65],\n",
       "       [ 60, 117, 104]])"
      ]
     },
     "execution_count": 64,
     "metadata": {},
     "output_type": "execute_result"
    }
   ],
   "source": [
    "np.multiply(a,b)"
   ]
  },
  {
   "cell_type": "code",
   "execution_count": 65,
   "id": "1f2b94c1",
   "metadata": {},
   "outputs": [
    {
     "data": {
      "text/plain": [
       "array([[0.38461538, 0.23076923, 0.5       ],\n",
       "       [0.18181818, 0.        , 0.38461538],\n",
       "       [0.41666667, 0.69230769, 0.61538462]])"
      ]
     },
     "execution_count": 65,
     "metadata": {},
     "output_type": "execute_result"
    }
   ],
   "source": [
    "np.divide(a,b)"
   ]
  },
  {
   "cell_type": "markdown",
   "id": "f82aab26",
   "metadata": {},
   "source": [
    "Array Manipulation"
   ]
  },
  {
   "cell_type": "code",
   "execution_count": 67,
   "id": "ff768421",
   "metadata": {},
   "outputs": [
    {
     "name": "stdout",
     "output_type": "stream",
     "text": [
      "[[2 8 9]\n",
      " [0 9 1]]\n"
     ]
    }
   ],
   "source": [
    "array = np.random.randint(0,10,(2,3))\n",
    "print(array)"
   ]
  },
  {
   "cell_type": "code",
   "execution_count": 68,
   "id": "485952da",
   "metadata": {},
   "outputs": [
    {
     "name": "stdout",
     "output_type": "stream",
     "text": [
      "(2, 3)\n"
     ]
    }
   ],
   "source": [
    "print(array.shape)"
   ]
  },
  {
   "cell_type": "code",
   "execution_count": 69,
   "id": "f5e2fdce",
   "metadata": {},
   "outputs": [
    {
     "name": "stdout",
     "output_type": "stream",
     "text": [
      "[[2 0]\n",
      " [8 9]\n",
      " [9 1]]\n",
      "(3, 2)\n"
     ]
    }
   ],
   "source": [
    "#transpose\n",
    "trans = np.transpose(array)\n",
    "print(trans)\n",
    "print(trans.shape)"
   ]
  },
  {
   "cell_type": "code",
   "execution_count": 70,
   "id": "5e4f4a14",
   "metadata": {},
   "outputs": [
    {
     "data": {
      "text/plain": [
       "array([[2, 0],\n",
       "       [8, 9],\n",
       "       [9, 1]])"
      ]
     },
     "execution_count": 70,
     "metadata": {},
     "output_type": "execute_result"
    }
   ],
   "source": [
    "trans2 = array.T\n",
    "trans2"
   ]
  },
  {
   "cell_type": "code",
   "execution_count": 71,
   "id": "f6fe6b1b",
   "metadata": {},
   "outputs": [
    {
     "name": "stdout",
     "output_type": "stream",
     "text": [
      "[[2 0]\n",
      " [8 9]\n",
      " [9 1]]\n",
      "(3, 2)\n"
     ]
    }
   ],
   "source": [
    "print(trans2)\n",
    "print(trans.shape)"
   ]
  },
  {
   "cell_type": "code",
   "execution_count": 72,
   "id": "bcf99795",
   "metadata": {},
   "outputs": [
    {
     "name": "stdout",
     "output_type": "stream",
     "text": [
      "[[6 1 0]\n",
      " [0 3 9]]\n",
      "(2, 3)\n"
     ]
    }
   ],
   "source": [
    "#reshaping a array\n",
    "a=np.random.randint(0,10,(2,3))\n",
    "print(a)\n",
    "print(a.shape)"
   ]
  },
  {
   "cell_type": "code",
   "execution_count": 74,
   "id": "57768937",
   "metadata": {},
   "outputs": [
    {
     "name": "stdout",
     "output_type": "stream",
     "text": [
      "[[6 1]\n",
      " [0 0]\n",
      " [3 9]]\n",
      "<class 'numpy.ndarray'>\n"
     ]
    }
   ],
   "source": [
    "b=a.reshape(3,2)\n",
    "print(b)\n",
    "print(type(b))"
   ]
  },
  {
   "cell_type": "code",
   "execution_count": null,
   "id": "e2210e0f",
   "metadata": {},
   "outputs": [],
   "source": []
  }
 ],
 "metadata": {
  "kernelspec": {
   "display_name": "Python 3 (ipykernel)",
   "language": "python",
   "name": "python3"
  },
  "language_info": {
   "codemirror_mode": {
    "name": "ipython",
    "version": 3
   },
   "file_extension": ".py",
   "mimetype": "text/x-python",
   "name": "python",
   "nbconvert_exporter": "python",
   "pygments_lexer": "ipython3",
   "version": "3.9.12"
  }
 },
 "nbformat": 4,
 "nbformat_minor": 5
}
