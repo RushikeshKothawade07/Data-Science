{
  "nbformat": 4,
  "nbformat_minor": 0,
  "metadata": {
    "colab": {
      "provenance": []
    },
    "kernelspec": {
      "name": "python3",
      "display_name": "Python 3"
    },
    "language_info": {
      "name": "python"
    }
  },
  "cells": [
    {
      "cell_type": "markdown",
      "source": [
        "System specifications"
      ],
      "metadata": {
        "id": "jfOul5qsdkQQ"
      }
    },
    {
      "cell_type": "code",
      "source": [
        "!cat /proc/cpuinfo"
      ],
      "metadata": {
        "colab": {
          "base_uri": "https://localhost:8080/"
        },
        "id": "tw2BvZI6dqAY",
        "outputId": "df4488be-c87e-4489-e83b-f093d21eb85c"
      },
      "execution_count": 1,
      "outputs": [
        {
          "output_type": "stream",
          "name": "stdout",
          "text": [
            "processor\t: 0\n",
            "vendor_id\t: AuthenticAMD\n",
            "cpu family\t: 23\n",
            "model\t\t: 49\n",
            "model name\t: AMD EPYC 7B12\n",
            "stepping\t: 0\n",
            "microcode\t: 0xffffffff\n",
            "cpu MHz\t\t: 2250.000\n",
            "cache size\t: 512 KB\n",
            "physical id\t: 0\n",
            "siblings\t: 2\n",
            "core id\t\t: 0\n",
            "cpu cores\t: 1\n",
            "apicid\t\t: 0\n",
            "initial apicid\t: 0\n",
            "fpu\t\t: yes\n",
            "fpu_exception\t: yes\n",
            "cpuid level\t: 13\n",
            "wp\t\t: yes\n",
            "flags\t\t: fpu vme de pse tsc msr pae mce cx8 apic sep mtrr pge mca cmov pat pse36 clflush mmx fxsr sse sse2 ht syscall nx mmxext fxsr_opt pdpe1gb rdtscp lm constant_tsc rep_good nopl nonstop_tsc cpuid extd_apicid tsc_known_freq pni pclmulqdq ssse3 fma cx16 sse4_1 sse4_2 movbe popcnt aes xsave avx f16c rdrand hypervisor lahf_lm cmp_legacy cr8_legacy abm sse4a misalignsse 3dnowprefetch osvw topoext ssbd ibrs ibpb stibp vmmcall fsgsbase tsc_adjust bmi1 avx2 smep bmi2 rdseed adx smap clflushopt clwb sha_ni xsaveopt xsavec xgetbv1 clzero xsaveerptr arat npt nrip_save umip rdpid\n",
            "bugs\t\t: sysret_ss_attrs null_seg spectre_v1 spectre_v2 spec_store_bypass retbleed\n",
            "bogomips\t: 4500.00\n",
            "TLB size\t: 3072 4K pages\n",
            "clflush size\t: 64\n",
            "cache_alignment\t: 64\n",
            "address sizes\t: 48 bits physical, 48 bits virtual\n",
            "power management:\n",
            "\n",
            "processor\t: 1\n",
            "vendor_id\t: AuthenticAMD\n",
            "cpu family\t: 23\n",
            "model\t\t: 49\n",
            "model name\t: AMD EPYC 7B12\n",
            "stepping\t: 0\n",
            "microcode\t: 0xffffffff\n",
            "cpu MHz\t\t: 2250.000\n",
            "cache size\t: 512 KB\n",
            "physical id\t: 0\n",
            "siblings\t: 2\n",
            "core id\t\t: 0\n",
            "cpu cores\t: 1\n",
            "apicid\t\t: 1\n",
            "initial apicid\t: 1\n",
            "fpu\t\t: yes\n",
            "fpu_exception\t: yes\n",
            "cpuid level\t: 13\n",
            "wp\t\t: yes\n",
            "flags\t\t: fpu vme de pse tsc msr pae mce cx8 apic sep mtrr pge mca cmov pat pse36 clflush mmx fxsr sse sse2 ht syscall nx mmxext fxsr_opt pdpe1gb rdtscp lm constant_tsc rep_good nopl nonstop_tsc cpuid extd_apicid tsc_known_freq pni pclmulqdq ssse3 fma cx16 sse4_1 sse4_2 movbe popcnt aes xsave avx f16c rdrand hypervisor lahf_lm cmp_legacy cr8_legacy abm sse4a misalignsse 3dnowprefetch osvw topoext ssbd ibrs ibpb stibp vmmcall fsgsbase tsc_adjust bmi1 avx2 smep bmi2 rdseed adx smap clflushopt clwb sha_ni xsaveopt xsavec xgetbv1 clzero xsaveerptr arat npt nrip_save umip rdpid\n",
            "bugs\t\t: sysret_ss_attrs null_seg spectre_v1 spectre_v2 spec_store_bypass retbleed\n",
            "bogomips\t: 4500.00\n",
            "TLB size\t: 3072 4K pages\n",
            "clflush size\t: 64\n",
            "cache_alignment\t: 64\n",
            "address sizes\t: 48 bits physical, 48 bits virtual\n",
            "power management:\n",
            "\n"
          ]
        }
      ]
    },
    {
      "cell_type": "code",
      "source": [
        "!cat /proc/meminfo"
      ],
      "metadata": {
        "colab": {
          "base_uri": "https://localhost:8080/"
        },
        "id": "DboNlBfwd56e",
        "outputId": "96665bf6-29b5-4c4c-c313-b70bc35400ae"
      },
      "execution_count": 2,
      "outputs": [
        {
          "output_type": "stream",
          "name": "stdout",
          "text": [
            "MemTotal:       13297192 kB\n",
            "MemFree:         8339968 kB\n",
            "MemAvailable:   12380656 kB\n",
            "Buffers:          330216 kB\n",
            "Cached:          3871152 kB\n",
            "SwapCached:            0 kB\n",
            "Active:           587896 kB\n",
            "Inactive:        4128820 kB\n",
            "Active(anon):       1016 kB\n",
            "Inactive(anon):   502400 kB\n",
            "Active(file):     586880 kB\n",
            "Inactive(file):  3626420 kB\n",
            "Unevictable:           0 kB\n",
            "Mlocked:               0 kB\n",
            "SwapTotal:             0 kB\n",
            "SwapFree:              0 kB\n",
            "Dirty:               684 kB\n",
            "Writeback:             0 kB\n",
            "AnonPages:        515332 kB\n",
            "Mapped:           250496 kB\n",
            "Shmem:              1312 kB\n",
            "KReclaimable:     137932 kB\n",
            "Slab:             168428 kB\n",
            "SReclaimable:     137932 kB\n",
            "SUnreclaim:        30496 kB\n",
            "KernelStack:        4128 kB\n",
            "PageTables:         8056 kB\n",
            "NFS_Unstable:          0 kB\n",
            "Bounce:                0 kB\n",
            "WritebackTmp:          0 kB\n",
            "CommitLimit:     6648596 kB\n",
            "Committed_AS:    2501448 kB\n",
            "VmallocTotal:   34359738367 kB\n",
            "VmallocUsed:        9012 kB\n",
            "VmallocChunk:          0 kB\n",
            "Percpu:             1336 kB\n",
            "HardwareCorrupted:     0 kB\n",
            "AnonHugePages:         0 kB\n",
            "ShmemHugePages:        0 kB\n",
            "ShmemPmdMapped:        0 kB\n",
            "FileHugePages:         0 kB\n",
            "FilePmdMapped:         0 kB\n",
            "CmaTotal:              0 kB\n",
            "CmaFree:               0 kB\n",
            "HugePages_Total:       0\n",
            "HugePages_Free:        0\n",
            "HugePages_Rsvd:        0\n",
            "HugePages_Surp:        0\n",
            "Hugepagesize:       2048 kB\n",
            "Hugetlb:               0 kB\n",
            "DirectMap4k:       86848 kB\n",
            "DirectMap2M:     3055616 kB\n",
            "DirectMap1G:    12582912 kB\n"
          ]
        }
      ]
    },
    {
      "cell_type": "code",
      "source": [],
      "metadata": {
        "id": "4dciyLKieLB2"
      },
      "execution_count": null,
      "outputs": []
    },
    {
      "cell_type": "markdown",
      "source": [
        "Install libraries"
      ],
      "metadata": {
        "id": "g6XxIj89enG0"
      }
    },
    {
      "cell_type": "code",
      "source": [
        "!pip install pandas"
      ],
      "metadata": {
        "colab": {
          "base_uri": "https://localhost:8080/"
        },
        "id": "B5vgQ6gseqB-",
        "outputId": "316c3fed-fc61-4457-fd47-b0d0bdacb6ae"
      },
      "execution_count": 3,
      "outputs": [
        {
          "output_type": "stream",
          "name": "stdout",
          "text": [
            "Looking in indexes: https://pypi.org/simple, https://us-python.pkg.dev/colab-wheels/public/simple/\n",
            "Requirement already satisfied: pandas in /usr/local/lib/python3.9/dist-packages (1.4.4)\n",
            "Requirement already satisfied: numpy>=1.18.5 in /usr/local/lib/python3.9/dist-packages (from pandas) (1.22.4)\n",
            "Requirement already satisfied: pytz>=2020.1 in /usr/local/lib/python3.9/dist-packages (from pandas) (2022.7.1)\n",
            "Requirement already satisfied: python-dateutil>=2.8.1 in /usr/local/lib/python3.9/dist-packages (from pandas) (2.8.2)\n",
            "Requirement already satisfied: six>=1.5 in /usr/local/lib/python3.9/dist-packages (from python-dateutil>=2.8.1->pandas) (1.16.0)\n"
          ]
        }
      ]
    },
    {
      "cell_type": "code",
      "source": [
        "import pandas as pd"
      ],
      "metadata": {
        "id": "-T6QxjEcesJG"
      },
      "execution_count": 4,
      "outputs": []
    },
    {
      "cell_type": "code",
      "source": [
        "print(\"Machine Learning Tutorial\")"
      ],
      "metadata": {
        "colab": {
          "base_uri": "https://localhost:8080/"
        },
        "id": "gMG1Tr-Zewmu",
        "outputId": "e6b497d9-e366-43e8-8919-784813596929"
      },
      "execution_count": 5,
      "outputs": [
        {
          "output_type": "stream",
          "name": "stdout",
          "text": [
            "Machine Learning Tutorial\n"
          ]
        }
      ]
    },
    {
      "cell_type": "code",
      "source": [
        "print(\"Machine Learning\"+\" is awesome!\")"
      ],
      "metadata": {
        "colab": {
          "base_uri": "https://localhost:8080/"
        },
        "id": "mcwFjclSf0Z_",
        "outputId": "5cc4ba1f-1c0f-4727-f661-e0c176882bd7"
      },
      "execution_count": 8,
      "outputs": [
        {
          "output_type": "stream",
          "name": "stdout",
          "text": [
            "Machine Learning is awesome!\n"
          ]
        }
      ]
    },
    {
      "cell_type": "code",
      "source": [
        "print(3+66)"
      ],
      "metadata": {
        "colab": {
          "base_uri": "https://localhost:8080/"
        },
        "id": "cOic3rPHgCTF",
        "outputId": "893ec1bd-9278-4704-a5f6-03146423792d"
      },
      "execution_count": 12,
      "outputs": [
        {
          "output_type": "stream",
          "name": "stdout",
          "text": [
            "69\n"
          ]
        }
      ]
    },
    {
      "cell_type": "markdown",
      "source": [
        "#print"
      ],
      "metadata": {
        "id": "R4Y3Vam1hL48"
      }
    },
    {
      "cell_type": "code",
      "source": [
        "print(55)"
      ],
      "metadata": {
        "colab": {
          "base_uri": "https://localhost:8080/"
        },
        "id": "taersA8ngLeA",
        "outputId": "9d05c132-5159-4cd8-a454-3b1753c56469"
      },
      "execution_count": 15,
      "outputs": [
        {
          "output_type": "stream",
          "name": "stdout",
          "text": [
            "55\n"
          ]
        }
      ]
    },
    {
      "cell_type": "code",
      "source": [
        "print(55+693)"
      ],
      "metadata": {
        "colab": {
          "base_uri": "https://localhost:8080/"
        },
        "id": "cNT5oIC8gWOl",
        "outputId": "e6e1957d-c067-402f-ba98-b6805cfcf50b"
      },
      "execution_count": 16,
      "outputs": [
        {
          "output_type": "stream",
          "name": "stdout",
          "text": [
            "748\n"
          ]
        }
      ]
    },
    {
      "cell_type": "markdown",
      "source": [
        "#new section\n"
      ],
      "metadata": {
        "id": "3-obtYQZhmIc"
      }
    },
    {
      "cell_type": "code",
      "source": [
        "#New section"
      ],
      "metadata": {
        "id": "rqyfGPS9hT_l"
      },
      "execution_count": 17,
      "outputs": []
    },
    {
      "cell_type": "code",
      "source": [
        "# Basic Data types:"
      ],
      "metadata": {
        "id": "ISLy86xohpQt"
      },
      "execution_count": 18,
      "outputs": []
    },
    {
      "cell_type": "markdown",
      "source": [
        "1. int\n",
        "2. float\n",
        "3. str"
      ],
      "metadata": {
        "id": "txS0VyKzhzwN"
      }
    },
    {
      "cell_type": "code",
      "source": [
        "type(5)"
      ],
      "metadata": {
        "colab": {
          "base_uri": "https://localhost:8080/"
        },
        "id": "aJX_hlgHhtDt",
        "outputId": "f93c60f1-9613-4b82-f58d-981d913e0c6b"
      },
      "execution_count": 22,
      "outputs": [
        {
          "output_type": "execute_result",
          "data": {
            "text/plain": [
              "int"
            ]
          },
          "metadata": {},
          "execution_count": 22
        }
      ]
    },
    {
      "cell_type": "code",
      "source": [
        "type(5.3)"
      ],
      "metadata": {
        "colab": {
          "base_uri": "https://localhost:8080/"
        },
        "id": "5eacUih6hwDt",
        "outputId": "e7a01268-6593-4918-d223-c1feaa134364"
      },
      "execution_count": 23,
      "outputs": [
        {
          "output_type": "execute_result",
          "data": {
            "text/plain": [
              "float"
            ]
          },
          "metadata": {},
          "execution_count": 23
        }
      ]
    },
    {
      "cell_type": "code",
      "source": [
        "type('kite')"
      ],
      "metadata": {
        "colab": {
          "base_uri": "https://localhost:8080/"
        },
        "id": "aYUXCfroh7hN",
        "outputId": "9ab8a518-1f3b-454e-a96d-c77d4581a843"
      },
      "execution_count": 24,
      "outputs": [
        {
          "output_type": "execute_result",
          "data": {
            "text/plain": [
              "str"
            ]
          },
          "metadata": {},
          "execution_count": 24
        }
      ]
    },
    {
      "cell_type": "markdown",
      "source": [
        "#Constants and Variables"
      ],
      "metadata": {
        "id": "IK7WSL8HiinH"
      }
    },
    {
      "cell_type": "code",
      "source": [
        "superhero = \"Iron Man\""
      ],
      "metadata": {
        "id": "SZx8ANmmiBOV"
      },
      "execution_count": 25,
      "outputs": []
    },
    {
      "cell_type": "code",
      "source": [
        "print(superhero)"
      ],
      "metadata": {
        "colab": {
          "base_uri": "https://localhost:8080/"
        },
        "id": "LLqoQJYuit69",
        "outputId": "27dcca04-d675-4386-acd7-5fe60c918276"
      },
      "execution_count": 27,
      "outputs": [
        {
          "output_type": "stream",
          "name": "stdout",
          "text": [
            "Iron Man\n"
          ]
        }
      ]
    },
    {
      "cell_type": "code",
      "source": [
        "hero1,hero2,hero3=\"Iron Man\",\"Me\",\"You\""
      ],
      "metadata": {
        "id": "kanx4SrRivBl"
      },
      "execution_count": 28,
      "outputs": []
    },
    {
      "cell_type": "code",
      "source": [
        "hero2"
      ],
      "metadata": {
        "colab": {
          "base_uri": "https://localhost:8080/",
          "height": 35
        },
        "id": "OELENh6HjRNl",
        "outputId": "b4abd424-936b-48a4-fe7f-159334bafd10"
      },
      "execution_count": 29,
      "outputs": [
        {
          "output_type": "execute_result",
          "data": {
            "text/plain": [
              "'Me'"
            ],
            "application/vnd.google.colaboratory.intrinsic+json": {
              "type": "string"
            }
          },
          "metadata": {},
          "execution_count": 29
        }
      ]
    },
    {
      "cell_type": "code",
      "source": [
        "print(hero3)"
      ],
      "metadata": {
        "colab": {
          "base_uri": "https://localhost:8080/"
        },
        "id": "Mo0gDWl4jSG9",
        "outputId": "3c5bfba9-a53c-4b53-a6af-21a08f00fe0b"
      },
      "execution_count": 30,
      "outputs": [
        {
          "output_type": "stream",
          "name": "stdout",
          "text": [
            "You\n"
          ]
        }
      ]
    },
    {
      "cell_type": "code",
      "source": [
        "x=y=z=23"
      ],
      "metadata": {
        "id": "Ja2UAg_0jT09"
      },
      "execution_count": 31,
      "outputs": []
    },
    {
      "cell_type": "code",
      "source": [
        "x"
      ],
      "metadata": {
        "colab": {
          "base_uri": "https://localhost:8080/"
        },
        "id": "RQiL6849jjAd",
        "outputId": "75a07e8d-119f-4c94-8a4a-0ac5afcc3d7a"
      },
      "execution_count": 32,
      "outputs": [
        {
          "output_type": "execute_result",
          "data": {
            "text/plain": [
              "23"
            ]
          },
          "metadata": {},
          "execution_count": 32
        }
      ]
    },
    {
      "cell_type": "markdown",
      "source": [
        "#input function"
      ],
      "metadata": {
        "id": "YVvdmd09jyXC"
      }
    },
    {
      "cell_type": "code",
      "source": [
        "number1=int(input(\"Enter first number : \"))\n",
        "number2=int(input(\"Enter second number : \"))"
      ],
      "metadata": {
        "colab": {
          "base_uri": "https://localhost:8080/"
        },
        "id": "DrIYM8xGjjct",
        "outputId": "86794dd1-0754-4710-b9a5-e949aa7dd62f"
      },
      "execution_count": 39,
      "outputs": [
        {
          "name": "stdout",
          "output_type": "stream",
          "text": [
            "Enter first number : 5\n",
            "Enter second number : 6\n"
          ]
        }
      ]
    },
    {
      "cell_type": "code",
      "source": [
        "print(number1+number2)"
      ],
      "metadata": {
        "colab": {
          "base_uri": "https://localhost:8080/"
        },
        "id": "97f9BTaHj6u9",
        "outputId": "940af053-7690-45cd-8593-de74956d9d42"
      },
      "execution_count": 40,
      "outputs": [
        {
          "output_type": "stream",
          "name": "stdout",
          "text": [
            "11\n"
          ]
        }
      ]
    },
    {
      "cell_type": "code",
      "source": [
        "type(number1)"
      ],
      "metadata": {
        "colab": {
          "base_uri": "https://localhost:8080/"
        },
        "id": "IDODiRH7kLCn",
        "outputId": "23be1994-1aac-4690-c779-d0bb3af9e058"
      },
      "execution_count": 42,
      "outputs": [
        {
          "output_type": "execute_result",
          "data": {
            "text/plain": [
              "int"
            ]
          },
          "metadata": {},
          "execution_count": 42
        }
      ]
    },
    {
      "cell_type": "code",
      "source": [
        "print(float(number2))"
      ],
      "metadata": {
        "colab": {
          "base_uri": "https://localhost:8080/"
        },
        "id": "6udhlICDk4P9",
        "outputId": "a8f74333-08c6-4497-e433-b4ed3d295444"
      },
      "execution_count": 43,
      "outputs": [
        {
          "output_type": "stream",
          "name": "stdout",
          "text": [
            "6.0\n"
          ]
        }
      ]
    },
    {
      "cell_type": "markdown",
      "source": [
        "#Basic Data Types"
      ],
      "metadata": {
        "id": "-H5L6BknlSzW"
      }
    },
    {
      "cell_type": "markdown",
      "source": [
        "1. Integer\n",
        "2. Float\n",
        "3. Complex\n",
        "4. Boolean\n",
        "5. String"
      ],
      "metadata": {
        "id": "a2QWFuRFlVtS"
      }
    },
    {
      "cell_type": "code",
      "source": [
        "#complex number\n",
        "c = 1 + 3j\n",
        "print(c)\n",
        "type(c)"
      ],
      "metadata": {
        "colab": {
          "base_uri": "https://localhost:8080/"
        },
        "id": "1m5YUBaqlEHN",
        "outputId": "f97640a8-4a20-4cbb-8bec-c44211944aa3"
      },
      "execution_count": 44,
      "outputs": [
        {
          "output_type": "stream",
          "name": "stdout",
          "text": [
            "(1+3j)\n"
          ]
        },
        {
          "output_type": "execute_result",
          "data": {
            "text/plain": [
              "complex"
            ]
          },
          "metadata": {},
          "execution_count": 44
        }
      ]
    },
    {
      "cell_type": "code",
      "source": [],
      "metadata": {
        "id": "rqEh-9Swl_IF"
      },
      "execution_count": null,
      "outputs": []
    },
    {
      "cell_type": "markdown",
      "source": [
        "Conversion of data type to another"
      ],
      "metadata": {
        "id": "Sl2M6hLvmCYH"
      }
    },
    {
      "cell_type": "code",
      "source": [
        "x=10\n",
        "print(x)\n",
        "type(x)"
      ],
      "metadata": {
        "colab": {
          "base_uri": "https://localhost:8080/"
        },
        "id": "KIZ7rahymEul",
        "outputId": "07c2f222-7eaa-4974-e2e6-bb8ef84574d8"
      },
      "execution_count": 45,
      "outputs": [
        {
          "output_type": "stream",
          "name": "stdout",
          "text": [
            "10\n"
          ]
        },
        {
          "output_type": "execute_result",
          "data": {
            "text/plain": [
              "int"
            ]
          },
          "metadata": {},
          "execution_count": 45
        }
      ]
    },
    {
      "cell_type": "code",
      "source": [
        "y=float(x)\n",
        "print(y)"
      ],
      "metadata": {
        "colab": {
          "base_uri": "https://localhost:8080/"
        },
        "id": "aBC8ZfPemKSE",
        "outputId": "8fd020ad-4551-41d5-b1ac-db9ddba9921b"
      },
      "execution_count": 46,
      "outputs": [
        {
          "output_type": "stream",
          "name": "stdout",
          "text": [
            "10.0\n"
          ]
        }
      ]
    },
    {
      "cell_type": "code",
      "source": [
        "z=5.88\n",
        "print(z)\n",
        "type(z)"
      ],
      "metadata": {
        "colab": {
          "base_uri": "https://localhost:8080/"
        },
        "id": "xx7nTUwnmOqj",
        "outputId": "f866f3c2-fb7b-43d8-f7a7-ff48165ae117"
      },
      "execution_count": 47,
      "outputs": [
        {
          "output_type": "stream",
          "name": "stdout",
          "text": [
            "5.88\n"
          ]
        },
        {
          "output_type": "execute_result",
          "data": {
            "text/plain": [
              "float"
            ]
          },
          "metadata": {},
          "execution_count": 47
        }
      ]
    },
    {
      "cell_type": "code",
      "source": [
        "a=int(z)\n",
        "print(a)\n",
        "type(a)"
      ],
      "metadata": {
        "colab": {
          "base_uri": "https://localhost:8080/"
        },
        "id": "T0fyrHa9mn-s",
        "outputId": "0f043ee1-dd46-4038-f467-1eed0c29d891"
      },
      "execution_count": 48,
      "outputs": [
        {
          "output_type": "stream",
          "name": "stdout",
          "text": [
            "5\n"
          ]
        },
        {
          "output_type": "execute_result",
          "data": {
            "text/plain": [
              "int"
            ]
          },
          "metadata": {},
          "execution_count": 48
        }
      ]
    },
    {
      "cell_type": "code",
      "source": [
        "b=7<3\n",
        "print(b)\n",
        "type(b)"
      ],
      "metadata": {
        "colab": {
          "base_uri": "https://localhost:8080/"
        },
        "id": "8wCZblrFmrrF",
        "outputId": "d861b3b8-cc1d-4b0a-b386-87d0fbfe0c79"
      },
      "execution_count": 51,
      "outputs": [
        {
          "output_type": "stream",
          "name": "stdout",
          "text": [
            "False\n"
          ]
        },
        {
          "output_type": "execute_result",
          "data": {
            "text/plain": [
              "bool"
            ]
          },
          "metadata": {},
          "execution_count": 51
        }
      ]
    },
    {
      "cell_type": "code",
      "source": [
        "print(\"Hello\\n\"*5)"
      ],
      "metadata": {
        "colab": {
          "base_uri": "https://localhost:8080/"
        },
        "id": "59WS3YSQm5ys",
        "outputId": "845f6309-1d0f-47e6-ae8d-63cce377305a"
      },
      "execution_count": 53,
      "outputs": [
        {
          "output_type": "stream",
          "name": "stdout",
          "text": [
            "Hello\n",
            "Hello\n",
            "Hello\n",
            "Hello\n",
            "Hello\n",
            "\n"
          ]
        }
      ]
    },
    {
      "cell_type": "code",
      "source": [
        "#Slicing\n",
        "my_string=\"Programming\"\n",
        "print(my_string[1:4])"
      ],
      "metadata": {
        "colab": {
          "base_uri": "https://localhost:8080/"
        },
        "id": "7N3uwlENnhCd",
        "outputId": "778b1fc3-1a59-40e7-8cae-51daf0b48881"
      },
      "execution_count": 55,
      "outputs": [
        {
          "output_type": "stream",
          "name": "stdout",
          "text": [
            "rog\n"
          ]
        }
      ]
    },
    {
      "cell_type": "code",
      "source": [
        "print(my_string[2:10:2])"
      ],
      "metadata": {
        "colab": {
          "base_uri": "https://localhost:8080/"
        },
        "id": "qhRC3vJwnrSV",
        "outputId": "27f8771b-ce63-4e82-e950-7125f2e06895"
      },
      "execution_count": 56,
      "outputs": [
        {
          "output_type": "stream",
          "name": "stdout",
          "text": [
            "ormi\n"
          ]
        }
      ]
    },
    {
      "cell_type": "code",
      "source": [
        "#string concatenation\n",
        "word1='Machine'\n",
        "space = ' '\n",
        "word2='Learning'\n",
        "print(word1+space+word2)"
      ],
      "metadata": {
        "colab": {
          "base_uri": "https://localhost:8080/"
        },
        "id": "Kg1MmBUXoCic",
        "outputId": "ba828ebf-ea7d-4cde-978c-310088d59200"
      },
      "execution_count": 58,
      "outputs": [
        {
          "output_type": "stream",
          "name": "stdout",
          "text": [
            "Machine Learning\n"
          ]
        }
      ]
    },
    {
      "cell_type": "code",
      "source": [],
      "metadata": {
        "id": "6YrKuUeJoQxU"
      },
      "execution_count": null,
      "outputs": []
    },
    {
      "cell_type": "markdown",
      "source": [
        "#Types of Objects in Python"
      ],
      "metadata": {
        "id": "sUYEZhEcprPP"
      }
    },
    {
      "cell_type": "markdown",
      "source": [
        "1. Immutable 2. Mutable\n"
      ],
      "metadata": {
        "id": "5OyX-efjpy2-"
      }
    },
    {
      "cell_type": "markdown",
      "source": [
        "Immutable\n",
        "1. int\n",
        "2. float\n",
        "3. string\n",
        "4. bool\n",
        "5. tuple\n",
        "\n",
        "Mutable\n",
        "1. List\n",
        "2. Set\n",
        "3. Dictionanry"
      ],
      "metadata": {
        "id": "-WW0MpfNp3xA"
      }
    },
    {
      "cell_type": "markdown",
      "source": [
        "List"
      ],
      "metadata": {
        "id": "lykMHi05qJ1r"
      }
    },
    {
      "cell_type": "code",
      "source": [
        "#list should be in [] bracket\n",
        "my_list=[1,2,3,4,5]"
      ],
      "metadata": {
        "id": "IfFJK-DApulV"
      },
      "execution_count": 60,
      "outputs": []
    },
    {
      "cell_type": "code",
      "source": [
        "my_list"
      ],
      "metadata": {
        "colab": {
          "base_uri": "https://localhost:8080/"
        },
        "id": "XhlvSinlqOR9",
        "outputId": "9d30ebd7-4ed7-45f2-c597-1974a7ed5123"
      },
      "execution_count": 61,
      "outputs": [
        {
          "output_type": "execute_result",
          "data": {
            "text/plain": [
              "[1, 2, 3, 4, 5]"
            ]
          },
          "metadata": {},
          "execution_count": 61
        }
      ]
    },
    {
      "cell_type": "code",
      "source": [
        "type(my_list)"
      ],
      "metadata": {
        "colab": {
          "base_uri": "https://localhost:8080/"
        },
        "id": "Inf-P8W9qSPc",
        "outputId": "4db1893e-cf64-4435-ddfd-4986246331af"
      },
      "execution_count": 62,
      "outputs": [
        {
          "output_type": "execute_result",
          "data": {
            "text/plain": [
              "list"
            ]
          },
          "metadata": {},
          "execution_count": 62
        }
      ]
    },
    {
      "cell_type": "code",
      "source": [
        "type(my_list[0])"
      ],
      "metadata": {
        "colab": {
          "base_uri": "https://localhost:8080/"
        },
        "id": "3j1dqOXGqUVM",
        "outputId": "00c5e28c-ed9e-4187-bdfe-586415e7bd20"
      },
      "execution_count": 63,
      "outputs": [
        {
          "output_type": "execute_result",
          "data": {
            "text/plain": [
              "int"
            ]
          },
          "metadata": {},
          "execution_count": 63
        }
      ]
    },
    {
      "cell_type": "code",
      "source": [
        "#can store any data types (multiple)\n",
        "my_list=[2,3,1.8,'English',True]\n",
        "print(my_list)"
      ],
      "metadata": {
        "colab": {
          "base_uri": "https://localhost:8080/"
        },
        "id": "1VXIOUT2qWss",
        "outputId": "f6b85238-77b6-4513-9c5e-a5ea984a530d"
      },
      "execution_count": 2,
      "outputs": [
        {
          "output_type": "stream",
          "name": "stdout",
          "text": [
            "[2, 3, 1.8, 'English', True]\n"
          ]
        }
      ]
    },
    {
      "cell_type": "markdown",
      "source": [
        "List are mutable -> can be changed"
      ],
      "metadata": {
        "id": "e8lprKpzqoHh"
      }
    },
    {
      "cell_type": "code",
      "source": [
        "#add to list\n",
        "my_list.append(6)"
      ],
      "metadata": {
        "id": "6hYcb_4Eqj-s"
      },
      "execution_count": 3,
      "outputs": []
    },
    {
      "cell_type": "code",
      "source": [
        "my_list"
      ],
      "metadata": {
        "colab": {
          "base_uri": "https://localhost:8080/"
        },
        "id": "VHue6U9qqwRk",
        "outputId": "291ac6d1-e4ed-4fc9-8cca-412140554a41"
      },
      "execution_count": 4,
      "outputs": [
        {
          "output_type": "execute_result",
          "data": {
            "text/plain": [
              "[2, 3, 1.8, 'English', True, 6]"
            ]
          },
          "metadata": {},
          "execution_count": 4
        }
      ]
    },
    {
      "cell_type": "code",
      "source": [
        "#print elements of list using index\n",
        "print(my_list[3])"
      ],
      "metadata": {
        "colab": {
          "base_uri": "https://localhost:8080/"
        },
        "id": "V1MMAchdqxDc",
        "outputId": "ee00ae30-7f5f-4e33-d14c-84488b37a391"
      },
      "execution_count": 5,
      "outputs": [
        {
          "output_type": "stream",
          "name": "stdout",
          "text": [
            "English\n"
          ]
        }
      ]
    },
    {
      "cell_type": "markdown",
      "source": [
        "List allows duplicate values\n",
        "Set do not allow"
      ],
      "metadata": {
        "id": "nVe16UP583Gh"
      }
    },
    {
      "cell_type": "code",
      "source": [
        "print(len(my_list))"
      ],
      "metadata": {
        "colab": {
          "base_uri": "https://localhost:8080/"
        },
        "id": "MPXgfQwo86JL",
        "outputId": "e53c0fb8-ab9b-4410-d4c8-6c4799f81bb2"
      },
      "execution_count": 6,
      "outputs": [
        {
          "output_type": "stream",
          "name": "stdout",
          "text": [
            "6\n"
          ]
        }
      ]
    },
    {
      "cell_type": "code",
      "source": [
        "#initilizing empty list\n",
        "list2=[]"
      ],
      "metadata": {
        "id": "18CypQcI9GLz"
      },
      "execution_count": 7,
      "outputs": []
    },
    {
      "cell_type": "code",
      "source": [
        "list2.append(5)"
      ],
      "metadata": {
        "id": "cSepEN1i9MMz"
      },
      "execution_count": 8,
      "outputs": []
    },
    {
      "cell_type": "code",
      "source": [
        "list2"
      ],
      "metadata": {
        "colab": {
          "base_uri": "https://localhost:8080/"
        },
        "id": "sfHU2dW39RUF",
        "outputId": "4090d607-396a-49fd-a116-4e1ac9acdb97"
      },
      "execution_count": 9,
      "outputs": [
        {
          "output_type": "execute_result",
          "data": {
            "text/plain": [
              "[5]"
            ]
          },
          "metadata": {},
          "execution_count": 9
        }
      ]
    },
    {
      "cell_type": "code",
      "source": [
        "#delete an item in list\n",
        "del my_list[3]\n",
        "my_list"
      ],
      "metadata": {
        "colab": {
          "base_uri": "https://localhost:8080/"
        },
        "id": "AWYQzVub9SLT",
        "outputId": "76925621-882a-453a-fe00-02f9a32643f8"
      },
      "execution_count": 13,
      "outputs": [
        {
          "output_type": "execute_result",
          "data": {
            "text/plain": [
              "[2, 3, 1.8, True, 6]"
            ]
          },
          "metadata": {},
          "execution_count": 13
        }
      ]
    },
    {
      "cell_type": "code",
      "source": [
        "#join two lists\n",
        "list3=[1,2,3,',r',5.5]\n",
        "list4=[1,555,3,',jhr',5.5]\n",
        "list5=list3+list4\n",
        "list5"
      ],
      "metadata": {
        "colab": {
          "base_uri": "https://localhost:8080/"
        },
        "id": "kfPaVA5N9eIk",
        "outputId": "a34d37cb-537a-4712-839e-a5cd2d4db27e"
      },
      "execution_count": 14,
      "outputs": [
        {
          "output_type": "execute_result",
          "data": {
            "text/plain": [
              "[1, 2, 3, ',r', 5.5, 1, 555, 3, ',jhr', 5.5]"
            ]
          },
          "metadata": {},
          "execution_count": 14
        }
      ]
    },
    {
      "cell_type": "code",
      "source": [],
      "metadata": {
        "id": "6NwNYK1T91qz"
      },
      "execution_count": null,
      "outputs": []
    },
    {
      "cell_type": "markdown",
      "source": [
        "#Tuples"
      ],
      "metadata": {
        "id": "MZJkZY3o93bw"
      }
    },
    {
      "cell_type": "code",
      "source": [
        "#always enclosed in ()\n",
        "# allows multiple data types like lists\n",
        "tuple1=(1,5,8,'l',6.2)\n",
        "tuple1"
      ],
      "metadata": {
        "colab": {
          "base_uri": "https://localhost:8080/"
        },
        "id": "E4AsEqh_94Z7",
        "outputId": "053dec8e-d52b-457e-f84a-9b678f042e7e"
      },
      "execution_count": 15,
      "outputs": [
        {
          "output_type": "execute_result",
          "data": {
            "text/plain": [
              "(1, 5, 8, 'l', 6.2)"
            ]
          },
          "metadata": {},
          "execution_count": 15
        }
      ]
    },
    {
      "cell_type": "code",
      "source": [
        "#convert list to tuple\n",
        "my_tuple =tuple(my_list)\n",
        "my_tuple"
      ],
      "metadata": {
        "colab": {
          "base_uri": "https://localhost:8080/"
        },
        "id": "KS5QsNux-HTk",
        "outputId": "098cc9cf-9dad-4887-ccdc-c52c9f84d825"
      },
      "execution_count": 17,
      "outputs": [
        {
          "output_type": "execute_result",
          "data": {
            "text/plain": [
              "(2, 3, 1.8, True, 6)"
            ]
          },
          "metadata": {},
          "execution_count": 17
        }
      ]
    },
    {
      "cell_type": "code",
      "source": [
        "print(my_tuple[1])"
      ],
      "metadata": {
        "colab": {
          "base_uri": "https://localhost:8080/"
        },
        "id": "lYbCBxoI-QsT",
        "outputId": "c5cf0d41-2780-4b2d-9779-ffd4434dad5e"
      },
      "execution_count": 18,
      "outputs": [
        {
          "output_type": "stream",
          "name": "stdout",
          "text": [
            "3\n"
          ]
        }
      ]
    },
    {
      "cell_type": "markdown",
      "source": [
        "Tuples are immutable -> not chngeable"
      ],
      "metadata": {
        "id": "HaqJrTVY-dV2"
      }
    },
    {
      "cell_type": "code",
      "source": [
        "# my_tuple.append(5)        => error"
      ],
      "metadata": {
        "id": "mPT92kBG-XxD"
      },
      "execution_count": 20,
      "outputs": []
    },
    {
      "cell_type": "code",
      "source": [],
      "metadata": {
        "id": "uiWq8Q9X-mFV"
      },
      "execution_count": null,
      "outputs": []
    },
    {
      "cell_type": "markdown",
      "source": [
        "#Set"
      ],
      "metadata": {
        "id": "zxTchdi8-reC"
      }
    },
    {
      "cell_type": "markdown",
      "source": [
        "enclosed in {} brackets"
      ],
      "metadata": {
        "id": "TZ5bpVRR-tO6"
      }
    },
    {
      "cell_type": "code",
      "source": [
        "my_set={1,2,3,4,5}\n",
        "print(my_set)\n",
        "type(my_set)"
      ],
      "metadata": {
        "colab": {
          "base_uri": "https://localhost:8080/"
        },
        "id": "AuLdWQ_j-ve7",
        "outputId": "731be772-0b0e-437d-c5a4-bd607190ba09"
      },
      "execution_count": 21,
      "outputs": [
        {
          "output_type": "stream",
          "name": "stdout",
          "text": [
            "{1, 2, 3, 4, 5}\n"
          ]
        },
        {
          "output_type": "execute_result",
          "data": {
            "text/plain": [
              "set"
            ]
          },
          "metadata": {},
          "execution_count": 21
        }
      ]
    },
    {
      "cell_type": "code",
      "source": [],
      "metadata": {
        "id": "FYnvH3tg-3GT"
      },
      "execution_count": null,
      "outputs": []
    },
    {
      "cell_type": "markdown",
      "source": [
        "Does not support index "
      ],
      "metadata": {
        "id": "SaN7Dy5h-4lO"
      }
    },
    {
      "cell_type": "code",
      "source": [
        "# print(my_set[5])     =>error"
      ],
      "metadata": {
        "id": "Pv1JkFYJ-7Pj"
      },
      "execution_count": 23,
      "outputs": []
    },
    {
      "cell_type": "code",
      "source": [
        "# convert list to set\n",
        "list6=[4,5,7,8,9]\n",
        "x=set(list6)\n",
        "x"
      ],
      "metadata": {
        "colab": {
          "base_uri": "https://localhost:8080/"
        },
        "id": "4mHMhs4H-99T",
        "outputId": "add44670-8451-4219-f48e-8a75698c204f"
      },
      "execution_count": 26,
      "outputs": [
        {
          "output_type": "execute_result",
          "data": {
            "text/plain": [
              "{4, 5, 7, 8, 9}"
            ]
          },
          "metadata": {},
          "execution_count": 26
        }
      ]
    },
    {
      "cell_type": "markdown",
      "source": [
        "Set does not allow duplicate values"
      ],
      "metadata": {
        "id": "yuKUz9mq_P2_"
      }
    },
    {
      "cell_type": "code",
      "source": [
        "set3={1,2,5,5,4,5,4,5,4,5}\n",
        "set3"
      ],
      "metadata": {
        "colab": {
          "base_uri": "https://localhost:8080/"
        },
        "id": "qbCTO5V5_Sw1",
        "outputId": "f75258e1-a712-4bed-d791-085b574b64c1"
      },
      "execution_count": 27,
      "outputs": [
        {
          "output_type": "execute_result",
          "data": {
            "text/plain": [
              "{1, 2, 4, 5}"
            ]
          },
          "metadata": {},
          "execution_count": 27
        }
      ]
    },
    {
      "cell_type": "code",
      "source": [],
      "metadata": {
        "id": "luOrrs_s_hnU"
      },
      "execution_count": null,
      "outputs": []
    },
    {
      "cell_type": "markdown",
      "source": [
        "#Dictionary"
      ],
      "metadata": {
        "id": "KXQaLdRW_juo"
      }
    },
    {
      "cell_type": "markdown",
      "source": [
        "Key value pair"
      ],
      "metadata": {
        "id": "zJoewRoc_mQx"
      }
    },
    {
      "cell_type": "code",
      "source": [
        "my_dict={\"name\":\"David\",\"age\":30,\"country\":\"India\"}"
      ],
      "metadata": {
        "id": "-ATS2Jfv_lTL"
      },
      "execution_count": 28,
      "outputs": []
    },
    {
      "cell_type": "code",
      "source": [
        "my_dict"
      ],
      "metadata": {
        "colab": {
          "base_uri": "https://localhost:8080/"
        },
        "id": "fz4pMyCm_0uL",
        "outputId": "964204f1-6619-4560-a2c9-e733046b3b53"
      },
      "execution_count": 29,
      "outputs": [
        {
          "output_type": "execute_result",
          "data": {
            "text/plain": [
              "{'name': 'David', 'age': 30, 'country': 'India'}"
            ]
          },
          "metadata": {},
          "execution_count": 29
        }
      ]
    },
    {
      "cell_type": "code",
      "source": [
        "type(my_dict)"
      ],
      "metadata": {
        "colab": {
          "base_uri": "https://localhost:8080/"
        },
        "id": "dY-3qcqm_1ir",
        "outputId": "2f26e122-894d-47b7-b2ac-d518076567d1"
      },
      "execution_count": 30,
      "outputs": [
        {
          "output_type": "execute_result",
          "data": {
            "text/plain": [
              "dict"
            ]
          },
          "metadata": {},
          "execution_count": 30
        }
      ]
    },
    {
      "cell_type": "code",
      "source": [
        "print(my_dict['name'])"
      ],
      "metadata": {
        "colab": {
          "base_uri": "https://localhost:8080/"
        },
        "id": "aJXc2KPF_3Zz",
        "outputId": "ccd8f68c-4f55-4139-faf5-56bfa88376dc"
      },
      "execution_count": 31,
      "outputs": [
        {
          "output_type": "stream",
          "name": "stdout",
          "text": [
            "David\n"
          ]
        }
      ]
    },
    {
      "cell_type": "markdown",
      "source": [
        "Does not allow duplicate values like set"
      ],
      "metadata": {
        "id": "g93FQMQwAFXX"
      }
    },
    {
      "cell_type": "code",
      "source": [
        "my_dict2={\"name\":\"David\",\"name\":\"David\",\"age\":30,\"country\":\"India\"}\n",
        "my_dict2"
      ],
      "metadata": {
        "colab": {
          "base_uri": "https://localhost:8080/"
        },
        "id": "Do0ztl2SAIFj",
        "outputId": "cb50c2bb-5681-4cb5-98c0-531011414062"
      },
      "execution_count": 33,
      "outputs": [
        {
          "output_type": "execute_result",
          "data": {
            "text/plain": [
              "{'name': 'David', 'age': 30, 'country': 'India'}"
            ]
          },
          "metadata": {},
          "execution_count": 33
        }
      ]
    },
    {
      "cell_type": "code",
      "source": [],
      "metadata": {
        "id": "f2js_-dgAR20"
      },
      "execution_count": null,
      "outputs": []
    },
    {
      "cell_type": "markdown",
      "source": [
        "#Operators"
      ],
      "metadata": {
        "id": "mV0iZOkTAac8"
      }
    },
    {
      "cell_type": "markdown",
      "source": [
        "1. Arithmetic\n",
        "2. Assignment\n",
        "3. Comparison\n",
        "4. Logical\n",
        "5. Identity\n",
        "6. Membership"
      ],
      "metadata": {
        "id": "M4WDuf2PAcaR"
      }
    },
    {
      "cell_type": "code",
      "source": [
        "#1. Arithmetic =>    +,-,*,/, **,%\n",
        "n1=20\n",
        "n2=5\n",
        "print(n1+n2)\n",
        "print(n1-n2)"
      ],
      "metadata": {
        "colab": {
          "base_uri": "https://localhost:8080/"
        },
        "id": "F2t21yUoAmj0",
        "outputId": "cb2d660b-c472-42c3-9e68-435e4530be8d"
      },
      "execution_count": 38,
      "outputs": [
        {
          "output_type": "stream",
          "name": "stdout",
          "text": [
            "25\n",
            "15\n"
          ]
        }
      ]
    },
    {
      "cell_type": "code",
      "source": [
        "exp=n1**n2\n",
        "exp"
      ],
      "metadata": {
        "colab": {
          "base_uri": "https://localhost:8080/"
        },
        "id": "GbfBZ58KAuji",
        "outputId": "926c92d7-fd2a-40eb-bda5-e6b6a214efcc"
      },
      "execution_count": 39,
      "outputs": [
        {
          "output_type": "execute_result",
          "data": {
            "text/plain": [
              "3200000"
            ]
          },
          "metadata": {},
          "execution_count": 39
        }
      ]
    },
    {
      "cell_type": "code",
      "source": [
        "n1%n2  \n",
        "#modulus"
      ],
      "metadata": {
        "colab": {
          "base_uri": "https://localhost:8080/"
        },
        "id": "UEVZb2YZBLo0",
        "outputId": "afaa5406-a7e1-42d3-9840-22e74c64eb05"
      },
      "execution_count": 41,
      "outputs": [
        {
          "output_type": "execute_result",
          "data": {
            "text/plain": [
              "0"
            ]
          },
          "metadata": {},
          "execution_count": 41
        }
      ]
    },
    {
      "cell_type": "code",
      "source": [],
      "metadata": {
        "id": "Z9W6EyAkBUbT"
      },
      "execution_count": null,
      "outputs": []
    },
    {
      "cell_type": "markdown",
      "source": [
        "Assignment operators =>   =,+=,-=,*=,/=,%=,**=,*="
      ],
      "metadata": {
        "id": "xRIyS8lrBd1F"
      }
    },
    {
      "cell_type": "code",
      "source": [
        "a=5"
      ],
      "metadata": {
        "id": "6uVxMu3JBfEE"
      },
      "execution_count": 52,
      "outputs": []
    },
    {
      "cell_type": "code",
      "source": [
        "a"
      ],
      "metadata": {
        "colab": {
          "base_uri": "https://localhost:8080/"
        },
        "id": "aPUV7qgyBgsD",
        "outputId": "12ea7b04-a6ad-4c97-88ca-253a79c740a1"
      },
      "execution_count": 53,
      "outputs": [
        {
          "output_type": "execute_result",
          "data": {
            "text/plain": [
              "5"
            ]
          },
          "metadata": {},
          "execution_count": 53
        }
      ]
    },
    {
      "cell_type": "code",
      "source": [
        "a+=4"
      ],
      "metadata": {
        "id": "DEFA42BTBhJC"
      },
      "execution_count": 54,
      "outputs": []
    },
    {
      "cell_type": "code",
      "source": [
        "a"
      ],
      "metadata": {
        "colab": {
          "base_uri": "https://localhost:8080/"
        },
        "id": "_SBo1oH6BqDD",
        "outputId": "0d476a10-efdf-43fd-cef7-0643f079409a"
      },
      "execution_count": 55,
      "outputs": [
        {
          "output_type": "execute_result",
          "data": {
            "text/plain": [
              "9"
            ]
          },
          "metadata": {},
          "execution_count": 55
        }
      ]
    },
    {
      "cell_type": "code",
      "source": [],
      "metadata": {
        "id": "zQsiQ94wBqXT"
      },
      "execution_count": 55,
      "outputs": []
    },
    {
      "cell_type": "markdown",
      "source": [
        "Comparison operators => ==,!=,>=,<=,>,<,"
      ],
      "metadata": {
        "id": "1_RTB1FhB9o1"
      }
    },
    {
      "cell_type": "code",
      "source": [
        "a=5\n",
        "b=4\n",
        "print(a==b)\n",
        "print(a>b)\n",
        "print(b>a)\n",
        "print(a!=b)"
      ],
      "metadata": {
        "colab": {
          "base_uri": "https://localhost:8080/"
        },
        "id": "eNKUgO7gB_N7",
        "outputId": "d78e6ea5-f2ce-4024-ab3a-6a9c76ec6e19"
      },
      "execution_count": 58,
      "outputs": [
        {
          "output_type": "stream",
          "name": "stdout",
          "text": [
            "False\n",
            "True\n",
            "False\n",
            "True\n"
          ]
        }
      ]
    },
    {
      "cell_type": "code",
      "source": [],
      "metadata": {
        "id": "WT-5RqiaCEmL"
      },
      "execution_count": 58,
      "outputs": []
    },
    {
      "cell_type": "markdown",
      "source": [
        "Logical operators"
      ],
      "metadata": {
        "id": "McROIyptCWcm"
      }
    },
    {
      "cell_type": "markdown",
      "source": [
        "and,or,not"
      ],
      "metadata": {
        "id": "YKc0UkaICYsi"
      }
    },
    {
      "cell_type": "code",
      "source": [
        "a=10\n",
        "b=10\n",
        "print(a>5 and a==b)"
      ],
      "metadata": {
        "colab": {
          "base_uri": "https://localhost:8080/"
        },
        "id": "aLF8QZnHCaJr",
        "outputId": "9869909c-e256-4441-a233-68f03fb6d3ff"
      },
      "execution_count": 62,
      "outputs": [
        {
          "output_type": "stream",
          "name": "stdout",
          "text": [
            "True\n"
          ]
        }
      ]
    },
    {
      "cell_type": "code",
      "source": [],
      "metadata": {
        "id": "qIS1G-T6CgBa"
      },
      "execution_count": null,
      "outputs": []
    },
    {
      "cell_type": "markdown",
      "source": [
        "Identity Operator"
      ],
      "metadata": {
        "id": "0nWuTnEjYhWF"
      }
    },
    {
      "cell_type": "markdown",
      "source": [
        "is <br>\n",
        "is not"
      ],
      "metadata": {
        "id": "0KuaXY9KYjeK"
      }
    },
    {
      "cell_type": "code",
      "source": [
        "x=5\n",
        "y=10\n",
        "print(x is y)"
      ],
      "metadata": {
        "colab": {
          "base_uri": "https://localhost:8080/"
        },
        "id": "bkY6nc9rYk3B",
        "outputId": "3f3cdce8-ab7b-4dff-faa8-c72f8acc32ce"
      },
      "execution_count": 1,
      "outputs": [
        {
          "output_type": "stream",
          "name": "stdout",
          "text": [
            "False\n"
          ]
        }
      ]
    },
    {
      "cell_type": "code",
      "source": [
        "print(x is not y)"
      ],
      "metadata": {
        "colab": {
          "base_uri": "https://localhost:8080/"
        },
        "id": "k97yDzvGYrux",
        "outputId": "60ad92ec-5679-486f-a05a-5b8eb66efb6f"
      },
      "execution_count": 2,
      "outputs": [
        {
          "output_type": "stream",
          "name": "stdout",
          "text": [
            "True\n"
          ]
        }
      ]
    },
    {
      "cell_type": "markdown",
      "source": [
        "Membership operator"
      ],
      "metadata": {
        "id": "WQY6-HUoYxg_"
      }
    },
    {
      "cell_type": "markdown",
      "source": [
        "in<br>\n",
        "not in"
      ],
      "metadata": {
        "id": "V5N6I4OFY2nC"
      }
    },
    {
      "cell_type": "code",
      "source": [
        "a=5\n",
        "b=10\n",
        "c=[1,2,3,4,5]\n",
        "print(a in c)\n",
        "print(b in c)"
      ],
      "metadata": {
        "colab": {
          "base_uri": "https://localhost:8080/"
        },
        "id": "xefjOWYbYzpu",
        "outputId": "276c7e73-9306-4086-e039-91fd7d358089"
      },
      "execution_count": 3,
      "outputs": [
        {
          "output_type": "stream",
          "name": "stdout",
          "text": [
            "True\n",
            "False\n"
          ]
        }
      ]
    },
    {
      "cell_type": "code",
      "source": [
        "print(b not in c)"
      ],
      "metadata": {
        "colab": {
          "base_uri": "https://localhost:8080/"
        },
        "id": "DH14nm2BZCnB",
        "outputId": "4cd1fb92-2d0a-403d-f2b6-097cc996778c"
      },
      "execution_count": 4,
      "outputs": [
        {
          "output_type": "stream",
          "name": "stdout",
          "text": [
            "True\n"
          ]
        }
      ]
    },
    {
      "cell_type": "code",
      "source": [],
      "metadata": {
        "id": "r7JFXlQzZFVR"
      },
      "execution_count": null,
      "outputs": []
    },
    {
      "cell_type": "markdown",
      "source": [
        "#if else Statements in Python"
      ],
      "metadata": {
        "id": "ykiOxyGzZM0V"
      }
    },
    {
      "cell_type": "code",
      "source": [
        "a=30 \n",
        "b=50\n",
        "if(a>b):\n",
        "  print('a is greater numbber')\n",
        "else:\n",
        "  print('b is greater than a')"
      ],
      "metadata": {
        "colab": {
          "base_uri": "https://localhost:8080/"
        },
        "id": "CUTO1sDPZXdi",
        "outputId": "12248a7c-9322-48a4-b41e-5601dea67b34"
      },
      "execution_count": 5,
      "outputs": [
        {
          "output_type": "stream",
          "name": "stdout",
          "text": [
            "b is greater than a\n"
          ]
        }
      ]
    },
    {
      "cell_type": "code",
      "source": [
        "c=6"
      ],
      "metadata": {
        "id": "vM9oo8oVZmYq"
      },
      "execution_count": 8,
      "outputs": []
    },
    {
      "cell_type": "code",
      "source": [
        "if b<a>c:\n",
        "  print('a is greatest')\n",
        "elif(a<b>c):\n",
        "  print('b is greater')\n",
        "else:\n",
        "  print('c is greater')"
      ],
      "metadata": {
        "colab": {
          "base_uri": "https://localhost:8080/"
        },
        "id": "J9jlTHgsaIdq",
        "outputId": "89e0a3c2-54aa-46fb-f4b6-69e5b8dbeb54"
      },
      "execution_count": 9,
      "outputs": [
        {
          "output_type": "stream",
          "name": "stdout",
          "text": [
            "b is greater\n"
          ]
        }
      ]
    },
    {
      "cell_type": "code",
      "source": [],
      "metadata": {
        "id": "Xi0rhfR_abph"
      },
      "execution_count": null,
      "outputs": []
    },
    {
      "cell_type": "markdown",
      "source": [
        "#Loops"
      ],
      "metadata": {
        "id": "jnnsuZo9bUZg"
      }
    },
    {
      "cell_type": "markdown",
      "source": [
        "For Loop"
      ],
      "metadata": {
        "id": "NB36ZQXpbXmx"
      }
    },
    {
      "cell_type": "code",
      "source": [
        "laptop1 = int(input('Enter the price of laptop : '))"
      ],
      "metadata": {
        "colab": {
          "base_uri": "https://localhost:8080/"
        },
        "id": "VgP_KIPnbZra",
        "outputId": "2037a937-d00c-4171-ed7b-ce810d0d1c6a"
      },
      "execution_count": 11,
      "outputs": [
        {
          "name": "stdout",
          "output_type": "stream",
          "text": [
            "Enter the price of laptop : 50000\n"
          ]
        }
      ]
    },
    {
      "cell_type": "code",
      "source": [
        "for i in range(5):\n",
        "  laptop_price=int(input('Enter price : '))\n"
      ],
      "metadata": {
        "colab": {
          "base_uri": "https://localhost:8080/"
        },
        "id": "nPwUxtPEbe8A",
        "outputId": "e8b50333-d628-464a-cb62-0c4519531416"
      },
      "execution_count": 13,
      "outputs": [
        {
          "name": "stdout",
          "output_type": "stream",
          "text": [
            "Enter price : 50000\n",
            "Enter price : 23\n",
            "Enter price : 2\n",
            "Enter price : 1\n",
            "Enter price : 5\n"
          ]
        }
      ]
    },
    {
      "cell_type": "code",
      "source": [
        "laptop_price"
      ],
      "metadata": {
        "colab": {
          "base_uri": "https://localhost:8080/"
        },
        "id": "aUrO3ekxb8qh",
        "outputId": "90f5a55d-25ee-48f5-873c-a01513ecd2d4"
      },
      "execution_count": 14,
      "outputs": [
        {
          "output_type": "execute_result",
          "data": {
            "text/plain": [
              "5"
            ]
          },
          "metadata": {},
          "execution_count": 14
        }
      ]
    },
    {
      "cell_type": "code",
      "source": [
        "li = [1,2,3,4,5,6,227,8,9]\n",
        "for i in range(len(li)):\n",
        "  print(li[i])"
      ],
      "metadata": {
        "colab": {
          "base_uri": "https://localhost:8080/"
        },
        "id": "Cpp3AV8icPzh",
        "outputId": "0ba61af4-0f26-4d42-ee61-e08902961856"
      },
      "execution_count": 17,
      "outputs": [
        {
          "output_type": "stream",
          "name": "stdout",
          "text": [
            "1\n",
            "2\n",
            "3\n",
            "4\n",
            "5\n",
            "6\n",
            "227\n",
            "8\n",
            "9\n"
          ]
        }
      ]
    },
    {
      "cell_type": "markdown",
      "source": [
        "while loop"
      ],
      "metadata": {
        "id": "K9SeJ0H8dF2T"
      }
    },
    {
      "cell_type": "code",
      "source": [
        "i=0\n",
        "while i<10:\n",
        "  print(i)\n",
        "  i+=1"
      ],
      "metadata": {
        "colab": {
          "base_uri": "https://localhost:8080/"
        },
        "id": "kgEZreu_c8Xh",
        "outputId": "db6f04bf-73b4-4705-de2b-97a1cb61cce3"
      },
      "execution_count": 3,
      "outputs": [
        {
          "output_type": "stream",
          "name": "stdout",
          "text": [
            "0\n",
            "1\n",
            "2\n",
            "3\n",
            "4\n",
            "5\n",
            "6\n",
            "7\n",
            "8\n",
            "9\n"
          ]
        }
      ]
    },
    {
      "cell_type": "markdown",
      "source": [
        "#Functions in Python"
      ],
      "metadata": {
        "id": "8G3P2sTMeBgX"
      }
    },
    {
      "cell_type": "markdown",
      "source": [
        "Block of code that can be reused in the program"
      ],
      "metadata": {
        "id": "1DrSXuc5eF8g"
      }
    },
    {
      "cell_type": "code",
      "source": [
        "#Factorial of number\n",
        "def fact(n):\n",
        "  if(n==0):\n",
        "    print(n)\n",
        "  factorial = 1\n",
        "  for i in range(1,n+1):\n",
        "    factorial = factorial*i\n",
        "\n",
        "  print(factorial)"
      ],
      "metadata": {
        "id": "IXjXnHFQdPQJ"
      },
      "execution_count": 21,
      "outputs": []
    },
    {
      "cell_type": "code",
      "source": [
        "fact(8)"
      ],
      "metadata": {
        "colab": {
          "base_uri": "https://localhost:8080/"
        },
        "id": "FMFsqwyteu4i",
        "outputId": "838c5f42-96cf-4add-9fb6-951a2a261875"
      },
      "execution_count": 23,
      "outputs": [
        {
          "output_type": "stream",
          "name": "stdout",
          "text": [
            "40320\n"
          ]
        }
      ]
    },
    {
      "cell_type": "code",
      "source": [
        "   "
      ],
      "metadata": {
        "id": "xWGHlq0he0Tp"
      },
      "execution_count": null,
      "outputs": []
    }
  ]
}