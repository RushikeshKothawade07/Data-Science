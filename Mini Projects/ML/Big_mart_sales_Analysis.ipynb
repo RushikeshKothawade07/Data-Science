{
  "nbformat": 4,
  "nbformat_minor": 0,
  "metadata": {
    "colab": {
      "provenance": []
    },
    "kernelspec": {
      "name": "python3",
      "display_name": "Python 3"
    },
    "language_info": {
      "name": "python"
    }
  },
  "cells": [
    {
      "cell_type": "code",
      "execution_count": 254,
      "metadata": {
        "id": "w9OcDfLS65FW"
      },
      "outputs": [],
      "source": [
        "import numpy as np\n",
        "import pandas as pd\n",
        "import matplotlib.pyplot as plt\n",
        "import seaborn as sns\n",
        "from sklearn.preprocessing import LabelEncoder\n",
        "from sklearn.model_selection import train_test_split\n",
        "from xgboost import XGBRegressor\n",
        "from sklearn import metrics"
      ]
    },
    {
      "cell_type": "code",
      "source": [
        "# Data Collection and Analysis"
      ],
      "metadata": {
        "id": "PpaUeZsJ85wQ"
      },
      "execution_count": 255,
      "outputs": []
    },
    {
      "cell_type": "code",
      "source": [
        "df = pd.read_csv('/content/big_mart_data.csv')"
      ],
      "metadata": {
        "id": "-uHxPg5k9CGm"
      },
      "execution_count": 256,
      "outputs": []
    },
    {
      "cell_type": "code",
      "source": [
        "df.head()"
      ],
      "metadata": {
        "colab": {
          "base_uri": "https://localhost:8080/",
          "height": 357
        },
        "id": "w7-KhbI49LlO",
        "outputId": "38278225-1219-4a53-eea1-031cff8a4951"
      },
      "execution_count": 257,
      "outputs": [
        {
          "output_type": "execute_result",
          "data": {
            "text/plain": [
              "  Item_Identifier  Item_Weight  ...        Outlet_Type  Item_Outlet_Sales\n",
              "0           FDA15         9.30  ...  Supermarket Type1          3735.1380\n",
              "1           DRC01         5.92  ...  Supermarket Type2           443.4228\n",
              "2           FDN15        17.50  ...  Supermarket Type1          2097.2700\n",
              "3           FDX07        19.20  ...      Grocery Store           732.3800\n",
              "4           NCD19         8.93  ...  Supermarket Type1           994.7052\n",
              "\n",
              "[5 rows x 12 columns]"
            ],
            "text/html": [
              "\n",
              "  <div id=\"df-bdf0ea7d-daf8-4ea7-ae70-4e17a90b7599\">\n",
              "    <div class=\"colab-df-container\">\n",
              "      <div>\n",
              "<style scoped>\n",
              "    .dataframe tbody tr th:only-of-type {\n",
              "        vertical-align: middle;\n",
              "    }\n",
              "\n",
              "    .dataframe tbody tr th {\n",
              "        vertical-align: top;\n",
              "    }\n",
              "\n",
              "    .dataframe thead th {\n",
              "        text-align: right;\n",
              "    }\n",
              "</style>\n",
              "<table border=\"1\" class=\"dataframe\">\n",
              "  <thead>\n",
              "    <tr style=\"text-align: right;\">\n",
              "      <th></th>\n",
              "      <th>Item_Identifier</th>\n",
              "      <th>Item_Weight</th>\n",
              "      <th>Item_Fat_Content</th>\n",
              "      <th>Item_Visibility</th>\n",
              "      <th>Item_Type</th>\n",
              "      <th>Item_MRP</th>\n",
              "      <th>Outlet_Identifier</th>\n",
              "      <th>Outlet_Establishment_Year</th>\n",
              "      <th>Outlet_Size</th>\n",
              "      <th>Outlet_Location_Type</th>\n",
              "      <th>Outlet_Type</th>\n",
              "      <th>Item_Outlet_Sales</th>\n",
              "    </tr>\n",
              "  </thead>\n",
              "  <tbody>\n",
              "    <tr>\n",
              "      <th>0</th>\n",
              "      <td>FDA15</td>\n",
              "      <td>9.30</td>\n",
              "      <td>Low Fat</td>\n",
              "      <td>0.016047</td>\n",
              "      <td>Dairy</td>\n",
              "      <td>249.8092</td>\n",
              "      <td>OUT049</td>\n",
              "      <td>1999</td>\n",
              "      <td>Medium</td>\n",
              "      <td>Tier 1</td>\n",
              "      <td>Supermarket Type1</td>\n",
              "      <td>3735.1380</td>\n",
              "    </tr>\n",
              "    <tr>\n",
              "      <th>1</th>\n",
              "      <td>DRC01</td>\n",
              "      <td>5.92</td>\n",
              "      <td>Regular</td>\n",
              "      <td>0.019278</td>\n",
              "      <td>Soft Drinks</td>\n",
              "      <td>48.2692</td>\n",
              "      <td>OUT018</td>\n",
              "      <td>2009</td>\n",
              "      <td>Medium</td>\n",
              "      <td>Tier 3</td>\n",
              "      <td>Supermarket Type2</td>\n",
              "      <td>443.4228</td>\n",
              "    </tr>\n",
              "    <tr>\n",
              "      <th>2</th>\n",
              "      <td>FDN15</td>\n",
              "      <td>17.50</td>\n",
              "      <td>Low Fat</td>\n",
              "      <td>0.016760</td>\n",
              "      <td>Meat</td>\n",
              "      <td>141.6180</td>\n",
              "      <td>OUT049</td>\n",
              "      <td>1999</td>\n",
              "      <td>Medium</td>\n",
              "      <td>Tier 1</td>\n",
              "      <td>Supermarket Type1</td>\n",
              "      <td>2097.2700</td>\n",
              "    </tr>\n",
              "    <tr>\n",
              "      <th>3</th>\n",
              "      <td>FDX07</td>\n",
              "      <td>19.20</td>\n",
              "      <td>Regular</td>\n",
              "      <td>0.000000</td>\n",
              "      <td>Fruits and Vegetables</td>\n",
              "      <td>182.0950</td>\n",
              "      <td>OUT010</td>\n",
              "      <td>1998</td>\n",
              "      <td>NaN</td>\n",
              "      <td>Tier 3</td>\n",
              "      <td>Grocery Store</td>\n",
              "      <td>732.3800</td>\n",
              "    </tr>\n",
              "    <tr>\n",
              "      <th>4</th>\n",
              "      <td>NCD19</td>\n",
              "      <td>8.93</td>\n",
              "      <td>Low Fat</td>\n",
              "      <td>0.000000</td>\n",
              "      <td>Household</td>\n",
              "      <td>53.8614</td>\n",
              "      <td>OUT013</td>\n",
              "      <td>1987</td>\n",
              "      <td>High</td>\n",
              "      <td>Tier 3</td>\n",
              "      <td>Supermarket Type1</td>\n",
              "      <td>994.7052</td>\n",
              "    </tr>\n",
              "  </tbody>\n",
              "</table>\n",
              "</div>\n",
              "      <button class=\"colab-df-convert\" onclick=\"convertToInteractive('df-bdf0ea7d-daf8-4ea7-ae70-4e17a90b7599')\"\n",
              "              title=\"Convert this dataframe to an interactive table.\"\n",
              "              style=\"display:none;\">\n",
              "        \n",
              "  <svg xmlns=\"http://www.w3.org/2000/svg\" height=\"24px\"viewBox=\"0 0 24 24\"\n",
              "       width=\"24px\">\n",
              "    <path d=\"M0 0h24v24H0V0z\" fill=\"none\"/>\n",
              "    <path d=\"M18.56 5.44l.94 2.06.94-2.06 2.06-.94-2.06-.94-.94-2.06-.94 2.06-2.06.94zm-11 1L8.5 8.5l.94-2.06 2.06-.94-2.06-.94L8.5 2.5l-.94 2.06-2.06.94zm10 10l.94 2.06.94-2.06 2.06-.94-2.06-.94-.94-2.06-.94 2.06-2.06.94z\"/><path d=\"M17.41 7.96l-1.37-1.37c-.4-.4-.92-.59-1.43-.59-.52 0-1.04.2-1.43.59L10.3 9.45l-7.72 7.72c-.78.78-.78 2.05 0 2.83L4 21.41c.39.39.9.59 1.41.59.51 0 1.02-.2 1.41-.59l7.78-7.78 2.81-2.81c.8-.78.8-2.07 0-2.86zM5.41 20L4 18.59l7.72-7.72 1.47 1.35L5.41 20z\"/>\n",
              "  </svg>\n",
              "      </button>\n",
              "      \n",
              "  <style>\n",
              "    .colab-df-container {\n",
              "      display:flex;\n",
              "      flex-wrap:wrap;\n",
              "      gap: 12px;\n",
              "    }\n",
              "\n",
              "    .colab-df-convert {\n",
              "      background-color: #E8F0FE;\n",
              "      border: none;\n",
              "      border-radius: 50%;\n",
              "      cursor: pointer;\n",
              "      display: none;\n",
              "      fill: #1967D2;\n",
              "      height: 32px;\n",
              "      padding: 0 0 0 0;\n",
              "      width: 32px;\n",
              "    }\n",
              "\n",
              "    .colab-df-convert:hover {\n",
              "      background-color: #E2EBFA;\n",
              "      box-shadow: 0px 1px 2px rgba(60, 64, 67, 0.3), 0px 1px 3px 1px rgba(60, 64, 67, 0.15);\n",
              "      fill: #174EA6;\n",
              "    }\n",
              "\n",
              "    [theme=dark] .colab-df-convert {\n",
              "      background-color: #3B4455;\n",
              "      fill: #D2E3FC;\n",
              "    }\n",
              "\n",
              "    [theme=dark] .colab-df-convert:hover {\n",
              "      background-color: #434B5C;\n",
              "      box-shadow: 0px 1px 3px 1px rgba(0, 0, 0, 0.15);\n",
              "      filter: drop-shadow(0px 1px 2px rgba(0, 0, 0, 0.3));\n",
              "      fill: #FFFFFF;\n",
              "    }\n",
              "  </style>\n",
              "\n",
              "      <script>\n",
              "        const buttonEl =\n",
              "          document.querySelector('#df-bdf0ea7d-daf8-4ea7-ae70-4e17a90b7599 button.colab-df-convert');\n",
              "        buttonEl.style.display =\n",
              "          google.colab.kernel.accessAllowed ? 'block' : 'none';\n",
              "\n",
              "        async function convertToInteractive(key) {\n",
              "          const element = document.querySelector('#df-bdf0ea7d-daf8-4ea7-ae70-4e17a90b7599');\n",
              "          const dataTable =\n",
              "            await google.colab.kernel.invokeFunction('convertToInteractive',\n",
              "                                                     [key], {});\n",
              "          if (!dataTable) return;\n",
              "\n",
              "          const docLinkHtml = 'Like what you see? Visit the ' +\n",
              "            '<a target=\"_blank\" href=https://colab.research.google.com/notebooks/data_table.ipynb>data table notebook</a>'\n",
              "            + ' to learn more about interactive tables.';\n",
              "          element.innerHTML = '';\n",
              "          dataTable['output_type'] = 'display_data';\n",
              "          await google.colab.output.renderOutput(dataTable, element);\n",
              "          const docLink = document.createElement('div');\n",
              "          docLink.innerHTML = docLinkHtml;\n",
              "          element.appendChild(docLink);\n",
              "        }\n",
              "      </script>\n",
              "    </div>\n",
              "  </div>\n",
              "  "
            ]
          },
          "metadata": {},
          "execution_count": 257
        }
      ]
    },
    {
      "cell_type": "code",
      "source": [
        "df.describe()"
      ],
      "metadata": {
        "colab": {
          "base_uri": "https://localhost:8080/",
          "height": 300
        },
        "id": "tlYot3PP9NP3",
        "outputId": "b96888fc-751b-4918-eed0-372fed2a3f60"
      },
      "execution_count": 258,
      "outputs": [
        {
          "output_type": "execute_result",
          "data": {
            "text/plain": [
              "       Item_Weight  ...  Item_Outlet_Sales\n",
              "count  7060.000000  ...        8523.000000\n",
              "mean     12.857645  ...        2181.288914\n",
              "std       4.643456  ...        1706.499616\n",
              "min       4.555000  ...          33.290000\n",
              "25%       8.773750  ...         834.247400\n",
              "50%      12.600000  ...        1794.331000\n",
              "75%      16.850000  ...        3101.296400\n",
              "max      21.350000  ...       13086.964800\n",
              "\n",
              "[8 rows x 5 columns]"
            ],
            "text/html": [
              "\n",
              "  <div id=\"df-5a7a3f75-e760-4781-a2de-f1ac52607146\">\n",
              "    <div class=\"colab-df-container\">\n",
              "      <div>\n",
              "<style scoped>\n",
              "    .dataframe tbody tr th:only-of-type {\n",
              "        vertical-align: middle;\n",
              "    }\n",
              "\n",
              "    .dataframe tbody tr th {\n",
              "        vertical-align: top;\n",
              "    }\n",
              "\n",
              "    .dataframe thead th {\n",
              "        text-align: right;\n",
              "    }\n",
              "</style>\n",
              "<table border=\"1\" class=\"dataframe\">\n",
              "  <thead>\n",
              "    <tr style=\"text-align: right;\">\n",
              "      <th></th>\n",
              "      <th>Item_Weight</th>\n",
              "      <th>Item_Visibility</th>\n",
              "      <th>Item_MRP</th>\n",
              "      <th>Outlet_Establishment_Year</th>\n",
              "      <th>Item_Outlet_Sales</th>\n",
              "    </tr>\n",
              "  </thead>\n",
              "  <tbody>\n",
              "    <tr>\n",
              "      <th>count</th>\n",
              "      <td>7060.000000</td>\n",
              "      <td>8523.000000</td>\n",
              "      <td>8523.000000</td>\n",
              "      <td>8523.000000</td>\n",
              "      <td>8523.000000</td>\n",
              "    </tr>\n",
              "    <tr>\n",
              "      <th>mean</th>\n",
              "      <td>12.857645</td>\n",
              "      <td>0.066132</td>\n",
              "      <td>140.992782</td>\n",
              "      <td>1997.831867</td>\n",
              "      <td>2181.288914</td>\n",
              "    </tr>\n",
              "    <tr>\n",
              "      <th>std</th>\n",
              "      <td>4.643456</td>\n",
              "      <td>0.051598</td>\n",
              "      <td>62.275067</td>\n",
              "      <td>8.371760</td>\n",
              "      <td>1706.499616</td>\n",
              "    </tr>\n",
              "    <tr>\n",
              "      <th>min</th>\n",
              "      <td>4.555000</td>\n",
              "      <td>0.000000</td>\n",
              "      <td>31.290000</td>\n",
              "      <td>1985.000000</td>\n",
              "      <td>33.290000</td>\n",
              "    </tr>\n",
              "    <tr>\n",
              "      <th>25%</th>\n",
              "      <td>8.773750</td>\n",
              "      <td>0.026989</td>\n",
              "      <td>93.826500</td>\n",
              "      <td>1987.000000</td>\n",
              "      <td>834.247400</td>\n",
              "    </tr>\n",
              "    <tr>\n",
              "      <th>50%</th>\n",
              "      <td>12.600000</td>\n",
              "      <td>0.053931</td>\n",
              "      <td>143.012800</td>\n",
              "      <td>1999.000000</td>\n",
              "      <td>1794.331000</td>\n",
              "    </tr>\n",
              "    <tr>\n",
              "      <th>75%</th>\n",
              "      <td>16.850000</td>\n",
              "      <td>0.094585</td>\n",
              "      <td>185.643700</td>\n",
              "      <td>2004.000000</td>\n",
              "      <td>3101.296400</td>\n",
              "    </tr>\n",
              "    <tr>\n",
              "      <th>max</th>\n",
              "      <td>21.350000</td>\n",
              "      <td>0.328391</td>\n",
              "      <td>266.888400</td>\n",
              "      <td>2009.000000</td>\n",
              "      <td>13086.964800</td>\n",
              "    </tr>\n",
              "  </tbody>\n",
              "</table>\n",
              "</div>\n",
              "      <button class=\"colab-df-convert\" onclick=\"convertToInteractive('df-5a7a3f75-e760-4781-a2de-f1ac52607146')\"\n",
              "              title=\"Convert this dataframe to an interactive table.\"\n",
              "              style=\"display:none;\">\n",
              "        \n",
              "  <svg xmlns=\"http://www.w3.org/2000/svg\" height=\"24px\"viewBox=\"0 0 24 24\"\n",
              "       width=\"24px\">\n",
              "    <path d=\"M0 0h24v24H0V0z\" fill=\"none\"/>\n",
              "    <path d=\"M18.56 5.44l.94 2.06.94-2.06 2.06-.94-2.06-.94-.94-2.06-.94 2.06-2.06.94zm-11 1L8.5 8.5l.94-2.06 2.06-.94-2.06-.94L8.5 2.5l-.94 2.06-2.06.94zm10 10l.94 2.06.94-2.06 2.06-.94-2.06-.94-.94-2.06-.94 2.06-2.06.94z\"/><path d=\"M17.41 7.96l-1.37-1.37c-.4-.4-.92-.59-1.43-.59-.52 0-1.04.2-1.43.59L10.3 9.45l-7.72 7.72c-.78.78-.78 2.05 0 2.83L4 21.41c.39.39.9.59 1.41.59.51 0 1.02-.2 1.41-.59l7.78-7.78 2.81-2.81c.8-.78.8-2.07 0-2.86zM5.41 20L4 18.59l7.72-7.72 1.47 1.35L5.41 20z\"/>\n",
              "  </svg>\n",
              "      </button>\n",
              "      \n",
              "  <style>\n",
              "    .colab-df-container {\n",
              "      display:flex;\n",
              "      flex-wrap:wrap;\n",
              "      gap: 12px;\n",
              "    }\n",
              "\n",
              "    .colab-df-convert {\n",
              "      background-color: #E8F0FE;\n",
              "      border: none;\n",
              "      border-radius: 50%;\n",
              "      cursor: pointer;\n",
              "      display: none;\n",
              "      fill: #1967D2;\n",
              "      height: 32px;\n",
              "      padding: 0 0 0 0;\n",
              "      width: 32px;\n",
              "    }\n",
              "\n",
              "    .colab-df-convert:hover {\n",
              "      background-color: #E2EBFA;\n",
              "      box-shadow: 0px 1px 2px rgba(60, 64, 67, 0.3), 0px 1px 3px 1px rgba(60, 64, 67, 0.15);\n",
              "      fill: #174EA6;\n",
              "    }\n",
              "\n",
              "    [theme=dark] .colab-df-convert {\n",
              "      background-color: #3B4455;\n",
              "      fill: #D2E3FC;\n",
              "    }\n",
              "\n",
              "    [theme=dark] .colab-df-convert:hover {\n",
              "      background-color: #434B5C;\n",
              "      box-shadow: 0px 1px 3px 1px rgba(0, 0, 0, 0.15);\n",
              "      filter: drop-shadow(0px 1px 2px rgba(0, 0, 0, 0.3));\n",
              "      fill: #FFFFFF;\n",
              "    }\n",
              "  </style>\n",
              "\n",
              "      <script>\n",
              "        const buttonEl =\n",
              "          document.querySelector('#df-5a7a3f75-e760-4781-a2de-f1ac52607146 button.colab-df-convert');\n",
              "        buttonEl.style.display =\n",
              "          google.colab.kernel.accessAllowed ? 'block' : 'none';\n",
              "\n",
              "        async function convertToInteractive(key) {\n",
              "          const element = document.querySelector('#df-5a7a3f75-e760-4781-a2de-f1ac52607146');\n",
              "          const dataTable =\n",
              "            await google.colab.kernel.invokeFunction('convertToInteractive',\n",
              "                                                     [key], {});\n",
              "          if (!dataTable) return;\n",
              "\n",
              "          const docLinkHtml = 'Like what you see? Visit the ' +\n",
              "            '<a target=\"_blank\" href=https://colab.research.google.com/notebooks/data_table.ipynb>data table notebook</a>'\n",
              "            + ' to learn more about interactive tables.';\n",
              "          element.innerHTML = '';\n",
              "          dataTable['output_type'] = 'display_data';\n",
              "          await google.colab.output.renderOutput(dataTable, element);\n",
              "          const docLink = document.createElement('div');\n",
              "          docLink.innerHTML = docLinkHtml;\n",
              "          element.appendChild(docLink);\n",
              "        }\n",
              "      </script>\n",
              "    </div>\n",
              "  </div>\n",
              "  "
            ]
          },
          "metadata": {},
          "execution_count": 258
        }
      ]
    },
    {
      "cell_type": "code",
      "source": [
        "df.shape"
      ],
      "metadata": {
        "colab": {
          "base_uri": "https://localhost:8080/"
        },
        "id": "pJ-Z_Nq09PKf",
        "outputId": "854cbdd0-9b98-4a8d-83ba-e27f1e89fa31"
      },
      "execution_count": 259,
      "outputs": [
        {
          "output_type": "execute_result",
          "data": {
            "text/plain": [
              "(8523, 12)"
            ]
          },
          "metadata": {},
          "execution_count": 259
        }
      ]
    },
    {
      "cell_type": "code",
      "source": [
        "df.info()"
      ],
      "metadata": {
        "colab": {
          "base_uri": "https://localhost:8080/"
        },
        "id": "Wmvj-6h4-Vo9",
        "outputId": "c170ff38-e4ec-4eb4-ef1b-299a760e2ec5"
      },
      "execution_count": 260,
      "outputs": [
        {
          "output_type": "stream",
          "name": "stdout",
          "text": [
            "<class 'pandas.core.frame.DataFrame'>\n",
            "RangeIndex: 8523 entries, 0 to 8522\n",
            "Data columns (total 12 columns):\n",
            " #   Column                     Non-Null Count  Dtype  \n",
            "---  ------                     --------------  -----  \n",
            " 0   Item_Identifier            8523 non-null   object \n",
            " 1   Item_Weight                7060 non-null   float64\n",
            " 2   Item_Fat_Content           8523 non-null   object \n",
            " 3   Item_Visibility            8523 non-null   float64\n",
            " 4   Item_Type                  8523 non-null   object \n",
            " 5   Item_MRP                   8523 non-null   float64\n",
            " 6   Outlet_Identifier          8523 non-null   object \n",
            " 7   Outlet_Establishment_Year  8523 non-null   int64  \n",
            " 8   Outlet_Size                6113 non-null   object \n",
            " 9   Outlet_Location_Type       8523 non-null   object \n",
            " 10  Outlet_Type                8523 non-null   object \n",
            " 11  Item_Outlet_Sales          8523 non-null   float64\n",
            "dtypes: float64(4), int64(1), object(7)\n",
            "memory usage: 799.2+ KB\n"
          ]
        }
      ]
    },
    {
      "cell_type": "markdown",
      "source": [
        "![image.png](data:image/png;base64,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)"
      ],
      "metadata": {
        "id": "8t4OwCIG_YR6"
      }
    },
    {
      "cell_type": "code",
      "source": [
        "#checking for missing values\n",
        "df.isnull().sum()"
      ],
      "metadata": {
        "colab": {
          "base_uri": "https://localhost:8080/"
        },
        "id": "6e-yMKtO-nne",
        "outputId": "be5aa991-491e-48fc-9ec4-60a77c9ac587"
      },
      "execution_count": 261,
      "outputs": [
        {
          "output_type": "execute_result",
          "data": {
            "text/plain": [
              "Item_Identifier                 0\n",
              "Item_Weight                  1463\n",
              "Item_Fat_Content                0\n",
              "Item_Visibility                 0\n",
              "Item_Type                       0\n",
              "Item_MRP                        0\n",
              "Outlet_Identifier               0\n",
              "Outlet_Establishment_Year       0\n",
              "Outlet_Size                  2410\n",
              "Outlet_Location_Type            0\n",
              "Outlet_Type                     0\n",
              "Item_Outlet_Sales               0\n",
              "dtype: int64"
            ]
          },
          "metadata": {},
          "execution_count": 261
        }
      ]
    },
    {
      "cell_type": "code",
      "source": [
        "#handling missing values\n",
        "# Mean --> average value\n",
        "# Mode --> Most repeated value"
      ],
      "metadata": {
        "id": "HLElUbFv_lt2"
      },
      "execution_count": 262,
      "outputs": []
    },
    {
      "cell_type": "code",
      "source": [
        "#mean value of item weight column\n",
        "df['Item_Weight'].mean()"
      ],
      "metadata": {
        "colab": {
          "base_uri": "https://localhost:8080/"
        },
        "id": "2k6IcRp8_4EG",
        "outputId": "b7ad19b7-28ee-4409-c7a3-3af4d99ec30a"
      },
      "execution_count": 263,
      "outputs": [
        {
          "output_type": "execute_result",
          "data": {
            "text/plain": [
              "12.857645184135976"
            ]
          },
          "metadata": {},
          "execution_count": 263
        }
      ]
    },
    {
      "cell_type": "code",
      "source": [
        "#filling missing values in item weight column with mean value\n",
        "df['Item_Weight'].fillna(df['Item_Weight'].mean(),inplace=True)"
      ],
      "metadata": {
        "id": "I-2wBBFaAQKu"
      },
      "execution_count": 264,
      "outputs": []
    },
    {
      "cell_type": "code",
      "source": [
        "df.head()"
      ],
      "metadata": {
        "colab": {
          "base_uri": "https://localhost:8080/",
          "height": 357
        },
        "id": "1wulOvXDAjo-",
        "outputId": "c574919b-b339-4f65-d463-ea44bb477731"
      },
      "execution_count": 265,
      "outputs": [
        {
          "output_type": "execute_result",
          "data": {
            "text/plain": [
              "  Item_Identifier  Item_Weight  ...        Outlet_Type  Item_Outlet_Sales\n",
              "0           FDA15         9.30  ...  Supermarket Type1          3735.1380\n",
              "1           DRC01         5.92  ...  Supermarket Type2           443.4228\n",
              "2           FDN15        17.50  ...  Supermarket Type1          2097.2700\n",
              "3           FDX07        19.20  ...      Grocery Store           732.3800\n",
              "4           NCD19         8.93  ...  Supermarket Type1           994.7052\n",
              "\n",
              "[5 rows x 12 columns]"
            ],
            "text/html": [
              "\n",
              "  <div id=\"df-79641bbb-8257-4169-bcfe-2e9d3251f4bb\">\n",
              "    <div class=\"colab-df-container\">\n",
              "      <div>\n",
              "<style scoped>\n",
              "    .dataframe tbody tr th:only-of-type {\n",
              "        vertical-align: middle;\n",
              "    }\n",
              "\n",
              "    .dataframe tbody tr th {\n",
              "        vertical-align: top;\n",
              "    }\n",
              "\n",
              "    .dataframe thead th {\n",
              "        text-align: right;\n",
              "    }\n",
              "</style>\n",
              "<table border=\"1\" class=\"dataframe\">\n",
              "  <thead>\n",
              "    <tr style=\"text-align: right;\">\n",
              "      <th></th>\n",
              "      <th>Item_Identifier</th>\n",
              "      <th>Item_Weight</th>\n",
              "      <th>Item_Fat_Content</th>\n",
              "      <th>Item_Visibility</th>\n",
              "      <th>Item_Type</th>\n",
              "      <th>Item_MRP</th>\n",
              "      <th>Outlet_Identifier</th>\n",
              "      <th>Outlet_Establishment_Year</th>\n",
              "      <th>Outlet_Size</th>\n",
              "      <th>Outlet_Location_Type</th>\n",
              "      <th>Outlet_Type</th>\n",
              "      <th>Item_Outlet_Sales</th>\n",
              "    </tr>\n",
              "  </thead>\n",
              "  <tbody>\n",
              "    <tr>\n",
              "      <th>0</th>\n",
              "      <td>FDA15</td>\n",
              "      <td>9.30</td>\n",
              "      <td>Low Fat</td>\n",
              "      <td>0.016047</td>\n",
              "      <td>Dairy</td>\n",
              "      <td>249.8092</td>\n",
              "      <td>OUT049</td>\n",
              "      <td>1999</td>\n",
              "      <td>Medium</td>\n",
              "      <td>Tier 1</td>\n",
              "      <td>Supermarket Type1</td>\n",
              "      <td>3735.1380</td>\n",
              "    </tr>\n",
              "    <tr>\n",
              "      <th>1</th>\n",
              "      <td>DRC01</td>\n",
              "      <td>5.92</td>\n",
              "      <td>Regular</td>\n",
              "      <td>0.019278</td>\n",
              "      <td>Soft Drinks</td>\n",
              "      <td>48.2692</td>\n",
              "      <td>OUT018</td>\n",
              "      <td>2009</td>\n",
              "      <td>Medium</td>\n",
              "      <td>Tier 3</td>\n",
              "      <td>Supermarket Type2</td>\n",
              "      <td>443.4228</td>\n",
              "    </tr>\n",
              "    <tr>\n",
              "      <th>2</th>\n",
              "      <td>FDN15</td>\n",
              "      <td>17.50</td>\n",
              "      <td>Low Fat</td>\n",
              "      <td>0.016760</td>\n",
              "      <td>Meat</td>\n",
              "      <td>141.6180</td>\n",
              "      <td>OUT049</td>\n",
              "      <td>1999</td>\n",
              "      <td>Medium</td>\n",
              "      <td>Tier 1</td>\n",
              "      <td>Supermarket Type1</td>\n",
              "      <td>2097.2700</td>\n",
              "    </tr>\n",
              "    <tr>\n",
              "      <th>3</th>\n",
              "      <td>FDX07</td>\n",
              "      <td>19.20</td>\n",
              "      <td>Regular</td>\n",
              "      <td>0.000000</td>\n",
              "      <td>Fruits and Vegetables</td>\n",
              "      <td>182.0950</td>\n",
              "      <td>OUT010</td>\n",
              "      <td>1998</td>\n",
              "      <td>NaN</td>\n",
              "      <td>Tier 3</td>\n",
              "      <td>Grocery Store</td>\n",
              "      <td>732.3800</td>\n",
              "    </tr>\n",
              "    <tr>\n",
              "      <th>4</th>\n",
              "      <td>NCD19</td>\n",
              "      <td>8.93</td>\n",
              "      <td>Low Fat</td>\n",
              "      <td>0.000000</td>\n",
              "      <td>Household</td>\n",
              "      <td>53.8614</td>\n",
              "      <td>OUT013</td>\n",
              "      <td>1987</td>\n",
              "      <td>High</td>\n",
              "      <td>Tier 3</td>\n",
              "      <td>Supermarket Type1</td>\n",
              "      <td>994.7052</td>\n",
              "    </tr>\n",
              "  </tbody>\n",
              "</table>\n",
              "</div>\n",
              "      <button class=\"colab-df-convert\" onclick=\"convertToInteractive('df-79641bbb-8257-4169-bcfe-2e9d3251f4bb')\"\n",
              "              title=\"Convert this dataframe to an interactive table.\"\n",
              "              style=\"display:none;\">\n",
              "        \n",
              "  <svg xmlns=\"http://www.w3.org/2000/svg\" height=\"24px\"viewBox=\"0 0 24 24\"\n",
              "       width=\"24px\">\n",
              "    <path d=\"M0 0h24v24H0V0z\" fill=\"none\"/>\n",
              "    <path d=\"M18.56 5.44l.94 2.06.94-2.06 2.06-.94-2.06-.94-.94-2.06-.94 2.06-2.06.94zm-11 1L8.5 8.5l.94-2.06 2.06-.94-2.06-.94L8.5 2.5l-.94 2.06-2.06.94zm10 10l.94 2.06.94-2.06 2.06-.94-2.06-.94-.94-2.06-.94 2.06-2.06.94z\"/><path d=\"M17.41 7.96l-1.37-1.37c-.4-.4-.92-.59-1.43-.59-.52 0-1.04.2-1.43.59L10.3 9.45l-7.72 7.72c-.78.78-.78 2.05 0 2.83L4 21.41c.39.39.9.59 1.41.59.51 0 1.02-.2 1.41-.59l7.78-7.78 2.81-2.81c.8-.78.8-2.07 0-2.86zM5.41 20L4 18.59l7.72-7.72 1.47 1.35L5.41 20z\"/>\n",
              "  </svg>\n",
              "      </button>\n",
              "      \n",
              "  <style>\n",
              "    .colab-df-container {\n",
              "      display:flex;\n",
              "      flex-wrap:wrap;\n",
              "      gap: 12px;\n",
              "    }\n",
              "\n",
              "    .colab-df-convert {\n",
              "      background-color: #E8F0FE;\n",
              "      border: none;\n",
              "      border-radius: 50%;\n",
              "      cursor: pointer;\n",
              "      display: none;\n",
              "      fill: #1967D2;\n",
              "      height: 32px;\n",
              "      padding: 0 0 0 0;\n",
              "      width: 32px;\n",
              "    }\n",
              "\n",
              "    .colab-df-convert:hover {\n",
              "      background-color: #E2EBFA;\n",
              "      box-shadow: 0px 1px 2px rgba(60, 64, 67, 0.3), 0px 1px 3px 1px rgba(60, 64, 67, 0.15);\n",
              "      fill: #174EA6;\n",
              "    }\n",
              "\n",
              "    [theme=dark] .colab-df-convert {\n",
              "      background-color: #3B4455;\n",
              "      fill: #D2E3FC;\n",
              "    }\n",
              "\n",
              "    [theme=dark] .colab-df-convert:hover {\n",
              "      background-color: #434B5C;\n",
              "      box-shadow: 0px 1px 3px 1px rgba(0, 0, 0, 0.15);\n",
              "      filter: drop-shadow(0px 1px 2px rgba(0, 0, 0, 0.3));\n",
              "      fill: #FFFFFF;\n",
              "    }\n",
              "  </style>\n",
              "\n",
              "      <script>\n",
              "        const buttonEl =\n",
              "          document.querySelector('#df-79641bbb-8257-4169-bcfe-2e9d3251f4bb button.colab-df-convert');\n",
              "        buttonEl.style.display =\n",
              "          google.colab.kernel.accessAllowed ? 'block' : 'none';\n",
              "\n",
              "        async function convertToInteractive(key) {\n",
              "          const element = document.querySelector('#df-79641bbb-8257-4169-bcfe-2e9d3251f4bb');\n",
              "          const dataTable =\n",
              "            await google.colab.kernel.invokeFunction('convertToInteractive',\n",
              "                                                     [key], {});\n",
              "          if (!dataTable) return;\n",
              "\n",
              "          const docLinkHtml = 'Like what you see? Visit the ' +\n",
              "            '<a target=\"_blank\" href=https://colab.research.google.com/notebooks/data_table.ipynb>data table notebook</a>'\n",
              "            + ' to learn more about interactive tables.';\n",
              "          element.innerHTML = '';\n",
              "          dataTable['output_type'] = 'display_data';\n",
              "          await google.colab.output.renderOutput(dataTable, element);\n",
              "          const docLink = document.createElement('div');\n",
              "          docLink.innerHTML = docLinkHtml;\n",
              "          element.appendChild(docLink);\n",
              "        }\n",
              "      </script>\n",
              "    </div>\n",
              "  </div>\n",
              "  "
            ]
          },
          "metadata": {},
          "execution_count": 265
        }
      ]
    },
    {
      "cell_type": "code",
      "source": [
        "#checking for missing values\n",
        "df.isnull().sum()"
      ],
      "metadata": {
        "colab": {
          "base_uri": "https://localhost:8080/"
        },
        "id": "ZaONwouXAkc1",
        "outputId": "c83fff1b-908b-4212-e0ec-e5107d8be744"
      },
      "execution_count": 266,
      "outputs": [
        {
          "output_type": "execute_result",
          "data": {
            "text/plain": [
              "Item_Identifier                 0\n",
              "Item_Weight                     0\n",
              "Item_Fat_Content                0\n",
              "Item_Visibility                 0\n",
              "Item_Type                       0\n",
              "Item_MRP                        0\n",
              "Outlet_Identifier               0\n",
              "Outlet_Establishment_Year       0\n",
              "Outlet_Size                  2410\n",
              "Outlet_Location_Type            0\n",
              "Outlet_Type                     0\n",
              "Item_Outlet_Sales               0\n",
              "dtype: int64"
            ]
          },
          "metadata": {},
          "execution_count": 266
        }
      ]
    },
    {
      "cell_type": "code",
      "source": [
        "# Replacing the missing values in Outlet size with Mode\n",
        "mode_of_outlet_size = df.pivot_table(values='Outlet_Size',columns = 'Outlet_Type',aggfunc=(lambda x:x.mode()[0]))\n",
        "print(mode_of_outlet_size)"
      ],
      "metadata": {
        "colab": {
          "base_uri": "https://localhost:8080/"
        },
        "id": "0D5UsUyiAu8C",
        "outputId": "e152d819-97e9-4192-ee75-a6cf9ea854ab"
      },
      "execution_count": 267,
      "outputs": [
        {
          "output_type": "stream",
          "name": "stdout",
          "text": [
            "Outlet_Type Grocery Store Supermarket Type1 Supermarket Type2 Supermarket Type3\n",
            "Outlet_Size         Small             Small            Medium            Medium\n"
          ]
        }
      ]
    },
    {
      "cell_type": "code",
      "source": [
        "missing_values = df['Outlet_Size'].isnull()"
      ],
      "metadata": {
        "id": "XOFQnm72Be-2"
      },
      "execution_count": 268,
      "outputs": []
    },
    {
      "cell_type": "code",
      "source": [
        "print(missing_values)"
      ],
      "metadata": {
        "colab": {
          "base_uri": "https://localhost:8080/"
        },
        "id": "7Xni8YarCi6f",
        "outputId": "a302e10a-c229-457c-9283-925269b984eb"
      },
      "execution_count": 269,
      "outputs": [
        {
          "output_type": "stream",
          "name": "stdout",
          "text": [
            "0       False\n",
            "1       False\n",
            "2       False\n",
            "3        True\n",
            "4       False\n",
            "        ...  \n",
            "8518    False\n",
            "8519     True\n",
            "8520    False\n",
            "8521    False\n",
            "8522    False\n",
            "Name: Outlet_Size, Length: 8523, dtype: bool\n"
          ]
        }
      ]
    },
    {
      "cell_type": "code",
      "source": [
        "df.loc[missing_values,'Outlet_Size'] = df.loc[missing_values,'Outlet_Type'].apply(lambda x:mode_of_outlet_size[x])"
      ],
      "metadata": {
        "id": "K9FdPIEyClfV"
      },
      "execution_count": 270,
      "outputs": []
    },
    {
      "cell_type": "code",
      "source": [
        "#checking for missing values\n",
        "df.isnull().sum()"
      ],
      "metadata": {
        "colab": {
          "base_uri": "https://localhost:8080/"
        },
        "id": "1NIj2xRjDZ78",
        "outputId": "6b644bae-64c8-409a-8e6a-7a3de2a3b3e5"
      },
      "execution_count": 271,
      "outputs": [
        {
          "output_type": "execute_result",
          "data": {
            "text/plain": [
              "Item_Identifier              0\n",
              "Item_Weight                  0\n",
              "Item_Fat_Content             0\n",
              "Item_Visibility              0\n",
              "Item_Type                    0\n",
              "Item_MRP                     0\n",
              "Outlet_Identifier            0\n",
              "Outlet_Establishment_Year    0\n",
              "Outlet_Size                  0\n",
              "Outlet_Location_Type         0\n",
              "Outlet_Type                  0\n",
              "Item_Outlet_Sales            0\n",
              "dtype: int64"
            ]
          },
          "metadata": {},
          "execution_count": 271
        }
      ]
    },
    {
      "cell_type": "markdown",
      "source": [
        "Data Analysis"
      ],
      "metadata": {
        "id": "1NWyH7ImDsna"
      }
    },
    {
      "cell_type": "code",
      "source": [
        "df.describe()"
      ],
      "metadata": {
        "colab": {
          "base_uri": "https://localhost:8080/",
          "height": 300
        },
        "id": "w-sKXrDhDq1U",
        "outputId": "4eda7de8-0772-4280-f4d1-4d868476f619"
      },
      "execution_count": 272,
      "outputs": [
        {
          "output_type": "execute_result",
          "data": {
            "text/plain": [
              "       Item_Weight  ...  Item_Outlet_Sales\n",
              "count  8523.000000  ...        8523.000000\n",
              "mean     12.857645  ...        2181.288914\n",
              "std       4.226124  ...        1706.499616\n",
              "min       4.555000  ...          33.290000\n",
              "25%       9.310000  ...         834.247400\n",
              "50%      12.857645  ...        1794.331000\n",
              "75%      16.000000  ...        3101.296400\n",
              "max      21.350000  ...       13086.964800\n",
              "\n",
              "[8 rows x 5 columns]"
            ],
            "text/html": [
              "\n",
              "  <div id=\"df-2c7429d9-e2c7-4900-b1e6-cf47b3a4de03\">\n",
              "    <div class=\"colab-df-container\">\n",
              "      <div>\n",
              "<style scoped>\n",
              "    .dataframe tbody tr th:only-of-type {\n",
              "        vertical-align: middle;\n",
              "    }\n",
              "\n",
              "    .dataframe tbody tr th {\n",
              "        vertical-align: top;\n",
              "    }\n",
              "\n",
              "    .dataframe thead th {\n",
              "        text-align: right;\n",
              "    }\n",
              "</style>\n",
              "<table border=\"1\" class=\"dataframe\">\n",
              "  <thead>\n",
              "    <tr style=\"text-align: right;\">\n",
              "      <th></th>\n",
              "      <th>Item_Weight</th>\n",
              "      <th>Item_Visibility</th>\n",
              "      <th>Item_MRP</th>\n",
              "      <th>Outlet_Establishment_Year</th>\n",
              "      <th>Item_Outlet_Sales</th>\n",
              "    </tr>\n",
              "  </thead>\n",
              "  <tbody>\n",
              "    <tr>\n",
              "      <th>count</th>\n",
              "      <td>8523.000000</td>\n",
              "      <td>8523.000000</td>\n",
              "      <td>8523.000000</td>\n",
              "      <td>8523.000000</td>\n",
              "      <td>8523.000000</td>\n",
              "    </tr>\n",
              "    <tr>\n",
              "      <th>mean</th>\n",
              "      <td>12.857645</td>\n",
              "      <td>0.066132</td>\n",
              "      <td>140.992782</td>\n",
              "      <td>1997.831867</td>\n",
              "      <td>2181.288914</td>\n",
              "    </tr>\n",
              "    <tr>\n",
              "      <th>std</th>\n",
              "      <td>4.226124</td>\n",
              "      <td>0.051598</td>\n",
              "      <td>62.275067</td>\n",
              "      <td>8.371760</td>\n",
              "      <td>1706.499616</td>\n",
              "    </tr>\n",
              "    <tr>\n",
              "      <th>min</th>\n",
              "      <td>4.555000</td>\n",
              "      <td>0.000000</td>\n",
              "      <td>31.290000</td>\n",
              "      <td>1985.000000</td>\n",
              "      <td>33.290000</td>\n",
              "    </tr>\n",
              "    <tr>\n",
              "      <th>25%</th>\n",
              "      <td>9.310000</td>\n",
              "      <td>0.026989</td>\n",
              "      <td>93.826500</td>\n",
              "      <td>1987.000000</td>\n",
              "      <td>834.247400</td>\n",
              "    </tr>\n",
              "    <tr>\n",
              "      <th>50%</th>\n",
              "      <td>12.857645</td>\n",
              "      <td>0.053931</td>\n",
              "      <td>143.012800</td>\n",
              "      <td>1999.000000</td>\n",
              "      <td>1794.331000</td>\n",
              "    </tr>\n",
              "    <tr>\n",
              "      <th>75%</th>\n",
              "      <td>16.000000</td>\n",
              "      <td>0.094585</td>\n",
              "      <td>185.643700</td>\n",
              "      <td>2004.000000</td>\n",
              "      <td>3101.296400</td>\n",
              "    </tr>\n",
              "    <tr>\n",
              "      <th>max</th>\n",
              "      <td>21.350000</td>\n",
              "      <td>0.328391</td>\n",
              "      <td>266.888400</td>\n",
              "      <td>2009.000000</td>\n",
              "      <td>13086.964800</td>\n",
              "    </tr>\n",
              "  </tbody>\n",
              "</table>\n",
              "</div>\n",
              "      <button class=\"colab-df-convert\" onclick=\"convertToInteractive('df-2c7429d9-e2c7-4900-b1e6-cf47b3a4de03')\"\n",
              "              title=\"Convert this dataframe to an interactive table.\"\n",
              "              style=\"display:none;\">\n",
              "        \n",
              "  <svg xmlns=\"http://www.w3.org/2000/svg\" height=\"24px\"viewBox=\"0 0 24 24\"\n",
              "       width=\"24px\">\n",
              "    <path d=\"M0 0h24v24H0V0z\" fill=\"none\"/>\n",
              "    <path d=\"M18.56 5.44l.94 2.06.94-2.06 2.06-.94-2.06-.94-.94-2.06-.94 2.06-2.06.94zm-11 1L8.5 8.5l.94-2.06 2.06-.94-2.06-.94L8.5 2.5l-.94 2.06-2.06.94zm10 10l.94 2.06.94-2.06 2.06-.94-2.06-.94-.94-2.06-.94 2.06-2.06.94z\"/><path d=\"M17.41 7.96l-1.37-1.37c-.4-.4-.92-.59-1.43-.59-.52 0-1.04.2-1.43.59L10.3 9.45l-7.72 7.72c-.78.78-.78 2.05 0 2.83L4 21.41c.39.39.9.59 1.41.59.51 0 1.02-.2 1.41-.59l7.78-7.78 2.81-2.81c.8-.78.8-2.07 0-2.86zM5.41 20L4 18.59l7.72-7.72 1.47 1.35L5.41 20z\"/>\n",
              "  </svg>\n",
              "      </button>\n",
              "      \n",
              "  <style>\n",
              "    .colab-df-container {\n",
              "      display:flex;\n",
              "      flex-wrap:wrap;\n",
              "      gap: 12px;\n",
              "    }\n",
              "\n",
              "    .colab-df-convert {\n",
              "      background-color: #E8F0FE;\n",
              "      border: none;\n",
              "      border-radius: 50%;\n",
              "      cursor: pointer;\n",
              "      display: none;\n",
              "      fill: #1967D2;\n",
              "      height: 32px;\n",
              "      padding: 0 0 0 0;\n",
              "      width: 32px;\n",
              "    }\n",
              "\n",
              "    .colab-df-convert:hover {\n",
              "      background-color: #E2EBFA;\n",
              "      box-shadow: 0px 1px 2px rgba(60, 64, 67, 0.3), 0px 1px 3px 1px rgba(60, 64, 67, 0.15);\n",
              "      fill: #174EA6;\n",
              "    }\n",
              "\n",
              "    [theme=dark] .colab-df-convert {\n",
              "      background-color: #3B4455;\n",
              "      fill: #D2E3FC;\n",
              "    }\n",
              "\n",
              "    [theme=dark] .colab-df-convert:hover {\n",
              "      background-color: #434B5C;\n",
              "      box-shadow: 0px 1px 3px 1px rgba(0, 0, 0, 0.15);\n",
              "      filter: drop-shadow(0px 1px 2px rgba(0, 0, 0, 0.3));\n",
              "      fill: #FFFFFF;\n",
              "    }\n",
              "  </style>\n",
              "\n",
              "      <script>\n",
              "        const buttonEl =\n",
              "          document.querySelector('#df-2c7429d9-e2c7-4900-b1e6-cf47b3a4de03 button.colab-df-convert');\n",
              "        buttonEl.style.display =\n",
              "          google.colab.kernel.accessAllowed ? 'block' : 'none';\n",
              "\n",
              "        async function convertToInteractive(key) {\n",
              "          const element = document.querySelector('#df-2c7429d9-e2c7-4900-b1e6-cf47b3a4de03');\n",
              "          const dataTable =\n",
              "            await google.colab.kernel.invokeFunction('convertToInteractive',\n",
              "                                                     [key], {});\n",
              "          if (!dataTable) return;\n",
              "\n",
              "          const docLinkHtml = 'Like what you see? Visit the ' +\n",
              "            '<a target=\"_blank\" href=https://colab.research.google.com/notebooks/data_table.ipynb>data table notebook</a>'\n",
              "            + ' to learn more about interactive tables.';\n",
              "          element.innerHTML = '';\n",
              "          dataTable['output_type'] = 'display_data';\n",
              "          await google.colab.output.renderOutput(dataTable, element);\n",
              "          const docLink = document.createElement('div');\n",
              "          docLink.innerHTML = docLinkHtml;\n",
              "          element.appendChild(docLink);\n",
              "        }\n",
              "      </script>\n",
              "    </div>\n",
              "  </div>\n",
              "  "
            ]
          },
          "metadata": {},
          "execution_count": 272
        }
      ]
    },
    {
      "cell_type": "code",
      "source": [
        "#Numerical features\n",
        "sns.set()"
      ],
      "metadata": {
        "id": "5lMTV_a1Dwyj"
      },
      "execution_count": 273,
      "outputs": []
    },
    {
      "cell_type": "code",
      "source": [
        "#Item weight distribution\n",
        "plt.figure(figsize = (6,6))\n",
        "sns.distplot(df['Item_Weight'])\n",
        "plt.show()"
      ],
      "metadata": {
        "colab": {
          "base_uri": "https://localhost:8080/",
          "height": 742
        },
        "id": "mXrINa6GEE3T",
        "outputId": "27f32cbc-0b95-4940-b54a-c9de3ca9e667"
      },
      "execution_count": 274,
      "outputs": [
        {
          "output_type": "stream",
          "name": "stderr",
          "text": [
            "<ipython-input-274-2b194279a764>:3: UserWarning: \n",
            "\n",
            "`distplot` is a deprecated function and will be removed in seaborn v0.14.0.\n",
            "\n",
            "Please adapt your code to use either `displot` (a figure-level function with\n",
            "similar flexibility) or `histplot` (an axes-level function for histograms).\n",
            "\n",
            "For a guide to updating your code to use the new functions, please see\n",
            "https://gist.github.com/mwaskom/de44147ed2974457ad6372750bbe5751\n",
            "\n",
            "  sns.distplot(df['Item_Weight'])\n"
          ]
        },
        {
          "output_type": "display_data",
          "data": {
            "text/plain": [
              "<Figure size 600x600 with 1 Axes>"
            ],
            "image/png": "[encoded data removed]"
          },
          "metadata": {}
        }
      ]
    },
    {
      "cell_type": "code",
      "source": [
        "#Item Visibility distribution\n",
        "plt.figure(figsize = (6,6))\n",
        "sns.distplot(df['Item_Visibility'])\n",
        "plt.show()"
      ],
      "metadata": {
        "colab": {
          "base_uri": "https://localhost:8080/",
          "height": 742
        },
        "id": "-XDVblCzEV9j",
        "outputId": "b3bb3110-1555-4cec-f71f-d67f0a7c48c0"
      },
      "execution_count": 275,
      "outputs": [
        {
          "output_type": "stream",
          "name": "stderr",
          "text": [
            "<ipython-input-275-662979da2209>:3: UserWarning: \n",
            "\n",
            "`distplot` is a deprecated function and will be removed in seaborn v0.14.0.\n",
            "\n",
            "Please adapt your code to use either `displot` (a figure-level function with\n",
            "similar flexibility) or `histplot` (an axes-level function for histograms).\n",
            "\n",
            "For a guide to updating your code to use the new functions, please see\n",
            "https://gist.github.com/mwaskom/de44147ed2974457ad6372750bbe5751\n",
            "\n",
            "  sns.distplot(df['Item_Visibility'])\n"
          ]
        },
        {
          "output_type": "display_data",
          "data": {
            "text/plain": [
              "<Figure size 600x600 with 1 Axes>"
            ],
            "image/png": "[encoded data removed]"
          },
          "metadata": {}
        }
      ]
    },
    {
      "cell_type": "code",
      "source": [
        "#Item MRP distribution\n",
        "plt.figure(figsize = (6,6))\n",
        "sns.distplot(df['Item_MRP'])\n",
        "plt.show()"
      ],
      "metadata": {
        "colab": {
          "base_uri": "https://localhost:8080/",
          "height": 741
        },
        "id": "PRxmSnRCEZur",
        "outputId": "5240548e-6eeb-407b-b0a0-d8432358d987"
      },
      "execution_count": 276,
      "outputs": [
        {
          "output_type": "stream",
          "name": "stderr",
          "text": [
            "<ipython-input-276-68d60a0f0eb7>:3: UserWarning: \n",
            "\n",
            "`distplot` is a deprecated function and will be removed in seaborn v0.14.0.\n",
            "\n",
            "Please adapt your code to use either `displot` (a figure-level function with\n",
            "similar flexibility) or `histplot` (an axes-level function for histograms).\n",
            "\n",
            "For a guide to updating your code to use the new functions, please see\n",
            "https://gist.github.com/mwaskom/de44147ed2974457ad6372750bbe5751\n",
            "\n",
            "  sns.distplot(df['Item_MRP'])\n"
          ]
        },
        {
          "output_type": "display_data",
          "data": {
            "text/plain": [
              "<Figure size 600x600 with 1 Axes>"
            ],
            "image/png": "[encoded data removed]"
          },
          "metadata": {}
        }
      ]
    },
    {
      "cell_type": "code",
      "source": [
        "#Item_Outlet_Sales distribution\n",
        "plt.figure(figsize = (6,6))\n",
        "sns.distplot(df['Item_Outlet_Sales'])\n",
        "plt.show()"
      ],
      "metadata": {
        "colab": {
          "base_uri": "https://localhost:8080/",
          "height": 742
        },
        "id": "fIurVNq9E2s7",
        "outputId": "a5315868-1e2b-41ad-95c5-fd0c9923fbfa"
      },
      "execution_count": 277,
      "outputs": [
        {
          "output_type": "stream",
          "name": "stderr",
          "text": [
            "<ipython-input-277-04e94f880dbb>:3: UserWarning: \n",
            "\n",
            "`distplot` is a deprecated function and will be removed in seaborn v0.14.0.\n",
            "\n",
            "Please adapt your code to use either `displot` (a figure-level function with\n",
            "similar flexibility) or `histplot` (an axes-level function for histograms).\n",
            "\n",
            "For a guide to updating your code to use the new functions, please see\n",
            "https://gist.github.com/mwaskom/de44147ed2974457ad6372750bbe5751\n",
            "\n",
            "  sns.distplot(df['Item_Outlet_Sales'])\n"
          ]
        },
        {
          "output_type": "display_data",
          "data": {
            "text/plain": [
              "<Figure size 600x600 with 1 Axes>"
            ],
            "image/png": "[encoded data removed]"
          },
          "metadata": {}
        }
      ]
    },
    {
      "cell_type": "code",
      "source": [
        "#Outlet_Establishment_Year distribution\n",
        "plt.figure(figsize = (6,6))\n",
        "sns.countplot(x='Outlet_Establishment_Year',data=df)\n",
        "plt.show()"
      ],
      "metadata": {
        "colab": {
          "base_uri": "https://localhost:8080/",
          "height": 551
        },
        "id": "DvwbEzxnFFBS",
        "outputId": "48f3857d-f768-479d-f24e-a83acf662324"
      },
      "execution_count": 278,
      "outputs": [
        {
          "output_type": "display_data",
          "data": {
            "text/plain": [
              "<Figure size 600x600 with 1 Axes>"
            ],
            "image/png": "[encoded data removed]"
          },
          "metadata": {}
        }
      ]
    },
    {
      "cell_type": "markdown",
      "source": [
        "Categorical value"
      ],
      "metadata": {
        "id": "z3x10muqF4wE"
      }
    },
    {
      "cell_type": "code",
      "source": [
        "df.head()"
      ],
      "metadata": {
        "colab": {
          "base_uri": "https://localhost:8080/",
          "height": 357
        },
        "id": "yOV4KUH7FZYb",
        "outputId": "c56a25d4-d969-4e01-d6b9-23488f1a0df1"
      },
      "execution_count": 279,
      "outputs": [
        {
          "output_type": "execute_result",
          "data": {
            "text/plain": [
              "  Item_Identifier  Item_Weight  ...        Outlet_Type  Item_Outlet_Sales\n",
              "0           FDA15         9.30  ...  Supermarket Type1          3735.1380\n",
              "1           DRC01         5.92  ...  Supermarket Type2           443.4228\n",
              "2           FDN15        17.50  ...  Supermarket Type1          2097.2700\n",
              "3           FDX07        19.20  ...      Grocery Store           732.3800\n",
              "4           NCD19         8.93  ...  Supermarket Type1           994.7052\n",
              "\n",
              "[5 rows x 12 columns]"
            ],
            "text/html": [
              "\n",
              "  <div id=\"df-9b7ea789-557c-46ed-8068-22a39cadd0d3\">\n",
              "    <div class=\"colab-df-container\">\n",
              "      <div>\n",
              "<style scoped>\n",
              "    .dataframe tbody tr th:only-of-type {\n",
              "        vertical-align: middle;\n",
              "    }\n",
              "\n",
              "    .dataframe tbody tr th {\n",
              "        vertical-align: top;\n",
              "    }\n",
              "\n",
              "    .dataframe thead th {\n",
              "        text-align: right;\n",
              "    }\n",
              "</style>\n",
              "<table border=\"1\" class=\"dataframe\">\n",
              "  <thead>\n",
              "    <tr style=\"text-align: right;\">\n",
              "      <th></th>\n",
              "      <th>Item_Identifier</th>\n",
              "      <th>Item_Weight</th>\n",
              "      <th>Item_Fat_Content</th>\n",
              "      <th>Item_Visibility</th>\n",
              "      <th>Item_Type</th>\n",
              "      <th>Item_MRP</th>\n",
              "      <th>Outlet_Identifier</th>\n",
              "      <th>Outlet_Establishment_Year</th>\n",
              "      <th>Outlet_Size</th>\n",
              "      <th>Outlet_Location_Type</th>\n",
              "      <th>Outlet_Type</th>\n",
              "      <th>Item_Outlet_Sales</th>\n",
              "    </tr>\n",
              "  </thead>\n",
              "  <tbody>\n",
              "    <tr>\n",
              "      <th>0</th>\n",
              "      <td>FDA15</td>\n",
              "      <td>9.30</td>\n",
              "      <td>Low Fat</td>\n",
              "      <td>0.016047</td>\n",
              "      <td>Dairy</td>\n",
              "      <td>249.8092</td>\n",
              "      <td>OUT049</td>\n",
              "      <td>1999</td>\n",
              "      <td>Medium</td>\n",
              "      <td>Tier 1</td>\n",
              "      <td>Supermarket Type1</td>\n",
              "      <td>3735.1380</td>\n",
              "    </tr>\n",
              "    <tr>\n",
              "      <th>1</th>\n",
              "      <td>DRC01</td>\n",
              "      <td>5.92</td>\n",
              "      <td>Regular</td>\n",
              "      <td>0.019278</td>\n",
              "      <td>Soft Drinks</td>\n",
              "      <td>48.2692</td>\n",
              "      <td>OUT018</td>\n",
              "      <td>2009</td>\n",
              "      <td>Medium</td>\n",
              "      <td>Tier 3</td>\n",
              "      <td>Supermarket Type2</td>\n",
              "      <td>443.4228</td>\n",
              "    </tr>\n",
              "    <tr>\n",
              "      <th>2</th>\n",
              "      <td>FDN15</td>\n",
              "      <td>17.50</td>\n",
              "      <td>Low Fat</td>\n",
              "      <td>0.016760</td>\n",
              "      <td>Meat</td>\n",
              "      <td>141.6180</td>\n",
              "      <td>OUT049</td>\n",
              "      <td>1999</td>\n",
              "      <td>Medium</td>\n",
              "      <td>Tier 1</td>\n",
              "      <td>Supermarket Type1</td>\n",
              "      <td>2097.2700</td>\n",
              "    </tr>\n",
              "    <tr>\n",
              "      <th>3</th>\n",
              "      <td>FDX07</td>\n",
              "      <td>19.20</td>\n",
              "      <td>Regular</td>\n",
              "      <td>0.000000</td>\n",
              "      <td>Fruits and Vegetables</td>\n",
              "      <td>182.0950</td>\n",
              "      <td>OUT010</td>\n",
              "      <td>1998</td>\n",
              "      <td>Small</td>\n",
              "      <td>Tier 3</td>\n",
              "      <td>Grocery Store</td>\n",
              "      <td>732.3800</td>\n",
              "    </tr>\n",
              "    <tr>\n",
              "      <th>4</th>\n",
              "      <td>NCD19</td>\n",
              "      <td>8.93</td>\n",
              "      <td>Low Fat</td>\n",
              "      <td>0.000000</td>\n",
              "      <td>Household</td>\n",
              "      <td>53.8614</td>\n",
              "      <td>OUT013</td>\n",
              "      <td>1987</td>\n",
              "      <td>High</td>\n",
              "      <td>Tier 3</td>\n",
              "      <td>Supermarket Type1</td>\n",
              "      <td>994.7052</td>\n",
              "    </tr>\n",
              "  </tbody>\n",
              "</table>\n",
              "</div>\n",
              "      <button class=\"colab-df-convert\" onclick=\"convertToInteractive('df-9b7ea789-557c-46ed-8068-22a39cadd0d3')\"\n",
              "              title=\"Convert this dataframe to an interactive table.\"\n",
              "              style=\"display:none;\">\n",
              "        \n",
              "  <svg xmlns=\"http://www.w3.org/2000/svg\" height=\"24px\"viewBox=\"0 0 24 24\"\n",
              "       width=\"24px\">\n",
              "    <path d=\"M0 0h24v24H0V0z\" fill=\"none\"/>\n",
              "    <path d=\"M18.56 5.44l.94 2.06.94-2.06 2.06-.94-2.06-.94-.94-2.06-.94 2.06-2.06.94zm-11 1L8.5 8.5l.94-2.06 2.06-.94-2.06-.94L8.5 2.5l-.94 2.06-2.06.94zm10 10l.94 2.06.94-2.06 2.06-.94-2.06-.94-.94-2.06-.94 2.06-2.06.94z\"/><path d=\"M17.41 7.96l-1.37-1.37c-.4-.4-.92-.59-1.43-.59-.52 0-1.04.2-1.43.59L10.3 9.45l-7.72 7.72c-.78.78-.78 2.05 0 2.83L4 21.41c.39.39.9.59 1.41.59.51 0 1.02-.2 1.41-.59l7.78-7.78 2.81-2.81c.8-.78.8-2.07 0-2.86zM5.41 20L4 18.59l7.72-7.72 1.47 1.35L5.41 20z\"/>\n",
              "  </svg>\n",
              "      </button>\n",
              "      \n",
              "  <style>\n",
              "    .colab-df-container {\n",
              "      display:flex;\n",
              "      flex-wrap:wrap;\n",
              "      gap: 12px;\n",
              "    }\n",
              "\n",
              "    .colab-df-convert {\n",
              "      background-color: #E8F0FE;\n",
              "      border: none;\n",
              "      border-radius: 50%;\n",
              "      cursor: pointer;\n",
              "      display: none;\n",
              "      fill: #1967D2;\n",
              "      height: 32px;\n",
              "      padding: 0 0 0 0;\n",
              "      width: 32px;\n",
              "    }\n",
              "\n",
              "    .colab-df-convert:hover {\n",
              "      background-color: #E2EBFA;\n",
              "      box-shadow: 0px 1px 2px rgba(60, 64, 67, 0.3), 0px 1px 3px 1px rgba(60, 64, 67, 0.15);\n",
              "      fill: #174EA6;\n",
              "    }\n",
              "\n",
              "    [theme=dark] .colab-df-convert {\n",
              "      background-color: #3B4455;\n",
              "      fill: #D2E3FC;\n",
              "    }\n",
              "\n",
              "    [theme=dark] .colab-df-convert:hover {\n",
              "      background-color: #434B5C;\n",
              "      box-shadow: 0px 1px 3px 1px rgba(0, 0, 0, 0.15);\n",
              "      filter: drop-shadow(0px 1px 2px rgba(0, 0, 0, 0.3));\n",
              "      fill: #FFFFFF;\n",
              "    }\n",
              "  </style>\n",
              "\n",
              "      <script>\n",
              "        const buttonEl =\n",
              "          document.querySelector('#df-9b7ea789-557c-46ed-8068-22a39cadd0d3 button.colab-df-convert');\n",
              "        buttonEl.style.display =\n",
              "          google.colab.kernel.accessAllowed ? 'block' : 'none';\n",
              "\n",
              "        async function convertToInteractive(key) {\n",
              "          const element = document.querySelector('#df-9b7ea789-557c-46ed-8068-22a39cadd0d3');\n",
              "          const dataTable =\n",
              "            await google.colab.kernel.invokeFunction('convertToInteractive',\n",
              "                                                     [key], {});\n",
              "          if (!dataTable) return;\n",
              "\n",
              "          const docLinkHtml = 'Like what you see? Visit the ' +\n",
              "            '<a target=\"_blank\" href=https://colab.research.google.com/notebooks/data_table.ipynb>data table notebook</a>'\n",
              "            + ' to learn more about interactive tables.';\n",
              "          element.innerHTML = '';\n",
              "          dataTable['output_type'] = 'display_data';\n",
              "          await google.colab.output.renderOutput(dataTable, element);\n",
              "          const docLink = document.createElement('div');\n",
              "          docLink.innerHTML = docLinkHtml;\n",
              "          element.appendChild(docLink);\n",
              "        }\n",
              "      </script>\n",
              "    </div>\n",
              "  </div>\n",
              "  "
            ]
          },
          "metadata": {},
          "execution_count": 279
        }
      ]
    },
    {
      "cell_type": "code",
      "source": [
        "#Item_Fat_Content distribution\n",
        "plt.figure(figsize = (6,6))\n",
        "sns.countplot(x='Item_Fat_Content',data=df)\n",
        "plt.show()"
      ],
      "metadata": {
        "colab": {
          "base_uri": "https://localhost:8080/",
          "height": 550
        },
        "id": "c9eVga4CGA7S",
        "outputId": "14c1d227-1453-4af8-9b40-5306e5c05106"
      },
      "execution_count": 280,
      "outputs": [
        {
          "output_type": "display_data",
          "data": {
            "text/plain": [
              "<Figure size 600x600 with 1 Axes>"
            ],
            "image/png": "[encoded data removed]"
          },
          "metadata": {}
        }
      ]
    },
    {
      "cell_type": "code",
      "source": [
        "#Item_Type distribution\n",
        "plt.figure(figsize = (30,8))\n",
        "sns.countplot(x='Item_Type',data=df)\n",
        "plt.show()"
      ],
      "metadata": {
        "colab": {
          "base_uri": "https://localhost:8080/",
          "height": 418
        },
        "id": "ngHVUbt_GG0a",
        "outputId": "11b6a377-9ee3-4d76-dd28-0450615f4925"
      },
      "execution_count": 281,
      "outputs": [
        {
          "output_type": "display_data",
          "data": {
            "text/plain": [
              "<Figure size 3000x800 with 1 Axes>"
            ],
            "image/png": "[encoded data removed]"
          },
          "metadata": {}
        }
      ]
    },
    {
      "cell_type": "code",
      "source": [
        "\n",
        "# Outlet_Size column\n",
        "plt.figure(figsize=(6,6))\n",
        "sns.countplot(x='Outlet_Size', data=df)\n",
        "plt.show()"
      ],
      "metadata": {
        "colab": {
          "base_uri": "https://localhost:8080/",
          "height": 553
        },
        "id": "L25QDCiYGZBL",
        "outputId": "05da2c2e-f86f-4f3b-fa3a-e23b5591d516"
      },
      "execution_count": 282,
      "outputs": [
        {
          "output_type": "display_data",
          "data": {
            "text/plain": [
              "<Figure size 600x600 with 1 Axes>"
            ],
            "image/png": "[encoded data removed]"
          },
          "metadata": {}
        }
      ]
    },
    {
      "cell_type": "code",
      "source": [
        "df['Item_Fat_Content'].value_counts()"
      ],
      "metadata": {
        "colab": {
          "base_uri": "https://localhost:8080/"
        },
        "id": "5KlHeC9RGinb",
        "outputId": "f3682883-4b1f-4d90-953a-d45f69fd8062"
      },
      "execution_count": 283,
      "outputs": [
        {
          "output_type": "execute_result",
          "data": {
            "text/plain": [
              "Low Fat    5089\n",
              "Regular    2889\n",
              "LF          316\n",
              "reg         117\n",
              "low fat     112\n",
              "Name: Item_Fat_Content, dtype: int64"
            ]
          },
          "metadata": {},
          "execution_count": 283
        }
      ]
    },
    {
      "cell_type": "code",
      "source": [
        "df.replace({'Item_Fat_Content':{'low fat':'Low Fat','LF':'Low Fat','reg' : 'Regular'}},inplace=True)"
      ],
      "metadata": {
        "id": "kUhlDPK3I7cS"
      },
      "execution_count": 284,
      "outputs": []
    },
    {
      "cell_type": "code",
      "source": [
        "df.head()"
      ],
      "metadata": {
        "colab": {
          "base_uri": "https://localhost:8080/",
          "height": 357
        },
        "id": "Yc9DsmMhJXHi",
        "outputId": "036cb313-748a-48f2-ee6b-aa53eb07c8d2"
      },
      "execution_count": 285,
      "outputs": [
        {
          "output_type": "execute_result",
          "data": {
            "text/plain": [
              "  Item_Identifier  Item_Weight  ...        Outlet_Type  Item_Outlet_Sales\n",
              "0           FDA15         9.30  ...  Supermarket Type1          3735.1380\n",
              "1           DRC01         5.92  ...  Supermarket Type2           443.4228\n",
              "2           FDN15        17.50  ...  Supermarket Type1          2097.2700\n",
              "3           FDX07        19.20  ...      Grocery Store           732.3800\n",
              "4           NCD19         8.93  ...  Supermarket Type1           994.7052\n",
              "\n",
              "[5 rows x 12 columns]"
            ],
            "text/html": [
              "\n",
              "  <div id=\"df-b2d2b608-6f52-4bd0-b220-f44b83f08434\">\n",
              "    <div class=\"colab-df-container\">\n",
              "      <div>\n",
              "<style scoped>\n",
              "    .dataframe tbody tr th:only-of-type {\n",
              "        vertical-align: middle;\n",
              "    }\n",
              "\n",
              "    .dataframe tbody tr th {\n",
              "        vertical-align: top;\n",
              "    }\n",
              "\n",
              "    .dataframe thead th {\n",
              "        text-align: right;\n",
              "    }\n",
              "</style>\n",
              "<table border=\"1\" class=\"dataframe\">\n",
              "  <thead>\n",
              "    <tr style=\"text-align: right;\">\n",
              "      <th></th>\n",
              "      <th>Item_Identifier</th>\n",
              "      <th>Item_Weight</th>\n",
              "      <th>Item_Fat_Content</th>\n",
              "      <th>Item_Visibility</th>\n",
              "      <th>Item_Type</th>\n",
              "      <th>Item_MRP</th>\n",
              "      <th>Outlet_Identifier</th>\n",
              "      <th>Outlet_Establishment_Year</th>\n",
              "      <th>Outlet_Size</th>\n",
              "      <th>Outlet_Location_Type</th>\n",
              "      <th>Outlet_Type</th>\n",
              "      <th>Item_Outlet_Sales</th>\n",
              "    </tr>\n",
              "  </thead>\n",
              "  <tbody>\n",
              "    <tr>\n",
              "      <th>0</th>\n",
              "      <td>FDA15</td>\n",
              "      <td>9.30</td>\n",
              "      <td>Low Fat</td>\n",
              "      <td>0.016047</td>\n",
              "      <td>Dairy</td>\n",
              "      <td>249.8092</td>\n",
              "      <td>OUT049</td>\n",
              "      <td>1999</td>\n",
              "      <td>Medium</td>\n",
              "      <td>Tier 1</td>\n",
              "      <td>Supermarket Type1</td>\n",
              "      <td>3735.1380</td>\n",
              "    </tr>\n",
              "    <tr>\n",
              "      <th>1</th>\n",
              "      <td>DRC01</td>\n",
              "      <td>5.92</td>\n",
              "      <td>Regular</td>\n",
              "      <td>0.019278</td>\n",
              "      <td>Soft Drinks</td>\n",
              "      <td>48.2692</td>\n",
              "      <td>OUT018</td>\n",
              "      <td>2009</td>\n",
              "      <td>Medium</td>\n",
              "      <td>Tier 3</td>\n",
              "      <td>Supermarket Type2</td>\n",
              "      <td>443.4228</td>\n",
              "    </tr>\n",
              "    <tr>\n",
              "      <th>2</th>\n",
              "      <td>FDN15</td>\n",
              "      <td>17.50</td>\n",
              "      <td>Low Fat</td>\n",
              "      <td>0.016760</td>\n",
              "      <td>Meat</td>\n",
              "      <td>141.6180</td>\n",
              "      <td>OUT049</td>\n",
              "      <td>1999</td>\n",
              "      <td>Medium</td>\n",
              "      <td>Tier 1</td>\n",
              "      <td>Supermarket Type1</td>\n",
              "      <td>2097.2700</td>\n",
              "    </tr>\n",
              "    <tr>\n",
              "      <th>3</th>\n",
              "      <td>FDX07</td>\n",
              "      <td>19.20</td>\n",
              "      <td>Regular</td>\n",
              "      <td>0.000000</td>\n",
              "      <td>Fruits and Vegetables</td>\n",
              "      <td>182.0950</td>\n",
              "      <td>OUT010</td>\n",
              "      <td>1998</td>\n",
              "      <td>Small</td>\n",
              "      <td>Tier 3</td>\n",
              "      <td>Grocery Store</td>\n",
              "      <td>732.3800</td>\n",
              "    </tr>\n",
              "    <tr>\n",
              "      <th>4</th>\n",
              "      <td>NCD19</td>\n",
              "      <td>8.93</td>\n",
              "      <td>Low Fat</td>\n",
              "      <td>0.000000</td>\n",
              "      <td>Household</td>\n",
              "      <td>53.8614</td>\n",
              "      <td>OUT013</td>\n",
              "      <td>1987</td>\n",
              "      <td>High</td>\n",
              "      <td>Tier 3</td>\n",
              "      <td>Supermarket Type1</td>\n",
              "      <td>994.7052</td>\n",
              "    </tr>\n",
              "  </tbody>\n",
              "</table>\n",
              "</div>\n",
              "      <button class=\"colab-df-convert\" onclick=\"convertToInteractive('df-b2d2b608-6f52-4bd0-b220-f44b83f08434')\"\n",
              "              title=\"Convert this dataframe to an interactive table.\"\n",
              "              style=\"display:none;\">\n",
              "        \n",
              "  <svg xmlns=\"http://www.w3.org/2000/svg\" height=\"24px\"viewBox=\"0 0 24 24\"\n",
              "       width=\"24px\">\n",
              "    <path d=\"M0 0h24v24H0V0z\" fill=\"none\"/>\n",
              "    <path d=\"M18.56 5.44l.94 2.06.94-2.06 2.06-.94-2.06-.94-.94-2.06-.94 2.06-2.06.94zm-11 1L8.5 8.5l.94-2.06 2.06-.94-2.06-.94L8.5 2.5l-.94 2.06-2.06.94zm10 10l.94 2.06.94-2.06 2.06-.94-2.06-.94-.94-2.06-.94 2.06-2.06.94z\"/><path d=\"M17.41 7.96l-1.37-1.37c-.4-.4-.92-.59-1.43-.59-.52 0-1.04.2-1.43.59L10.3 9.45l-7.72 7.72c-.78.78-.78 2.05 0 2.83L4 21.41c.39.39.9.59 1.41.59.51 0 1.02-.2 1.41-.59l7.78-7.78 2.81-2.81c.8-.78.8-2.07 0-2.86zM5.41 20L4 18.59l7.72-7.72 1.47 1.35L5.41 20z\"/>\n",
              "  </svg>\n",
              "      </button>\n",
              "      \n",
              "  <style>\n",
              "    .colab-df-container {\n",
              "      display:flex;\n",
              "      flex-wrap:wrap;\n",
              "      gap: 12px;\n",
              "    }\n",
              "\n",
              "    .colab-df-convert {\n",
              "      background-color: #E8F0FE;\n",
              "      border: none;\n",
              "      border-radius: 50%;\n",
              "      cursor: pointer;\n",
              "      display: none;\n",
              "      fill: #1967D2;\n",
              "      height: 32px;\n",
              "      padding: 0 0 0 0;\n",
              "      width: 32px;\n",
              "    }\n",
              "\n",
              "    .colab-df-convert:hover {\n",
              "      background-color: #E2EBFA;\n",
              "      box-shadow: 0px 1px 2px rgba(60, 64, 67, 0.3), 0px 1px 3px 1px rgba(60, 64, 67, 0.15);\n",
              "      fill: #174EA6;\n",
              "    }\n",
              "\n",
              "    [theme=dark] .colab-df-convert {\n",
              "      background-color: #3B4455;\n",
              "      fill: #D2E3FC;\n",
              "    }\n",
              "\n",
              "    [theme=dark] .colab-df-convert:hover {\n",
              "      background-color: #434B5C;\n",
              "      box-shadow: 0px 1px 3px 1px rgba(0, 0, 0, 0.15);\n",
              "      filter: drop-shadow(0px 1px 2px rgba(0, 0, 0, 0.3));\n",
              "      fill: #FFFFFF;\n",
              "    }\n",
              "  </style>\n",
              "\n",
              "      <script>\n",
              "        const buttonEl =\n",
              "          document.querySelector('#df-b2d2b608-6f52-4bd0-b220-f44b83f08434 button.colab-df-convert');\n",
              "        buttonEl.style.display =\n",
              "          google.colab.kernel.accessAllowed ? 'block' : 'none';\n",
              "\n",
              "        async function convertToInteractive(key) {\n",
              "          const element = document.querySelector('#df-b2d2b608-6f52-4bd0-b220-f44b83f08434');\n",
              "          const dataTable =\n",
              "            await google.colab.kernel.invokeFunction('convertToInteractive',\n",
              "                                                     [key], {});\n",
              "          if (!dataTable) return;\n",
              "\n",
              "          const docLinkHtml = 'Like what you see? Visit the ' +\n",
              "            '<a target=\"_blank\" href=https://colab.research.google.com/notebooks/data_table.ipynb>data table notebook</a>'\n",
              "            + ' to learn more about interactive tables.';\n",
              "          element.innerHTML = '';\n",
              "          dataTable['output_type'] = 'display_data';\n",
              "          await google.colab.output.renderOutput(dataTable, element);\n",
              "          const docLink = document.createElement('div');\n",
              "          docLink.innerHTML = docLinkHtml;\n",
              "          element.appendChild(docLink);\n",
              "        }\n",
              "      </script>\n",
              "    </div>\n",
              "  </div>\n",
              "  "
            ]
          },
          "metadata": {},
          "execution_count": 285
        }
      ]
    },
    {
      "cell_type": "markdown",
      "source": [
        "Label Encoding"
      ],
      "metadata": {
        "id": "W8qLps4VJ3Az"
      }
    },
    {
      "cell_type": "code",
      "source": [
        "encoder = LabelEncoder()"
      ],
      "metadata": {
        "id": "F8SoSu0FJYKz"
      },
      "execution_count": 286,
      "outputs": []
    },
    {
      "cell_type": "code",
      "source": [
        "df['Item_Identifier']=encoder.fit_transform(df['Item_Identifier'])\n",
        "df['Item_Type']=encoder.fit_transform(df['Item_Type'])\n",
        "df['Item_Fat_Content']=encoder.fit_transform(df['Item_Fat_Content'])\n",
        "df['Outlet_Size']=encoder.fit_transform(df['Outlet_Size'])\n",
        "df['Outlet_Location_Type']=encoder.fit_transform(df['Outlet_Location_Type'])\n",
        "df['Outlet_Type']=encoder.fit_transform(df['Outlet_Type'])\n",
        "df['Outlet_Identifier']=encoder.fit_transform(df['Outlet_Identifier'])"
      ],
      "metadata": {
        "id": "bt-Rpsq8J_sa"
      },
      "execution_count": 287,
      "outputs": []
    },
    {
      "cell_type": "code",
      "source": [
        "df.head()"
      ],
      "metadata": {
        "colab": {
          "base_uri": "https://localhost:8080/",
          "height": 270
        },
        "id": "sZtHR9gQKM8i",
        "outputId": "eaec4c09-c980-41c9-a4c7-546f39c34d7c"
      },
      "execution_count": 288,
      "outputs": [
        {
          "output_type": "execute_result",
          "data": {
            "text/plain": [
              "   Item_Identifier  Item_Weight  ...  Outlet_Type  Item_Outlet_Sales\n",
              "0              156         9.30  ...            1          3735.1380\n",
              "1                8         5.92  ...            2           443.4228\n",
              "2              662        17.50  ...            1          2097.2700\n",
              "3             1121        19.20  ...            0           732.3800\n",
              "4             1297         8.93  ...            1           994.7052\n",
              "\n",
              "[5 rows x 12 columns]"
            ],
            "text/html": [
              "\n",
              "  <div id=\"df-f859c5a7-26d0-4822-89d4-758b92598ca8\">\n",
              "    <div class=\"colab-df-container\">\n",
              "      <div>\n",
              "<style scoped>\n",
              "    .dataframe tbody tr th:only-of-type {\n",
              "        vertical-align: middle;\n",
              "    }\n",
              "\n",
              "    .dataframe tbody tr th {\n",
              "        vertical-align: top;\n",
              "    }\n",
              "\n",
              "    .dataframe thead th {\n",
              "        text-align: right;\n",
              "    }\n",
              "</style>\n",
              "<table border=\"1\" class=\"dataframe\">\n",
              "  <thead>\n",
              "    <tr style=\"text-align: right;\">\n",
              "      <th></th>\n",
              "      <th>Item_Identifier</th>\n",
              "      <th>Item_Weight</th>\n",
              "      <th>Item_Fat_Content</th>\n",
              "      <th>Item_Visibility</th>\n",
              "      <th>Item_Type</th>\n",
              "      <th>Item_MRP</th>\n",
              "      <th>Outlet_Identifier</th>\n",
              "      <th>Outlet_Establishment_Year</th>\n",
              "      <th>Outlet_Size</th>\n",
              "      <th>Outlet_Location_Type</th>\n",
              "      <th>Outlet_Type</th>\n",
              "      <th>Item_Outlet_Sales</th>\n",
              "    </tr>\n",
              "  </thead>\n",
              "  <tbody>\n",
              "    <tr>\n",
              "      <th>0</th>\n",
              "      <td>156</td>\n",
              "      <td>9.30</td>\n",
              "      <td>0</td>\n",
              "      <td>0.016047</td>\n",
              "      <td>4</td>\n",
              "      <td>249.8092</td>\n",
              "      <td>9</td>\n",
              "      <td>1999</td>\n",
              "      <td>1</td>\n",
              "      <td>0</td>\n",
              "      <td>1</td>\n",
              "      <td>3735.1380</td>\n",
              "    </tr>\n",
              "    <tr>\n",
              "      <th>1</th>\n",
              "      <td>8</td>\n",
              "      <td>5.92</td>\n",
              "      <td>1</td>\n",
              "      <td>0.019278</td>\n",
              "      <td>14</td>\n",
              "      <td>48.2692</td>\n",
              "      <td>3</td>\n",
              "      <td>2009</td>\n",
              "      <td>1</td>\n",
              "      <td>2</td>\n",
              "      <td>2</td>\n",
              "      <td>443.4228</td>\n",
              "    </tr>\n",
              "    <tr>\n",
              "      <th>2</th>\n",
              "      <td>662</td>\n",
              "      <td>17.50</td>\n",
              "      <td>0</td>\n",
              "      <td>0.016760</td>\n",
              "      <td>10</td>\n",
              "      <td>141.6180</td>\n",
              "      <td>9</td>\n",
              "      <td>1999</td>\n",
              "      <td>1</td>\n",
              "      <td>0</td>\n",
              "      <td>1</td>\n",
              "      <td>2097.2700</td>\n",
              "    </tr>\n",
              "    <tr>\n",
              "      <th>3</th>\n",
              "      <td>1121</td>\n",
              "      <td>19.20</td>\n",
              "      <td>1</td>\n",
              "      <td>0.000000</td>\n",
              "      <td>6</td>\n",
              "      <td>182.0950</td>\n",
              "      <td>0</td>\n",
              "      <td>1998</td>\n",
              "      <td>2</td>\n",
              "      <td>2</td>\n",
              "      <td>0</td>\n",
              "      <td>732.3800</td>\n",
              "    </tr>\n",
              "    <tr>\n",
              "      <th>4</th>\n",
              "      <td>1297</td>\n",
              "      <td>8.93</td>\n",
              "      <td>0</td>\n",
              "      <td>0.000000</td>\n",
              "      <td>9</td>\n",
              "      <td>53.8614</td>\n",
              "      <td>1</td>\n",
              "      <td>1987</td>\n",
              "      <td>0</td>\n",
              "      <td>2</td>\n",
              "      <td>1</td>\n",
              "      <td>994.7052</td>\n",
              "    </tr>\n",
              "  </tbody>\n",
              "</table>\n",
              "</div>\n",
              "      <button class=\"colab-df-convert\" onclick=\"convertToInteractive('df-f859c5a7-26d0-4822-89d4-758b92598ca8')\"\n",
              "              title=\"Convert this dataframe to an interactive table.\"\n",
              "              style=\"display:none;\">\n",
              "        \n",
              "  <svg xmlns=\"http://www.w3.org/2000/svg\" height=\"24px\"viewBox=\"0 0 24 24\"\n",
              "       width=\"24px\">\n",
              "    <path d=\"M0 0h24v24H0V0z\" fill=\"none\"/>\n",
              "    <path d=\"M18.56 5.44l.94 2.06.94-2.06 2.06-.94-2.06-.94-.94-2.06-.94 2.06-2.06.94zm-11 1L8.5 8.5l.94-2.06 2.06-.94-2.06-.94L8.5 2.5l-.94 2.06-2.06.94zm10 10l.94 2.06.94-2.06 2.06-.94-2.06-.94-.94-2.06-.94 2.06-2.06.94z\"/><path d=\"M17.41 7.96l-1.37-1.37c-.4-.4-.92-.59-1.43-.59-.52 0-1.04.2-1.43.59L10.3 9.45l-7.72 7.72c-.78.78-.78 2.05 0 2.83L4 21.41c.39.39.9.59 1.41.59.51 0 1.02-.2 1.41-.59l7.78-7.78 2.81-2.81c.8-.78.8-2.07 0-2.86zM5.41 20L4 18.59l7.72-7.72 1.47 1.35L5.41 20z\"/>\n",
              "  </svg>\n",
              "      </button>\n",
              "      \n",
              "  <style>\n",
              "    .colab-df-container {\n",
              "      display:flex;\n",
              "      flex-wrap:wrap;\n",
              "      gap: 12px;\n",
              "    }\n",
              "\n",
              "    .colab-df-convert {\n",
              "      background-color: #E8F0FE;\n",
              "      border: none;\n",
              "      border-radius: 50%;\n",
              "      cursor: pointer;\n",
              "      display: none;\n",
              "      fill: #1967D2;\n",
              "      height: 32px;\n",
              "      padding: 0 0 0 0;\n",
              "      width: 32px;\n",
              "    }\n",
              "\n",
              "    .colab-df-convert:hover {\n",
              "      background-color: #E2EBFA;\n",
              "      box-shadow: 0px 1px 2px rgba(60, 64, 67, 0.3), 0px 1px 3px 1px rgba(60, 64, 67, 0.15);\n",
              "      fill: #174EA6;\n",
              "    }\n",
              "\n",
              "    [theme=dark] .colab-df-convert {\n",
              "      background-color: #3B4455;\n",
              "      fill: #D2E3FC;\n",
              "    }\n",
              "\n",
              "    [theme=dark] .colab-df-convert:hover {\n",
              "      background-color: #434B5C;\n",
              "      box-shadow: 0px 1px 3px 1px rgba(0, 0, 0, 0.15);\n",
              "      filter: drop-shadow(0px 1px 2px rgba(0, 0, 0, 0.3));\n",
              "      fill: #FFFFFF;\n",
              "    }\n",
              "  </style>\n",
              "\n",
              "      <script>\n",
              "        const buttonEl =\n",
              "          document.querySelector('#df-f859c5a7-26d0-4822-89d4-758b92598ca8 button.colab-df-convert');\n",
              "        buttonEl.style.display =\n",
              "          google.colab.kernel.accessAllowed ? 'block' : 'none';\n",
              "\n",
              "        async function convertToInteractive(key) {\n",
              "          const element = document.querySelector('#df-f859c5a7-26d0-4822-89d4-758b92598ca8');\n",
              "          const dataTable =\n",
              "            await google.colab.kernel.invokeFunction('convertToInteractive',\n",
              "                                                     [key], {});\n",
              "          if (!dataTable) return;\n",
              "\n",
              "          const docLinkHtml = 'Like what you see? Visit the ' +\n",
              "            '<a target=\"_blank\" href=https://colab.research.google.com/notebooks/data_table.ipynb>data table notebook</a>'\n",
              "            + ' to learn more about interactive tables.';\n",
              "          element.innerHTML = '';\n",
              "          dataTable['output_type'] = 'display_data';\n",
              "          await google.colab.output.renderOutput(dataTable, element);\n",
              "          const docLink = document.createElement('div');\n",
              "          docLink.innerHTML = docLinkHtml;\n",
              "          element.appendChild(docLink);\n",
              "        }\n",
              "      </script>\n",
              "    </div>\n",
              "  </div>\n",
              "  "
            ]
          },
          "metadata": {},
          "execution_count": 288
        }
      ]
    },
    {
      "cell_type": "markdown",
      "source": [
        "Splittong features and target"
      ],
      "metadata": {
        "id": "VWn_T7WKMdQF"
      }
    },
    {
      "cell_type": "code",
      "source": [
        "X = df.drop(columns = 'Item_Outlet_Sales',axis=1)\n",
        "Y = df['Item_Outlet_Sales']"
      ],
      "metadata": {
        "id": "_xVKXVKeKSIS"
      },
      "execution_count": 289,
      "outputs": []
    },
    {
      "cell_type": "code",
      "source": [
        "print(X)"
      ],
      "metadata": {
        "colab": {
          "base_uri": "https://localhost:8080/"
        },
        "id": "JVjNJn3cMqzi",
        "outputId": "ec925b8b-5e82-4cad-c466-a05ff3cc5b34"
      },
      "execution_count": 290,
      "outputs": [
        {
          "output_type": "stream",
          "name": "stdout",
          "text": [
            "      Item_Identifier  Item_Weight  ...  Outlet_Location_Type  Outlet_Type\n",
            "0                 156        9.300  ...                     0            1\n",
            "1                   8        5.920  ...                     2            2\n",
            "2                 662       17.500  ...                     0            1\n",
            "3                1121       19.200  ...                     2            0\n",
            "4                1297        8.930  ...                     2            1\n",
            "...               ...          ...  ...                   ...          ...\n",
            "8518              370        6.865  ...                     2            1\n",
            "8519              897        8.380  ...                     1            1\n",
            "8520             1357       10.600  ...                     1            1\n",
            "8521              681        7.210  ...                     2            2\n",
            "8522               50       14.800  ...                     0            1\n",
            "\n",
            "[8523 rows x 11 columns]\n"
          ]
        }
      ]
    },
    {
      "cell_type": "code",
      "source": [
        "print(Y)"
      ],
      "metadata": {
        "colab": {
          "base_uri": "https://localhost:8080/"
        },
        "id": "dD7ELvStMr3K",
        "outputId": "374f61bb-cba3-4361-b29f-522edf1bc22d"
      },
      "execution_count": 291,
      "outputs": [
        {
          "output_type": "stream",
          "name": "stdout",
          "text": [
            "0       3735.1380\n",
            "1        443.4228\n",
            "2       2097.2700\n",
            "3        732.3800\n",
            "4        994.7052\n",
            "          ...    \n",
            "8518    2778.3834\n",
            "8519     549.2850\n",
            "8520    1193.1136\n",
            "8521    1845.5976\n",
            "8522     765.6700\n",
            "Name: Item_Outlet_Sales, Length: 8523, dtype: float64\n"
          ]
        }
      ]
    },
    {
      "cell_type": "code",
      "source": [
        "#train test split\n",
        "X_train,X_test,Y_train,Y_test = train_test_split(X,Y,test_size=0.2,random_state=2)"
      ],
      "metadata": {
        "id": "T33m0c9hMtFq"
      },
      "execution_count": 292,
      "outputs": []
    },
    {
      "cell_type": "code",
      "source": [
        "print(X.shape,X_train.shape,X_test.shape,Y_train.shape,Y_test.shape)"
      ],
      "metadata": {
        "colab": {
          "base_uri": "https://localhost:8080/"
        },
        "id": "xHeXI6OVM6sy",
        "outputId": "62b30ef2-70c4-42eb-e641-fdf0c4505d4e"
      },
      "execution_count": 293,
      "outputs": [
        {
          "output_type": "stream",
          "name": "stdout",
          "text": [
            "(8523, 11) (6818, 11) (1705, 11) (6818,) (1705,)\n"
          ]
        }
      ]
    },
    {
      "cell_type": "markdown",
      "source": [
        "Machine Learning Model Training"
      ],
      "metadata": {
        "id": "MkfSly0HNRY-"
      }
    },
    {
      "cell_type": "code",
      "source": [
        "regressor = XGBRegressor()\n",
        "regressor.fit(X_train,Y_train)\n"
      ],
      "metadata": {
        "colab": {
          "base_uri": "https://localhost:8080/",
          "height": 248
        },
        "id": "StJqsb-1NB2i",
        "outputId": "e992184d-29ba-48ab-90c6-48759cb24753"
      },
      "execution_count": 294,
      "outputs": [
        {
          "output_type": "execute_result",
          "data": {
            "text/plain": [
              "XGBRegressor(base_score=None, booster=None, callbacks=None,\n",
              "             colsample_bylevel=None, colsample_bynode=None,\n",
              "             colsample_bytree=None, early_stopping_rounds=None,\n",
              "             enable_categorical=False, eval_metric=None, feature_types=None,\n",
              "             gamma=None, gpu_id=None, grow_policy=None, importance_type=None,\n",
              "             interaction_constraints=None, learning_rate=None, max_bin=None,\n",
              "             max_cat_threshold=None, max_cat_to_onehot=None,\n",
              "             max_delta_step=None, max_depth=None, max_leaves=None,\n",
              "             min_child_weight=None, missing=nan, monotone_constraints=None,\n",
              "             n_estimators=100, n_jobs=None, num_parallel_tree=None,\n",
              "             predictor=None, random_state=None, ...)"
            ],
            "text/html": [
              "<style>#sk-container-id-2 {color: black;background-color: white;}#sk-container-id-2 pre{padding: 0;}#sk-container-id-2 div.sk-toggleable {background-color: white;}#sk-container-id-2 label.sk-toggleable__label {cursor: pointer;display: block;width: 100%;margin-bottom: 0;padding: 0.3em;box-sizing: border-box;text-align: center;}#sk-container-id-2 label.sk-toggleable__label-arrow:before {content: \"▸\";float: left;margin-right: 0.25em;color: #696969;}#sk-container-id-2 label.sk-toggleable__label-arrow:hover:before {color: black;}#sk-container-id-2 div.sk-estimator:hover label.sk-toggleable__label-arrow:before {color: black;}#sk-container-id-2 div.sk-toggleable__content {max-height: 0;max-width: 0;overflow: hidden;text-align: left;background-color: #f0f8ff;}#sk-container-id-2 div.sk-toggleable__content pre {margin: 0.2em;color: black;border-radius: 0.25em;background-color: #f0f8ff;}#sk-container-id-2 input.sk-toggleable__control:checked~div.sk-toggleable__content {max-height: 200px;max-width: 100%;overflow: auto;}#sk-container-id-2 input.sk-toggleable__control:checked~label.sk-toggleable__label-arrow:before {content: \"▾\";}#sk-container-id-2 div.sk-estimator input.sk-toggleable__control:checked~label.sk-toggleable__label {background-color: #d4ebff;}#sk-container-id-2 div.sk-label input.sk-toggleable__control:checked~label.sk-toggleable__label {background-color: #d4ebff;}#sk-container-id-2 input.sk-hidden--visually {border: 0;clip: rect(1px 1px 1px 1px);clip: rect(1px, 1px, 1px, 1px);height: 1px;margin: -1px;overflow: hidden;padding: 0;position: absolute;width: 1px;}#sk-container-id-2 div.sk-estimator {font-family: monospace;background-color: #f0f8ff;border: 1px dotted black;border-radius: 0.25em;box-sizing: border-box;margin-bottom: 0.5em;}#sk-container-id-2 div.sk-estimator:hover {background-color: #d4ebff;}#sk-container-id-2 div.sk-parallel-item::after {content: \"\";width: 100%;border-bottom: 1px solid gray;flex-grow: 1;}#sk-container-id-2 div.sk-label:hover label.sk-toggleable__label {background-color: #d4ebff;}#sk-container-id-2 div.sk-serial::before {content: \"\";position: absolute;border-left: 1px solid gray;box-sizing: border-box;top: 0;bottom: 0;left: 50%;z-index: 0;}#sk-container-id-2 div.sk-serial {display: flex;flex-direction: column;align-items: center;background-color: white;padding-right: 0.2em;padding-left: 0.2em;position: relative;}#sk-container-id-2 div.sk-item {position: relative;z-index: 1;}#sk-container-id-2 div.sk-parallel {display: flex;align-items: stretch;justify-content: center;background-color: white;position: relative;}#sk-container-id-2 div.sk-item::before, #sk-container-id-2 div.sk-parallel-item::before {content: \"\";position: absolute;border-left: 1px solid gray;box-sizing: border-box;top: 0;bottom: 0;left: 50%;z-index: -1;}#sk-container-id-2 div.sk-parallel-item {display: flex;flex-direction: column;z-index: 1;position: relative;background-color: white;}#sk-container-id-2 div.sk-parallel-item:first-child::after {align-self: flex-end;width: 50%;}#sk-container-id-2 div.sk-parallel-item:last-child::after {align-self: flex-start;width: 50%;}#sk-container-id-2 div.sk-parallel-item:only-child::after {width: 0;}#sk-container-id-2 div.sk-dashed-wrapped {border: 1px dashed gray;margin: 0 0.4em 0.5em 0.4em;box-sizing: border-box;padding-bottom: 0.4em;background-color: white;}#sk-container-id-2 div.sk-label label {font-family: monospace;font-weight: bold;display: inline-block;line-height: 1.2em;}#sk-container-id-2 div.sk-label-container {text-align: center;}#sk-container-id-2 div.sk-container {/* jupyter's `normalize.less` sets `[hidden] { display: none; }` but bootstrap.min.css set `[hidden] { display: none !important; }` so we also need the `!important` here to be able to override the default hidden behavior on the sphinx rendered scikit-learn.org. See: https://github.com/scikit-learn/scikit-learn/issues/21755 */display: inline-block !important;position: relative;}#sk-container-id-2 div.sk-text-repr-fallback {display: none;}</style><div id=\"sk-container-id-2\" class=\"sk-top-container\"><div class=\"sk-text-repr-fallback\"><pre>XGBRegressor(base_score=None, booster=None, callbacks=None,\n",
              "             colsample_bylevel=None, colsample_bynode=None,\n",
              "             colsample_bytree=None, early_stopping_rounds=None,\n",
              "             enable_categorical=False, eval_metric=None, feature_types=None,\n",
              "             gamma=None, gpu_id=None, grow_policy=None, importance_type=None,\n",
              "             interaction_constraints=None, learning_rate=None, max_bin=None,\n",
              "             max_cat_threshold=None, max_cat_to_onehot=None,\n",
              "             max_delta_step=None, max_depth=None, max_leaves=None,\n",
              "             min_child_weight=None, missing=nan, monotone_constraints=None,\n",
              "             n_estimators=100, n_jobs=None, num_parallel_tree=None,\n",
              "             predictor=None, random_state=None, ...)</pre><b>In a Jupyter environment, please rerun this cell to show the HTML representation or trust the notebook. <br />On GitHub, the HTML representation is unable to render, please try loading this page with nbviewer.org.</b></div><div class=\"sk-container\" hidden><div class=\"sk-item\"><div class=\"sk-estimator sk-toggleable\"><input class=\"sk-toggleable__control sk-hidden--visually\" id=\"sk-estimator-id-2\" type=\"checkbox\" checked><label for=\"sk-estimator-id-2\" class=\"sk-toggleable__label sk-toggleable__label-arrow\">XGBRegressor</label><div class=\"sk-toggleable__content\"><pre>XGBRegressor(base_score=None, booster=None, callbacks=None,\n",
              "             colsample_bylevel=None, colsample_bynode=None,\n",
              "             colsample_bytree=None, early_stopping_rounds=None,\n",
              "             enable_categorical=False, eval_metric=None, feature_types=None,\n",
              "             gamma=None, gpu_id=None, grow_policy=None, importance_type=None,\n",
              "             interaction_constraints=None, learning_rate=None, max_bin=None,\n",
              "             max_cat_threshold=None, max_cat_to_onehot=None,\n",
              "             max_delta_step=None, max_depth=None, max_leaves=None,\n",
              "             min_child_weight=None, missing=nan, monotone_constraints=None,\n",
              "             n_estimators=100, n_jobs=None, num_parallel_tree=None,\n",
              "             predictor=None, random_state=None, ...)</pre></div></div></div></div></div>"
            ]
          },
          "metadata": {},
          "execution_count": 294
        }
      ]
    },
    {
      "cell_type": "markdown",
      "source": [
        "Evaluation"
      ],
      "metadata": {
        "id": "Utv00FcVNoqI"
      }
    },
    {
      "cell_type": "code",
      "source": [
        "train_data_prediction = regressor.predict(X_train)"
      ],
      "metadata": {
        "id": "kvwSZc2hNoGB"
      },
      "execution_count": 295,
      "outputs": []
    },
    {
      "cell_type": "code",
      "source": [
        "r2_train = metrics.r2_score(Y_train,train_data_prediction)"
      ],
      "metadata": {
        "id": "xcPcp0VEN5hJ"
      },
      "execution_count": 296,
      "outputs": []
    },
    {
      "cell_type": "code",
      "source": [
        "#R square value\n",
        "print(r2_train)"
      ],
      "metadata": {
        "colab": {
          "base_uri": "https://localhost:8080/"
        },
        "id": "DPyo2bggOJxp",
        "outputId": "a8e02548-825a-4f77-ffde-796e35beb509"
      },
      "execution_count": 297,
      "outputs": [
        {
          "output_type": "stream",
          "name": "stdout",
          "text": [
            "0.8639680373364909\n"
          ]
        }
      ]
    },
    {
      "cell_type": "code",
      "source": [
        "test_data_prediction = regressor.predict(X_test)\n",
        "r2_test = metrics.r2_score(Y_test,test_data_prediction)\n",
        "#R square value\n",
        "print(r2_test)"
      ],
      "metadata": {
        "colab": {
          "base_uri": "https://localhost:8080/"
        },
        "id": "QE_93FJJOLwR",
        "outputId": "84f63f7b-d556-42b6-d2b2-421342377a9d"
      },
      "execution_count": 298,
      "outputs": [
        {
          "output_type": "stream",
          "name": "stdout",
          "text": [
            "0.5233136709735687\n"
          ]
        }
      ]
    },
    {
      "cell_type": "code",
      "source": [],
      "metadata": {
        "id": "FgHLbVNxOsj6"
      },
      "execution_count": 298,
      "outputs": []
    }
  ]
}