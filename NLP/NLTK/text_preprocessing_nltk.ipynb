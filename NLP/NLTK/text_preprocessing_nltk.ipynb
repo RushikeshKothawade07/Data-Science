{
  "nbformat": 4,
  "nbformat_minor": 0,
  "metadata": {
    "colab": {
      "provenance": []
    },
    "kernelspec": {
      "name": "python3",
      "display_name": "Python 3"
    },
    "language_info": {
      "name": "python"
    }
  },
  "cells": [
    {
      "cell_type": "code",
      "execution_count": 1,
      "metadata": {
        "id": "Fa-uJqvQxuS9"
      },
      "outputs": [],
      "source": [
        "import nltk"
      ]
    },
    {
      "cell_type": "code",
      "source": [
        "nltk.download('punkt')"
      ],
      "metadata": {
        "colab": {
          "base_uri": "https://localhost:8080/"
        },
        "id": "ZdL_f3sZyOuL",
        "outputId": "177a6849-7813-4ec9-8e31-7460023a13d9"
      },
      "execution_count": 2,
      "outputs": [
        {
          "output_type": "stream",
          "name": "stderr",
          "text": [
            "[nltk_data] Downloading package punkt to /root/nltk_data...\n",
            "[nltk_data]   Unzipping tokenizers/punkt.zip.\n"
          ]
        },
        {
          "output_type": "execute_result",
          "data": {
            "text/plain": [
              "True"
            ]
          },
          "metadata": {},
          "execution_count": 2
        }
      ]
    },
    {
      "cell_type": "code",
      "source": [
        "text = \"Machine Learning is a Subset of Artificial intelligence, and it does with learning from data without being explicitly programmed\""
      ],
      "metadata": {
        "id": "d3KzzOhayUws"
      },
      "execution_count": 3,
      "outputs": []
    },
    {
      "cell_type": "code",
      "source": [
        "ml_tokens = nltk.word_tokenize(text)\n",
        "ml_tokens"
      ],
      "metadata": {
        "colab": {
          "base_uri": "https://localhost:8080/"
        },
        "id": "IMDTFRypykfD",
        "outputId": "9fe3b098-705a-4969-c4d3-138ff6268553"
      },
      "execution_count": 4,
      "outputs": [
        {
          "output_type": "execute_result",
          "data": {
            "text/plain": [
              "['Machine',\n",
              " 'Learning',\n",
              " 'is',\n",
              " 'a',\n",
              " 'Subset',\n",
              " 'of',\n",
              " 'Artificial',\n",
              " 'intelligence',\n",
              " ',',\n",
              " 'and',\n",
              " 'it',\n",
              " 'does',\n",
              " 'with',\n",
              " 'learning',\n",
              " 'from',\n",
              " 'data',\n",
              " 'without',\n",
              " 'being',\n",
              " 'explicitly',\n",
              " 'programmed']"
            ]
          },
          "metadata": {},
          "execution_count": 4
        }
      ]
    },
    {
      "cell_type": "code",
      "source": [
        "#bigrams, trigrams\n",
        "list(nltk.bigrams(ml_tokens))"
      ],
      "metadata": {
        "colab": {
          "base_uri": "https://localhost:8080/"
        },
        "id": "CE6gGjUoyoI3",
        "outputId": "1448b96c-72de-44fd-c251-e13189766cef"
      },
      "execution_count": 5,
      "outputs": [
        {
          "output_type": "execute_result",
          "data": {
            "text/plain": [
              "[('Machine', 'Learning'),\n",
              " ('Learning', 'is'),\n",
              " ('is', 'a'),\n",
              " ('a', 'Subset'),\n",
              " ('Subset', 'of'),\n",
              " ('of', 'Artificial'),\n",
              " ('Artificial', 'intelligence'),\n",
              " ('intelligence', ','),\n",
              " (',', 'and'),\n",
              " ('and', 'it'),\n",
              " ('it', 'does'),\n",
              " ('does', 'with'),\n",
              " ('with', 'learning'),\n",
              " ('learning', 'from'),\n",
              " ('from', 'data'),\n",
              " ('data', 'without'),\n",
              " ('without', 'being'),\n",
              " ('being', 'explicitly'),\n",
              " ('explicitly', 'programmed')]"
            ]
          },
          "metadata": {},
          "execution_count": 5
        }
      ]
    },
    {
      "cell_type": "code",
      "source": [
        "#bigrams, trigrams\n",
        "list(nltk.trigrams(ml_tokens))"
      ],
      "metadata": {
        "colab": {
          "base_uri": "https://localhost:8080/"
        },
        "id": "2tMs6uB1y29w",
        "outputId": "b972691f-3fd1-4079-bd9a-cb1289db7601"
      },
      "execution_count": 6,
      "outputs": [
        {
          "output_type": "execute_result",
          "data": {
            "text/plain": [
              "[('Machine', 'Learning', 'is'),\n",
              " ('Learning', 'is', 'a'),\n",
              " ('is', 'a', 'Subset'),\n",
              " ('a', 'Subset', 'of'),\n",
              " ('Subset', 'of', 'Artificial'),\n",
              " ('of', 'Artificial', 'intelligence'),\n",
              " ('Artificial', 'intelligence', ','),\n",
              " ('intelligence', ',', 'and'),\n",
              " (',', 'and', 'it'),\n",
              " ('and', 'it', 'does'),\n",
              " ('it', 'does', 'with'),\n",
              " ('does', 'with', 'learning'),\n",
              " ('with', 'learning', 'from'),\n",
              " ('learning', 'from', 'data'),\n",
              " ('from', 'data', 'without'),\n",
              " ('data', 'without', 'being'),\n",
              " ('without', 'being', 'explicitly'),\n",
              " ('being', 'explicitly', 'programmed')]"
            ]
          },
          "metadata": {},
          "execution_count": 6
        }
      ]
    },
    {
      "cell_type": "code",
      "source": [
        "nltk.download(\"averaged_perceptron_tagger\")"
      ],
      "metadata": {
        "colab": {
          "base_uri": "https://localhost:8080/"
        },
        "id": "PEX-y50ky_Ed",
        "outputId": "0c6d6c04-1312-456f-ac3d-9c32b78bd90d"
      },
      "execution_count": 7,
      "outputs": [
        {
          "output_type": "stream",
          "name": "stderr",
          "text": [
            "[nltk_data] Downloading package averaged_perceptron_tagger to\n",
            "[nltk_data]     /root/nltk_data...\n",
            "[nltk_data]   Unzipping taggers/averaged_perceptron_tagger.zip.\n"
          ]
        },
        {
          "output_type": "execute_result",
          "data": {
            "text/plain": [
              "True"
            ]
          },
          "metadata": {},
          "execution_count": 7
        }
      ]
    },
    {
      "cell_type": "code",
      "source": [
        "for token in ml_tokens:\n",
        "  print(nltk.pos_tag([token]))"
      ],
      "metadata": {
        "colab": {
          "base_uri": "https://localhost:8080/"
        },
        "id": "SNaQUCiA0xZu",
        "outputId": "3daef6cc-2113-4196-da9c-6f88eda4b29d"
      },
      "execution_count": 8,
      "outputs": [
        {
          "output_type": "stream",
          "name": "stdout",
          "text": [
            "[('Machine', 'NN')]\n",
            "[('Learning', 'VBG')]\n",
            "[('is', 'VBZ')]\n",
            "[('a', 'DT')]\n",
            "[('Subset', 'NN')]\n",
            "[('of', 'IN')]\n",
            "[('Artificial', 'JJ')]\n",
            "[('intelligence', 'NN')]\n",
            "[(',', ',')]\n",
            "[('and', 'CC')]\n",
            "[('it', 'PRP')]\n",
            "[('does', 'VBZ')]\n",
            "[('with', 'IN')]\n",
            "[('learning', 'VBG')]\n",
            "[('from', 'IN')]\n",
            "[('data', 'NNS')]\n",
            "[('without', 'IN')]\n",
            "[('being', 'VBG')]\n",
            "[('explicitly', 'RB')]\n",
            "[('programmed', 'NN')]\n"
          ]
        }
      ]
    },
    {
      "cell_type": "code",
      "source": [
        "sent = \"Jerry eats a banana\"\n",
        "tokens = nltk.word_tokenize(sent)\n",
        "for token in tokens:\n",
        "  print(nltk.pos_tag([token]))"
      ],
      "metadata": {
        "colab": {
          "base_uri": "https://localhost:8080/"
        },
        "id": "e99mwcJr050C",
        "outputId": "ae55edaa-9481-4679-c565-66334a59da40"
      },
      "execution_count": 9,
      "outputs": [
        {
          "output_type": "stream",
          "name": "stdout",
          "text": [
            "[('Jerry', 'NN')]\n",
            "[('eats', 'NNS')]\n",
            "[('a', 'DT')]\n",
            "[('banana', 'NN')]\n"
          ]
        }
      ]
    },
    {
      "cell_type": "code",
      "source": [
        "from nltk.tokenize import RegexpTokenizer\n",
        "reg_tokenizer = RegexpTokenizer('(?u)\\W+|\\$[\\d\\.]+|\\S+') \n",
        "tokens = reg_tokenizer.tokenize(sent)\n",
        "for token in tokens:\n",
        "  print(nltk.pos_tag([token]))"
      ],
      "metadata": {
        "colab": {
          "base_uri": "https://localhost:8080/"
        },
        "id": "3Q5Q5och1Xq4",
        "outputId": "9de5ccb5-6f75-4f2c-d7ad-93ff933c7bae"
      },
      "execution_count": 10,
      "outputs": [
        {
          "output_type": "stream",
          "name": "stdout",
          "text": [
            "[('Jerry', 'NN')]\n",
            "[(' ', 'NN')]\n",
            "[('eats', 'NNS')]\n",
            "[(' ', 'NN')]\n",
            "[('a', 'DT')]\n",
            "[(' ', 'NN')]\n",
            "[('banana', 'NN')]\n"
          ]
        }
      ]
    },
    {
      "cell_type": "code",
      "source": [
        "nltk.download('stopwords')\n",
        "from nltk.corpus import stopwords\n",
        "stop_words = stopwords.words('english')\n",
        "stop_words"
      ],
      "metadata": {
        "colab": {
          "base_uri": "https://localhost:8080/"
        },
        "id": "1sddvl832B5L",
        "outputId": "ab53a79e-8410-49b9-e64d-73d65c61de63"
      },
      "execution_count": 11,
      "outputs": [
        {
          "output_type": "stream",
          "name": "stderr",
          "text": [
            "[nltk_data] Downloading package stopwords to /root/nltk_data...\n",
            "[nltk_data]   Unzipping corpora/stopwords.zip.\n"
          ]
        },
        {
          "output_type": "execute_result",
          "data": {
            "text/plain": [
              "['i',\n",
              " 'me',\n",
              " 'my',\n",
              " 'myself',\n",
              " 'we',\n",
              " 'our',\n",
              " 'ours',\n",
              " 'ourselves',\n",
              " 'you',\n",
              " \"you're\",\n",
              " \"you've\",\n",
              " \"you'll\",\n",
              " \"you'd\",\n",
              " 'your',\n",
              " 'yours',\n",
              " 'yourself',\n",
              " 'yourselves',\n",
              " 'he',\n",
              " 'him',\n",
              " 'his',\n",
              " 'himself',\n",
              " 'she',\n",
              " \"she's\",\n",
              " 'her',\n",
              " 'hers',\n",
              " 'herself',\n",
              " 'it',\n",
              " \"it's\",\n",
              " 'its',\n",
              " 'itself',\n",
              " 'they',\n",
              " 'them',\n",
              " 'their',\n",
              " 'theirs',\n",
              " 'themselves',\n",
              " 'what',\n",
              " 'which',\n",
              " 'who',\n",
              " 'whom',\n",
              " 'this',\n",
              " 'that',\n",
              " \"that'll\",\n",
              " 'these',\n",
              " 'those',\n",
              " 'am',\n",
              " 'is',\n",
              " 'are',\n",
              " 'was',\n",
              " 'were',\n",
              " 'be',\n",
              " 'been',\n",
              " 'being',\n",
              " 'have',\n",
              " 'has',\n",
              " 'had',\n",
              " 'having',\n",
              " 'do',\n",
              " 'does',\n",
              " 'did',\n",
              " 'doing',\n",
              " 'a',\n",
              " 'an',\n",
              " 'the',\n",
              " 'and',\n",
              " 'but',\n",
              " 'if',\n",
              " 'or',\n",
              " 'because',\n",
              " 'as',\n",
              " 'until',\n",
              " 'while',\n",
              " 'of',\n",
              " 'at',\n",
              " 'by',\n",
              " 'for',\n",
              " 'with',\n",
              " 'about',\n",
              " 'against',\n",
              " 'between',\n",
              " 'into',\n",
              " 'through',\n",
              " 'during',\n",
              " 'before',\n",
              " 'after',\n",
              " 'above',\n",
              " 'below',\n",
              " 'to',\n",
              " 'from',\n",
              " 'up',\n",
              " 'down',\n",
              " 'in',\n",
              " 'out',\n",
              " 'on',\n",
              " 'off',\n",
              " 'over',\n",
              " 'under',\n",
              " 'again',\n",
              " 'further',\n",
              " 'then',\n",
              " 'once',\n",
              " 'here',\n",
              " 'there',\n",
              " 'when',\n",
              " 'where',\n",
              " 'why',\n",
              " 'how',\n",
              " 'all',\n",
              " 'any',\n",
              " 'both',\n",
              " 'each',\n",
              " 'few',\n",
              " 'more',\n",
              " 'most',\n",
              " 'other',\n",
              " 'some',\n",
              " 'such',\n",
              " 'no',\n",
              " 'nor',\n",
              " 'not',\n",
              " 'only',\n",
              " 'own',\n",
              " 'same',\n",
              " 'so',\n",
              " 'than',\n",
              " 'too',\n",
              " 'very',\n",
              " 's',\n",
              " 't',\n",
              " 'can',\n",
              " 'will',\n",
              " 'just',\n",
              " 'don',\n",
              " \"don't\",\n",
              " 'should',\n",
              " \"should've\",\n",
              " 'now',\n",
              " 'd',\n",
              " 'll',\n",
              " 'm',\n",
              " 'o',\n",
              " 're',\n",
              " 've',\n",
              " 'y',\n",
              " 'ain',\n",
              " 'aren',\n",
              " \"aren't\",\n",
              " 'couldn',\n",
              " \"couldn't\",\n",
              " 'didn',\n",
              " \"didn't\",\n",
              " 'doesn',\n",
              " \"doesn't\",\n",
              " 'hadn',\n",
              " \"hadn't\",\n",
              " 'hasn',\n",
              " \"hasn't\",\n",
              " 'haven',\n",
              " \"haven't\",\n",
              " 'isn',\n",
              " \"isn't\",\n",
              " 'ma',\n",
              " 'mightn',\n",
              " \"mightn't\",\n",
              " 'mustn',\n",
              " \"mustn't\",\n",
              " 'needn',\n",
              " \"needn't\",\n",
              " 'shan',\n",
              " \"shan't\",\n",
              " 'shouldn',\n",
              " \"shouldn't\",\n",
              " 'wasn',\n",
              " \"wasn't\",\n",
              " 'weren',\n",
              " \"weren't\",\n",
              " 'won',\n",
              " \"won't\",\n",
              " 'wouldn',\n",
              " \"wouldn't\"]"
            ]
          },
          "metadata": {},
          "execution_count": 11
        }
      ]
    },
    {
      "cell_type": "code",
      "source": [
        "filtered_data = [w for w in ml_tokens if not w in stop_words]\n",
        "filtered_data"
      ],
      "metadata": {
        "colab": {
          "base_uri": "https://localhost:8080/"
        },
        "id": "uzEQqAWS2eB3",
        "outputId": "70958981-c77e-41b1-d4f3-ef56386cf3ef"
      },
      "execution_count": 12,
      "outputs": [
        {
          "output_type": "execute_result",
          "data": {
            "text/plain": [
              "['Machine',\n",
              " 'Learning',\n",
              " 'Subset',\n",
              " 'Artificial',\n",
              " 'intelligence',\n",
              " ',',\n",
              " 'learning',\n",
              " 'data',\n",
              " 'without',\n",
              " 'explicitly',\n",
              " 'programmed']"
            ]
          },
          "metadata": {},
          "execution_count": 12
        }
      ]
    },
    {
      "cell_type": "code",
      "source": [
        "ml_tokens"
      ],
      "metadata": {
        "colab": {
          "base_uri": "https://localhost:8080/"
        },
        "id": "sCV5KZTH2r66",
        "outputId": "bce3c3dc-e407-4df5-99f8-6a76e09cee4c"
      },
      "execution_count": 13,
      "outputs": [
        {
          "output_type": "execute_result",
          "data": {
            "text/plain": [
              "['Machine',\n",
              " 'Learning',\n",
              " 'is',\n",
              " 'a',\n",
              " 'Subset',\n",
              " 'of',\n",
              " 'Artificial',\n",
              " 'intelligence',\n",
              " ',',\n",
              " 'and',\n",
              " 'it',\n",
              " 'does',\n",
              " 'with',\n",
              " 'learning',\n",
              " 'from',\n",
              " 'data',\n",
              " 'without',\n",
              " 'being',\n",
              " 'explicitly',\n",
              " 'programmed']"
            ]
          },
          "metadata": {},
          "execution_count": 13
        }
      ]
    },
    {
      "cell_type": "markdown",
      "source": [
        "# Stemming"
      ],
      "metadata": {
        "id": "_nPnRSbpDLUU"
      }
    },
    {
      "cell_type": "code",
      "source": [
        "from nltk.stem import PorterStemmer"
      ],
      "metadata": {
        "id": "ESen_77u2wQU"
      },
      "execution_count": 14,
      "outputs": []
    },
    {
      "cell_type": "code",
      "source": [
        "porter = PorterStemmer()\n",
        "words = ['generous', 'generate','genorously', 'generation']\n",
        "for word in words:\n",
        "  print(f\"{word} --> {porter.stem(word)}\")"
      ],
      "metadata": {
        "colab": {
          "base_uri": "https://localhost:8080/"
        },
        "id": "iievWIzQDOfg",
        "outputId": "cef342fa-4375-4119-f15a-28d6d3dda661"
      },
      "execution_count": 15,
      "outputs": [
        {
          "output_type": "stream",
          "name": "stdout",
          "text": [
            "generous --> gener\n",
            "generate --> gener\n",
            "genorously --> genor\n",
            "generation --> gener\n"
          ]
        }
      ]
    },
    {
      "cell_type": "code",
      "source": [
        "from nltk.stem import SnowballStemmer\n",
        "snowball = SnowballStemmer(language='english')\n",
        "words = ['generous', 'generate','genorously', 'generation']\n",
        "for word in words:\n",
        "  print(f\"{word} --> {snowball.stem(word)}\")"
      ],
      "metadata": {
        "colab": {
          "base_uri": "https://localhost:8080/"
        },
        "id": "SUQ-ISkcDnbl",
        "outputId": "bf8ce418-7a4a-46a5-f8d5-733eec4cec67"
      },
      "execution_count": 16,
      "outputs": [
        {
          "output_type": "stream",
          "name": "stdout",
          "text": [
            "generous --> generous\n",
            "generate --> generat\n",
            "genorously --> genor\n",
            "generation --> generat\n"
          ]
        }
      ]
    },
    {
      "cell_type": "code",
      "source": [
        "from nltk.stem import LancasterStemmer\n",
        "lan = LancasterStemmer()\n",
        "words = ['generous', 'generate','genorously', 'generation']\n",
        "for word in words:\n",
        "  print(f\"{word} --> {lan.stem(word)}\")"
      ],
      "metadata": {
        "colab": {
          "base_uri": "https://localhost:8080/"
        },
        "id": "7tJ3ajPED0CP",
        "outputId": "ffef2f45-b0f1-4770-c0e2-d889a801c4c8"
      },
      "execution_count": 17,
      "outputs": [
        {
          "output_type": "stream",
          "name": "stdout",
          "text": [
            "generous --> gen\n",
            "generate --> gen\n",
            "genorously --> gen\n",
            "generation --> gen\n"
          ]
        }
      ]
    },
    {
      "cell_type": "code",
      "source": [
        "from nltk.stem import RegexpStemmer\n",
        "reg = RegexpStemmer('ing|s$|ables$',min=4)\n",
        "words = ['generous', 'generate','genorously', 'generation']\n",
        "for word in words:\n",
        "  print(f\"{word} --> {reg.stem(word)}\")"
      ],
      "metadata": {
        "colab": {
          "base_uri": "https://localhost:8080/"
        },
        "id": "cbNf-1W4D-8K",
        "outputId": "49d4b9eb-4668-46f3-d487-173e4d4d7a87"
      },
      "execution_count": 18,
      "outputs": [
        {
          "output_type": "stream",
          "name": "stdout",
          "text": [
            "generous --> generou\n",
            "generate --> generate\n",
            "genorously --> genorously\n",
            "generation --> generation\n"
          ]
        }
      ]
    },
    {
      "cell_type": "markdown",
      "source": [
        "# Lemmatization"
      ],
      "metadata": {
        "id": "LyGmPL0FEfHy"
      }
    },
    {
      "cell_type": "code",
      "source": [
        "from nltk.stem import WordNetLemmatizer\n",
        "nltk.download('wordnet')\n",
        "nltk.download('omw-1.4')"
      ],
      "metadata": {
        "colab": {
          "base_uri": "https://localhost:8080/"
        },
        "id": "E-SjOibgEUXg",
        "outputId": "c6e42fbb-b172-4656-968b-e43813c0bc43"
      },
      "execution_count": 19,
      "outputs": [
        {
          "output_type": "stream",
          "name": "stderr",
          "text": [
            "[nltk_data] Downloading package wordnet to /root/nltk_data...\n",
            "[nltk_data] Downloading package omw-1.4 to /root/nltk_data...\n"
          ]
        },
        {
          "output_type": "execute_result",
          "data": {
            "text/plain": [
              "True"
            ]
          },
          "metadata": {},
          "execution_count": 19
        }
      ]
    },
    {
      "cell_type": "code",
      "source": [
        "lemma = WordNetLemmatizer()\n",
        "for word in words:\n",
        "  print(f\"{word} --> {lemma.lemmatize(word)}\")"
      ],
      "metadata": {
        "colab": {
          "base_uri": "https://localhost:8080/"
        },
        "id": "jRQmB5Y5El8H",
        "outputId": "e422c30d-3d3f-4290-8d1c-44e4f0b7d118"
      },
      "execution_count": 20,
      "outputs": [
        {
          "output_type": "stream",
          "name": "stdout",
          "text": [
            "generous --> generous\n",
            "generate --> generate\n",
            "genorously --> genorously\n",
            "generation --> generation\n"
          ]
        }
      ]
    },
    {
      "cell_type": "markdown",
      "source": [
        "# Word Sense Disambiguation"
      ],
      "metadata": {
        "id": "KWFVf3IMLEnY"
      }
    },
    {
      "cell_type": "code",
      "source": [
        "from nltk.wsd import lesk\n",
        "from nltk.tokenize import word_tokenize"
      ],
      "metadata": {
        "id": "I4KJ3QQCEsgb"
      },
      "execution_count": 21,
      "outputs": []
    },
    {
      "cell_type": "code",
      "source": [
        "a1= lesk(word_tokenize('The building has a device to jam the signal'),'jam')\n",
        "print(a1,a1.definition())\n",
        "a2 = lesk(word_tokenize('I am stuck in a traffic jam'),'jam')\n",
        "print(a2,a2.definition())"
      ],
      "metadata": {
        "colab": {
          "base_uri": "https://localhost:8080/"
        },
        "id": "DoKx51r6LH4M",
        "outputId": "b0d5c9fb-b457-4c4b-e3ca-28b8639d926e"
      },
      "execution_count": 22,
      "outputs": [
        {
          "output_type": "stream",
          "name": "stdout",
          "text": [
            "Synset('jamming.n.01') deliberate radiation or reflection of electromagnetic energy for the purpose of disrupting enemy use of electronic devices or systems\n",
            "Synset('jam.v.05') get stuck and immobilized\n"
          ]
        }
      ]
    },
    {
      "cell_type": "code",
      "source": [
        "a1= lesk(word_tokenize('what is the current time ?'),'current')\n",
        "print(a1,a1.definition())\n",
        "a2 = lesk(word_tokenize('air current'),'current')\n",
        "print(a2,a2.definition())"
      ],
      "metadata": {
        "colab": {
          "base_uri": "https://localhost:8080/"
        },
        "id": "RLT6lHNxLT6g",
        "outputId": "13d7a629-58cd-42e9-d406-81a362c55050"
      },
      "execution_count": 23,
      "outputs": [
        {
          "output_type": "stream",
          "name": "stdout",
          "text": [
            "Synset('current.a.01') occurring in or belonging to the present time\n",
            "Synset('stream.n.02') dominant course (suggestive of running water) of successive events or ideas\n"
          ]
        }
      ]
    },
    {
      "cell_type": "markdown",
      "source": [
        "# Named Entity Recognition"
      ],
      "metadata": {
        "id": "cf8lf_sdLwhK"
      }
    },
    {
      "cell_type": "code",
      "source": [
        "nltk.download('maxent_ne_chunker')\n",
        "nltk.download('words')"
      ],
      "metadata": {
        "colab": {
          "base_uri": "https://localhost:8080/"
        },
        "id": "WWI885GcLsHj",
        "outputId": "919996be-fcb7-487f-814e-6c585430f791"
      },
      "execution_count": 24,
      "outputs": [
        {
          "output_type": "stream",
          "name": "stderr",
          "text": [
            "[nltk_data] Downloading package maxent_ne_chunker to\n",
            "[nltk_data]     /root/nltk_data...\n",
            "[nltk_data]   Unzipping chunkers/maxent_ne_chunker.zip.\n",
            "[nltk_data] Downloading package words to /root/nltk_data...\n",
            "[nltk_data]   Unzipping corpora/words.zip.\n"
          ]
        },
        {
          "output_type": "execute_result",
          "data": {
            "text/plain": [
              "True"
            ]
          },
          "metadata": {},
          "execution_count": 24
        }
      ]
    },
    {
      "cell_type": "code",
      "source": [
        "text = \"Apple is an American company based out of California\"\n",
        "for w in nltk.word_tokenize(text):\n",
        "  for chunk in nltk.ne_chunk(nltk.pos_tag(nltk.word_tokenize(w))):\n",
        "     if hasattr(chunk, 'label'):\n",
        "        print(chunk.label(), ' '.join(c[0] for c in chunk))"
      ],
      "metadata": {
        "colab": {
          "base_uri": "https://localhost:8080/"
        },
        "id": "AM1agdPPMBcQ",
        "outputId": "679ce9ad-2817-4e40-efe1-8923e5e4e0cf"
      },
      "execution_count": 25,
      "outputs": [
        {
          "output_type": "stream",
          "name": "stdout",
          "text": [
            "GPE Apple\n",
            "GPE American\n",
            "GPE California\n"
          ]
        }
      ]
    },
    {
      "cell_type": "code",
      "source": [
        "text = \"Narendra Modi is the Prime Minister of India\"\n",
        "for w in nltk.word_tokenize(text):\n",
        "  for chunk in nltk.ne_chunk(nltk.pos_tag(nltk.word_tokenize(w))):\n",
        "     if hasattr(chunk, 'label'):\n",
        "        print(chunk.label(), ' '.join(c[0] for c in chunk))"
      ],
      "metadata": {
        "colab": {
          "base_uri": "https://localhost:8080/"
        },
        "id": "fc1dQbpqMHjK",
        "outputId": "c5d0995a-8557-4000-d0eb-0c9aa08d4167"
      },
      "execution_count": 26,
      "outputs": [
        {
          "output_type": "stream",
          "name": "stdout",
          "text": [
            "GPE Narendra\n",
            "GPE Modi\n",
            "GPE India\n"
          ]
        }
      ]
    },
    {
      "cell_type": "code",
      "source": [],
      "metadata": {
        "id": "XAgUN1nNP-Cr"
      },
      "execution_count": 26,
      "outputs": []
    }
  ]
}