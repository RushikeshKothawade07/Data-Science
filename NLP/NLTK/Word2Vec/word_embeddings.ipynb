{
  "nbformat": 4,
  "nbformat_minor": 0,
  "metadata": {
    "colab": {
      "provenance": []
    },
    "kernelspec": {
      "name": "python3",
      "display_name": "Python 3"
    },
    "language_info": {
      "name": "python"
    },
    "accelerator": "GPU",
    "gpuClass": "standard"
  },
  "cells": [
    {
      "cell_type": "code",
      "source": [
        "#word2vec\n",
        "# 100B words - google news dataset\n",
        "# 3 million words, each word has 300 features"
      ],
      "metadata": {
        "id": "ye4yhhyf81c7"
      },
      "execution_count": 2,
      "outputs": []
    },
    {
      "cell_type": "code",
      "source": [
        "!pip install gdown --upgrade \n",
        " # Place the Google Drive Sharing link\n",
        "file_share_link = \"https://drive.google.com/file/d/17j1_h2O4UOLe_jCjXpUf3iZ2W6n1gby1/view?usp=sharing\"\n",
        "\n",
        "# extract the ID of the file\n",
        "file_id = file_share_link[file_share_link.find(\"d/\")+2 : file_share_link.find(\"/v\")]\n",
        "print(file_id)\n",
        "!gdown \"$file_id\" # Download the data from Google Drive"
      ],
      "metadata": {
        "colab": {
          "base_uri": "https://localhost:8080/"
        },
        "id": "0M51EVnN6KNl",
        "outputId": "a8cbb018-afe4-4cfd-f195-baf3bd7edd30"
      },
      "execution_count": 3,
      "outputs": [
        {
          "output_type": "stream",
          "name": "stdout",
          "text": [
            "Looking in indexes: https://pypi.org/simple, https://us-python.pkg.dev/colab-wheels/public/simple/\n",
            "Requirement already satisfied: gdown in /usr/local/lib/python3.8/dist-packages (4.6.0)\n",
            "Requirement already satisfied: six in /usr/local/lib/python3.8/dist-packages (from gdown) (1.15.0)\n",
            "Requirement already satisfied: filelock in /usr/local/lib/python3.8/dist-packages (from gdown) (3.8.2)\n",
            "Requirement already satisfied: requests[socks] in /usr/local/lib/python3.8/dist-packages (from gdown) (2.23.0)\n",
            "Requirement already satisfied: beautifulsoup4 in /usr/local/lib/python3.8/dist-packages (from gdown) (4.6.3)\n",
            "Requirement already satisfied: tqdm in /usr/local/lib/python3.8/dist-packages (from gdown) (4.64.1)\n",
            "Requirement already satisfied: urllib3!=1.25.0,!=1.25.1,<1.26,>=1.21.1 in /usr/local/lib/python3.8/dist-packages (from requests[socks]->gdown) (1.24.3)\n",
            "Requirement already satisfied: idna<3,>=2.5 in /usr/local/lib/python3.8/dist-packages (from requests[socks]->gdown) (2.10)\n",
            "Requirement already satisfied: chardet<4,>=3.0.2 in /usr/local/lib/python3.8/dist-packages (from requests[socks]->gdown) (3.0.4)\n",
            "Requirement already satisfied: certifi>=2017.4.17 in /usr/local/lib/python3.8/dist-packages (from requests[socks]->gdown) (2022.12.7)\n",
            "Requirement already satisfied: PySocks!=1.5.7,>=1.5.6 in /usr/local/lib/python3.8/dist-packages (from requests[socks]->gdown) (1.7.1)\n",
            "17j1_h2O4UOLe_jCjXpUf3iZ2W6n1gby1\n",
            "Downloading...\n",
            "From: https://drive.google.com/uc?id=17j1_h2O4UOLe_jCjXpUf3iZ2W6n1gby1\n",
            "To: /content/GoogleNews-vectors-negative300.bin.gz\n",
            "100% 1.65G/1.65G [00:07<00:00, 222MB/s]\n"
          ]
        }
      ]
    },
    {
      "cell_type": "code",
      "source": [
        "!gunzip GoogleNews-vectors-negative300.bin.gz"
      ],
      "metadata": {
        "colab": {
          "base_uri": "https://localhost:8080/"
        },
        "id": "UL4PK4jm9XTb",
        "outputId": "c3ab5a3e-744b-46b4-b591-ed1ee134d106"
      },
      "execution_count": 4,
      "outputs": [
        {
          "output_type": "stream",
          "name": "stdout",
          "text": [
            "gzip: GoogleNews-vectors-negative300.bin already exists; do you wish to overwrite (y or n)? n\n",
            "\tnot overwritten\n"
          ]
        }
      ]
    },
    {
      "cell_type": "code",
      "source": [
        "# gensim\n",
        "import gensim\n",
        "\n",
        "model_path = \"/content/GoogleNews-vectors-negative300.bin\"\n",
        "\n",
        "model = gensim.models.KeyedVectors.load_word2vec_format(model_path,\n",
        "                                                         binary=True)"
      ],
      "metadata": {
        "id": "1ER7qVcd5nHj"
      },
      "execution_count": 5,
      "outputs": []
    },
    {
      "cell_type": "code",
      "source": [
        "from random import choice\n",
        "\n",
        "vocab = list(model.vocab.keys()) # list of vocabulary\n",
        "print(vocab[:5])"
      ],
      "metadata": {
        "colab": {
          "base_uri": "https://localhost:8080/"
        },
        "id": "umRIh8FW9WvM",
        "outputId": "8fbf3d9c-bab4-4edf-d8b3-a657e6442510"
      },
      "execution_count": 6,
      "outputs": [
        {
          "output_type": "stream",
          "name": "stdout",
          "text": [
            "['</s>', 'in', 'for', 'that', 'is']\n"
          ]
        }
      ]
    },
    {
      "cell_type": "code",
      "source": [
        "len(vocab) # 3 million"
      ],
      "metadata": {
        "colab": {
          "base_uri": "https://localhost:8080/"
        },
        "id": "_NqXRanG-PZA",
        "outputId": "7399a818-1dc1-4a7c-f479-922816649e71"
      },
      "execution_count": 7,
      "outputs": [
        {
          "output_type": "execute_result",
          "data": {
            "text/plain": [
              "3000000"
            ]
          },
          "metadata": {},
          "execution_count": 7
        }
      ]
    },
    {
      "cell_type": "code",
      "source": [
        "for i in range(10):\n",
        "  print(choice(vocab))"
      ],
      "metadata": {
        "colab": {
          "base_uri": "https://localhost:8080/"
        },
        "id": "UHbfxN41-Rgq",
        "outputId": "df2e3f79-9bf6-4988-edb8-3dd04d9a7a6c"
      },
      "execution_count": 8,
      "outputs": [
        {
          "output_type": "stream",
          "name": "stdout",
          "text": [
            "Giles_Foden\n",
            "Barnsdale\n",
            "Sandpiper_Golf_Course\n",
            "HMCS_Halifax\n",
            "Lt._Col._Ralph_Kauzlarich\n",
            "LTHS\n",
            "initials_AH\n",
            "Wolley\n",
            "maturing_FHLB_advances\n",
            "Painkiller_Overdose\n"
          ]
        }
      ]
    },
    {
      "cell_type": "code",
      "source": [
        "def check_vocab(vocab, check_words):\n",
        "  print(\"%40s %s\"%(\"Word\",\"Present\"))\n",
        "  print(\"%40s %s\"%(\"------\",\"------\"))\n",
        "\n",
        "  for word in check_words:\n",
        "    print(\"%40s  %s\"%(word, word in model.vocab))\n",
        "\n",
        "    if not word.lower() == word:\n",
        "      print(\"%40s  %s\"%(word, word.lower() in model.vocab))"
      ],
      "metadata": {
        "id": "pVWHimPx-axW"
      },
      "execution_count": 9,
      "outputs": []
    },
    {
      "cell_type": "code",
      "source": [
        "check_vocab(vocab, ['Narendra','trump','data','machine','nlp'])"
      ],
      "metadata": {
        "colab": {
          "base_uri": "https://localhost:8080/"
        },
        "id": "9Gmpt6Kn_XCW",
        "outputId": "b3c4d043-9d40-4677-d8db-e2a465433a39"
      },
      "execution_count": 10,
      "outputs": [
        {
          "output_type": "stream",
          "name": "stdout",
          "text": [
            "                                    Word Present\n",
            "                                  ------ ------\n",
            "                                Narendra  True\n",
            "                                Narendra  False\n",
            "                                   trump  True\n",
            "                                    data  True\n",
            "                                 machine  True\n",
            "                                     nlp  False\n"
          ]
        }
      ]
    },
    {
      "cell_type": "code",
      "source": [
        "check_vocab(vocab, ['Narendra_modi','donald_trump','united_states','united_kingdom'])"
      ],
      "metadata": {
        "colab": {
          "base_uri": "https://localhost:8080/"
        },
        "id": "VW0l0gOa_v2n",
        "outputId": "9e3c4b45-6e06-4b01-b9a2-4e86816463cd"
      },
      "execution_count": 11,
      "outputs": [
        {
          "output_type": "stream",
          "name": "stdout",
          "text": [
            "                                    Word Present\n",
            "                                  ------ ------\n",
            "                           Narendra_modi  False\n",
            "                           Narendra_modi  False\n",
            "                            donald_trump  True\n",
            "                           united_states  False\n",
            "                          united_kingdom  False\n"
          ]
        }
      ]
    },
    {
      "cell_type": "code",
      "source": [
        "check_vocab(vocab, ['Narendra_Modi','Donald_Trump','United_States','United_Kingdom'])"
      ],
      "metadata": {
        "colab": {
          "base_uri": "https://localhost:8080/"
        },
        "id": "cG369poq_1EU",
        "outputId": "7c74de7e-40ba-4e65-f5c7-31874e37762e"
      },
      "execution_count": 12,
      "outputs": [
        {
          "output_type": "stream",
          "name": "stdout",
          "text": [
            "                                    Word Present\n",
            "                                  ------ ------\n",
            "                           Narendra_Modi  True\n",
            "                           Narendra_Modi  False\n",
            "                            Donald_Trump  True\n",
            "                            Donald_Trump  True\n",
            "                           United_States  True\n",
            "                           United_States  False\n",
            "                          United_Kingdom  True\n",
            "                          United_Kingdom  False\n"
          ]
        }
      ]
    },
    {
      "cell_type": "code",
      "source": [
        "import matplotlib.pyplot as plt\n",
        "import seaborn as sns\n",
        "import numpy as np\n",
        "\n",
        "vector = model.word_vec(\"Narendra_Modi\")\n",
        "print(vector.shape)"
      ],
      "metadata": {
        "colab": {
          "base_uri": "https://localhost:8080/"
        },
        "id": "u0KC52VB_8sA",
        "outputId": "91250185-f2e1-4365-de39-7bb2d55ae982"
      },
      "execution_count": 13,
      "outputs": [
        {
          "output_type": "stream",
          "name": "stdout",
          "text": [
            "(300,)\n"
          ]
        }
      ]
    },
    {
      "cell_type": "code",
      "source": [
        "vector"
      ],
      "metadata": {
        "colab": {
          "base_uri": "https://localhost:8080/"
        },
        "id": "dz4PsDQdAaHb",
        "outputId": "f2f63633-ac06-4c56-c8bb-62d9cc1a94b7"
      },
      "execution_count": 14,
      "outputs": [
        {
          "output_type": "execute_result",
          "data": {
            "text/plain": [
              "array([ 2.42187500e-01,  2.28515625e-01,  3.43750000e-01,  5.31250000e-01,\n",
              "       -3.41796875e-01, -3.71093750e-01, -1.72851562e-01,  1.43554688e-01,\n",
              "        1.07421875e-01,  4.95605469e-02,  2.02636719e-02, -1.25976562e-01,\n",
              "       -3.08593750e-01, -9.46044922e-03, -1.79687500e-01,  2.55859375e-01,\n",
              "       -6.54296875e-02, -2.53906250e-01, -4.88281250e-02,  8.59375000e-02,\n",
              "        3.82812500e-01,  1.40625000e-01,  1.35742188e-01, -6.00585938e-02,\n",
              "       -1.85546875e-01,  1.56250000e-01, -9.57031250e-02, -2.89062500e-01,\n",
              "        5.15625000e-01,  3.18908691e-03, -2.50000000e-01, -1.73828125e-01,\n",
              "       -3.30078125e-01,  5.35156250e-01, -2.49023438e-01,  3.47656250e-01,\n",
              "       -2.04101562e-01, -2.04101562e-01,  3.76953125e-01, -5.68847656e-02,\n",
              "        4.25781250e-01, -6.25000000e-02,  3.08593750e-01,  4.49218750e-01,\n",
              "        2.37304688e-01, -4.60937500e-01, -1.67968750e-01,  1.08886719e-01,\n",
              "       -6.65283203e-03,  1.37695312e-01, -6.88476562e-02,  1.31835938e-01,\n",
              "        2.96875000e-01, -3.68652344e-02, -5.12695312e-02, -4.73632812e-02,\n",
              "       -1.41601562e-01, -2.41210938e-01, -4.63867188e-02, -1.97753906e-02,\n",
              "        6.88476562e-02,  3.20312500e-01, -9.08203125e-02, -6.00585938e-02,\n",
              "        8.34960938e-02,  8.78906250e-02, -1.50390625e-01,  1.34765625e-01,\n",
              "        1.42578125e-01, -1.24511719e-02, -3.61328125e-01,  2.85156250e-01,\n",
              "        1.77734375e-01, -2.18200684e-03,  4.22363281e-02, -3.33984375e-01,\n",
              "        9.61914062e-02, -1.33666992e-02,  6.33239746e-04, -9.09423828e-03,\n",
              "       -1.14257812e-01,  1.95312500e-01, -6.93359375e-02, -2.83203125e-01,\n",
              "       -5.12695312e-02,  1.85394287e-03,  2.51953125e-01,  2.88085938e-02,\n",
              "       -5.83496094e-02, -2.61718750e-01, -3.20312500e-01, -3.05175781e-04,\n",
              "       -4.45312500e-01,  4.56542969e-02, -1.30859375e-01, -2.48046875e-01,\n",
              "        1.61132812e-01,  1.49414062e-01,  4.16015625e-01,  1.34765625e-01,\n",
              "       -3.88671875e-01,  2.38281250e-01,  3.88671875e-01, -1.57226562e-01,\n",
              "        3.49426270e-03,  3.61328125e-02, -1.83593750e-01,  3.22265625e-01,\n",
              "       -3.19824219e-02, -2.71484375e-01, -1.70898438e-01, -3.28125000e-01,\n",
              "        3.92578125e-01,  6.68945312e-02,  3.67187500e-01,  1.11816406e-01,\n",
              "       -4.32128906e-02, -1.36718750e-01,  1.54296875e-01,  1.08886719e-01,\n",
              "       -4.00390625e-02,  5.46875000e-02, -5.00000000e-01,  1.75781250e-01,\n",
              "       -1.51367188e-01,  5.15625000e-01,  2.07519531e-02,  1.35742188e-01,\n",
              "       -3.39355469e-02, -1.60156250e-01, -2.25585938e-01,  1.95312500e-01,\n",
              "        8.59375000e-02, -1.70898438e-01, -1.31835938e-01, -2.24609375e-01,\n",
              "        2.58789062e-02,  1.58203125e-01,  2.03125000e-01,  2.91015625e-01,\n",
              "        3.22265625e-01,  5.07812500e-02, -1.05957031e-01, -4.39453125e-01,\n",
              "        8.64257812e-02, -2.98828125e-01,  2.98828125e-01,  5.44433594e-02,\n",
              "        2.29492188e-01,  1.82617188e-01,  5.00000000e-01, -2.61718750e-01,\n",
              "        1.57226562e-01, -1.29882812e-01, -4.25781250e-01, -2.81250000e-01,\n",
              "       -3.02734375e-01,  1.01074219e-01,  2.03125000e-01,  1.28906250e-01,\n",
              "        7.51953125e-02, -5.07812500e-01, -4.60815430e-03, -2.75390625e-01,\n",
              "        2.75390625e-01, -2.89062500e-01, -4.78515625e-02, -2.10937500e-01,\n",
              "        8.05664062e-02,  2.38281250e-01, -2.96875000e-01, -6.95312500e-01,\n",
              "       -5.00000000e-01,  3.29589844e-02, -1.34277344e-02, -5.66406250e-01,\n",
              "       -6.07910156e-02, -3.37890625e-01, -3.33984375e-01, -3.96484375e-01,\n",
              "        4.22363281e-02,  4.57031250e-01, -4.17968750e-01, -4.00390625e-01,\n",
              "        1.99218750e-01,  1.00585938e-01,  1.25000000e-01,  6.73828125e-02,\n",
              "        1.15234375e-01, -2.01416016e-02, -2.53906250e-01,  1.62109375e-01,\n",
              "       -3.47656250e-01, -1.20117188e-01,  3.75000000e-01, -2.85156250e-01,\n",
              "       -5.20019531e-02,  7.22656250e-02,  7.86132812e-02, -2.94921875e-01,\n",
              "       -3.43750000e-01, -1.64062500e-01, -7.61718750e-02, -4.10156250e-01,\n",
              "        1.73828125e-01, -7.08007812e-02,  1.71875000e-01, -3.80859375e-01,\n",
              "        2.01416016e-02, -2.22656250e-01, -3.28125000e-01,  7.69042969e-03,\n",
              "        1.97265625e-01, -4.33593750e-01,  4.19921875e-02,  1.79687500e-01,\n",
              "       -1.64794922e-03,  4.58984375e-01, -2.96875000e-01, -2.98828125e-01,\n",
              "       -1.49414062e-01,  2.30468750e-01, -1.35742188e-01,  2.14843750e-01,\n",
              "       -1.50390625e-01,  1.31835938e-01,  1.58203125e-01,  8.30078125e-02,\n",
              "        5.62500000e-01,  8.15429688e-02, -2.24609375e-01,  6.25000000e-02,\n",
              "        2.41210938e-01, -1.79687500e-01,  1.79687500e-01,  1.31835938e-01,\n",
              "        3.14453125e-01, -1.82617188e-01, -1.03515625e-01,  3.68652344e-02,\n",
              "        5.62500000e-01, -1.08398438e-01,  2.63671875e-01, -1.51367188e-01,\n",
              "       -4.33593750e-01, -3.53515625e-01, -1.61132812e-02,  1.22558594e-01,\n",
              "        4.73632812e-02, -6.59179688e-02, -1.00097656e-01, -1.76757812e-01,\n",
              "        1.22070312e-01,  3.69140625e-01,  4.19921875e-01,  1.99218750e-01,\n",
              "        2.71484375e-01,  1.87500000e-01, -4.10156250e-02, -3.67187500e-01,\n",
              "       -4.95605469e-02,  4.08203125e-01,  3.14941406e-02, -1.20117188e-01,\n",
              "        4.37011719e-02,  9.08203125e-02,  4.66308594e-02,  2.92968750e-03,\n",
              "        6.29882812e-02, -2.59765625e-01, -2.96875000e-01,  3.58886719e-02,\n",
              "        6.34765625e-02, -3.41796875e-02,  1.88476562e-01, -1.72851562e-01,\n",
              "        1.91406250e-01,  4.15039062e-02,  2.18750000e-01,  1.81884766e-02,\n",
              "        1.09863281e-01, -2.94189453e-02, -5.71289062e-02,  1.98242188e-01,\n",
              "       -1.80664062e-01,  1.97753906e-02, -1.61132812e-01, -3.68652344e-02,\n",
              "       -3.46679688e-02, -1.15722656e-01, -7.08007812e-02,  7.81250000e-02,\n",
              "       -2.12890625e-01,  5.71289062e-02,  3.14941406e-02,  1.95312500e-01,\n",
              "        2.53906250e-01, -1.71875000e-01, -2.64892578e-02,  2.06054688e-01],\n",
              "      dtype=float32)"
            ]
          },
          "metadata": {},
          "execution_count": 14
        }
      ]
    },
    {
      "cell_type": "code",
      "source": [
        "print(f\"Magnitude of a vector is {np.linalg.norm(vector)}\")"
      ],
      "metadata": {
        "colab": {
          "base_uri": "https://localhost:8080/"
        },
        "id": "ZXGhoYZ0AdRR",
        "outputId": "7c6f6ca8-68f3-4df7-e9ff-59a49f30689c"
      },
      "execution_count": 15,
      "outputs": [
        {
          "output_type": "stream",
          "name": "stdout",
          "text": [
            "Magnitude of a vector is 4.041469573974609\n"
          ]
        }
      ]
    },
    {
      "cell_type": "code",
      "source": [
        "sns.distplot(vector, kde=False, rug=True)\n",
        "plt.title(\"Histogram of feature vector\")\n",
        "plt.show()"
      ],
      "metadata": {
        "colab": {
          "base_uri": "https://localhost:8080/",
          "height": 375
        },
        "id": "7N1VTU4_AnU1",
        "outputId": "de395f3d-591d-46a2-d237-112b7567d74c"
      },
      "execution_count": 16,
      "outputs": [
        {
          "output_type": "stream",
          "name": "stderr",
          "text": [
            "/usr/local/lib/python3.8/dist-packages/seaborn/distributions.py:2619: FutureWarning: `distplot` is a deprecated function and will be removed in a future version. Please adapt your code to use either `displot` (a figure-level function with similar flexibility) or `histplot` (an axes-level function for histograms).\n",
            "  warnings.warn(msg, FutureWarning)\n",
            "/usr/local/lib/python3.8/dist-packages/seaborn/distributions.py:2103: FutureWarning: The `axis` variable is no longer used and will be removed. Instead, assign variables directly to `x` or `y`.\n",
            "  warnings.warn(msg, FutureWarning)\n"
          ]
        },
        {
          "output_type": "display_data",
          "data": {
            "text/plain": [
              "<Figure size 432x288 with 1 Axes>"
            ],
            "image/png": "[encoded data removed]"
          },
          "metadata": {
            "needs_background": "light"
          }
        }
      ]
    },
    {
      "cell_type": "markdown",
      "source": [
        "# Simialarity between the words"
      ],
      "metadata": {
        "id": "_Oxs34XCBnSJ"
      }
    },
    {
      "cell_type": "code",
      "source": [
        "word1 = 'bread'\n",
        "word2 = 'jam'\n",
        "score = model.similarity(word1,word2)\n",
        "print(f\"cosine similarity between {word1} & {word2} is {score}\")"
      ],
      "metadata": {
        "colab": {
          "base_uri": "https://localhost:8080/"
        },
        "id": "IcJd_MgUAwWP",
        "outputId": "b74497c2-3763-4bc0-f254-38504d0fc819"
      },
      "execution_count": 17,
      "outputs": [
        {
          "output_type": "stream",
          "name": "stdout",
          "text": [
            "cosine similarity between bread & jam is 0.22019492089748383\n"
          ]
        }
      ]
    },
    {
      "cell_type": "code",
      "source": [
        "word1 = 'bread'\n",
        "word2 = 'butter'\n",
        "score = model.similarity(word1,word2)\n",
        "print(f\"cosine similarity between {word1} & {word2} is {score}\")"
      ],
      "metadata": {
        "colab": {
          "base_uri": "https://localhost:8080/"
        },
        "id": "h8RWjAB7BTdL",
        "outputId": "c0e8c655-95fb-4a20-fa78-f1cd93e01c0b"
      },
      "execution_count": 18,
      "outputs": [
        {
          "output_type": "stream",
          "name": "stdout",
          "text": [
            "cosine similarity between bread & butter is 0.641726016998291\n"
          ]
        }
      ]
    },
    {
      "cell_type": "code",
      "source": [
        "word1 = 'cycle'\n",
        "word2 = 'bicycle'\n",
        "score = model.similarity(word1,word2)\n",
        "print(f\"cosine similarity between {word1} & {word2} is {score}\")"
      ],
      "metadata": {
        "colab": {
          "base_uri": "https://localhost:8080/"
        },
        "id": "vDZdcs2jBWeE",
        "outputId": "9cdbe766-8799-41c0-f694-4ae5c3c37442"
      },
      "execution_count": 19,
      "outputs": [
        {
          "output_type": "stream",
          "name": "stdout",
          "text": [
            "cosine similarity between cycle & bicycle is 0.16222114861011505\n"
          ]
        }
      ]
    },
    {
      "cell_type": "code",
      "source": [
        "word1 = 'couch'\n",
        "word2 = 'sofa'\n",
        "score = model.similarity(word1,word2)\n",
        "print(f\"cosine similarity between {word1} & {word2} is {score}\")"
      ],
      "metadata": {
        "colab": {
          "base_uri": "https://localhost:8080/"
        },
        "id": "qHsbOy6CBcU2",
        "outputId": "828a57a8-a8b1-40fe-9702-fff08b1752f9"
      },
      "execution_count": 20,
      "outputs": [
        {
          "output_type": "stream",
          "name": "stdout",
          "text": [
            "cosine similarity between couch & sofa is 0.8309178948402405\n"
          ]
        }
      ]
    },
    {
      "cell_type": "code",
      "source": [
        "# max = 1, min = -1"
      ],
      "metadata": {
        "id": "6PfxCnTHBfsQ"
      },
      "execution_count": 21,
      "outputs": []
    },
    {
      "cell_type": "markdown",
      "source": [
        "# Most Similar words"
      ],
      "metadata": {
        "id": "p8gRAHdTBqrW"
      }
    },
    {
      "cell_type": "code",
      "source": [
        "word = \"sofa\"\n",
        "results = model.most_similar(positive=word, topn=10)\n",
        "print(results)"
      ],
      "metadata": {
        "id": "vrrU8qfoBrm7"
      },
      "execution_count": null,
      "outputs": []
    },
    {
      "cell_type": "markdown",
      "source": [
        "# How to calculate the similarity score between two words"
      ],
      "metadata": {
        "id": "rVljFduTEGt4"
      }
    },
    {
      "cell_type": "code",
      "source": [
        "# cos(x,y) = x.y/mag(x)*(mag(y))"
      ],
      "metadata": {
        "id": "uSa9kb0hDaO6"
      },
      "execution_count": null,
      "outputs": []
    },
    {
      "cell_type": "code",
      "source": [
        "matrix = model.vectors\n",
        "print(\"shape of matrix is\",matrix.shape)"
      ],
      "metadata": {
        "colab": {
          "base_uri": "https://localhost:8080/"
        },
        "id": "zWnBZBxsEcJ1",
        "outputId": "ee84af1e-7bce-4d3a-a9da-505799c1c0cd"
      },
      "execution_count": 25,
      "outputs": [
        {
          "output_type": "stream",
          "name": "stdout",
          "text": [
            "shape of matrix is (3000000, 300)\n"
          ]
        }
      ]
    },
    {
      "cell_type": "code",
      "source": [
        "w1 = model.vocab['bread'].index\n",
        "w2 = model.vocab['butter'].index\n",
        "\n",
        "v1 = matrix[w1,:]\n",
        "v2 = matrix[w2,:]\n",
        "\n",
        "print(f\"Norm of bread is {np.linalg.norm(v1)}\")\n",
        "print(f\"Norm of butter is {np.linalg.norm(v2)}\")"
      ],
      "metadata": {
        "colab": {
          "base_uri": "https://localhost:8080/"
        },
        "id": "_5I9caWNEf68",
        "outputId": "a7a19acd-a0da-4673-c9ad-c679a09fc0be"
      },
      "execution_count": 26,
      "outputs": [
        {
          "output_type": "stream",
          "name": "stdout",
          "text": [
            "Norm of bread is 2.960254192352295\n",
            "Norm of butter is 3.1190855503082275\n"
          ]
        }
      ]
    },
    {
      "cell_type": "code",
      "source": [
        "cos_sim = (np.dot(v1,v2))/(np.linalg.norm(v1)*np.linalg.norm(v2))\n",
        "print(f'cosine similarity is {cos_sim}')"
      ],
      "metadata": {
        "colab": {
          "base_uri": "https://localhost:8080/"
        },
        "id": "TE1k7iEgE9H3",
        "outputId": "c6a245d0-1d35-4dc2-9e19-8b5e02d51e4f"
      },
      "execution_count": 27,
      "outputs": [
        {
          "output_type": "stream",
          "name": "stdout",
          "text": [
            "cosine similarity is 0.6417260766029358\n"
          ]
        }
      ]
    }
  ]
}